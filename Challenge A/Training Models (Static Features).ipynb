{
 "cells": [
  {
   "cell_type": "markdown",
   "id": "3595a951",
   "metadata": {},
   "source": [
    "<center><h1>Training models on the static features</h1></center>"
   ]
  },
  {
   "cell_type": "markdown",
   "id": "0a1a4702",
   "metadata": {},
   "source": [
    "This model and the features it uses are inspired by [this](https://ieeexplore.ieee.org/document/6512793) paper.\n",
    "<br>Reference: T. Seehapoch and S. Wongthanavasu, \"Speech emotion recognition using Support Vector Machines,\" 2013 5th International Conference on Knowledge and Smart Technology (KST), 2013, pp. 86-91, doi: 10.1109/KST.2013.6512793.\n"
   ]
  },
  {
   "cell_type": "markdown",
   "id": "82ff593e",
   "metadata": {},
   "source": [
    "[Support Vector Machine](#svm)<br>\n",
    "[Random Forest](#rf)<br>\n",
    "[K-Nearest Neighbours](#knn)<br>\n",
    "[Deep Neural Networks](#dnn)<br>"
   ]
  },
  {
   "cell_type": "code",
   "execution_count": 499,
   "id": "4033f1c5",
   "metadata": {},
   "outputs": [],
   "source": [
    "import numpy as np\n",
    "import pandas as pd\n",
    "import matplotlib.pyplot as plt\n",
    "import seaborn as sns\n",
    "from sklearn.preprocessing import StandardScaler, MinMaxScaler\n",
    "from sklearn.model_selection import StratifiedKFold, KFold, train_test_split\n",
    "from sklearn.svm import SVC\n",
    "from sklearn.ensemble import RandomForestClassifier\n",
    "from sklearn.metrics import f1_score, accuracy_score, confusion_matrix\n",
    "from sklearn.neighbors import KNeighborsClassifier\n",
    "from sklearn.base import clone\n",
    "\n",
    "import tensorflow as tf\n",
    "from tensorflow import keras\n",
    "from tensorflow.keras import layers, models\n",
    "\n",
    "import os"
   ]
  },
  {
   "cell_type": "code",
   "execution_count": 500,
   "id": "3c857122",
   "metadata": {},
   "outputs": [],
   "source": [
    "train_df = pd.read_csv(\"challengeA_data/2022challengeA_train_modified.csv\", index_col=[0])"
   ]
  },
  {
   "cell_type": "code",
   "execution_count": 501,
   "id": "4a045e29",
   "metadata": {},
   "outputs": [],
   "source": [
    "ext_features_df = pd.read_csv(\"challengeA_data/ext_features.csv\", index_col=[0])\n",
    "ext_features_df = ext_features_df.sample(frac=1).reset_index(drop=True)"
   ]
  },
  {
   "cell_type": "code",
   "execution_count": 502,
   "id": "72cfb920",
   "metadata": {},
   "outputs": [
    {
     "data": {
      "text/html": [
       "<div>\n",
       "<style scoped>\n",
       "    .dataframe tbody tr th:only-of-type {\n",
       "        vertical-align: middle;\n",
       "    }\n",
       "\n",
       "    .dataframe tbody tr th {\n",
       "        vertical-align: top;\n",
       "    }\n",
       "\n",
       "    .dataframe thead th {\n",
       "        text-align: right;\n",
       "    }\n",
       "</style>\n",
       "<table border=\"1\" class=\"dataframe\">\n",
       "  <thead>\n",
       "    <tr style=\"text-align: right;\">\n",
       "      <th></th>\n",
       "      <th>file_id</th>\n",
       "      <th>encoded_emotion</th>\n",
       "      <th>rms_max</th>\n",
       "      <th>rms_std</th>\n",
       "      <th>rms_mean</th>\n",
       "      <th>magnitude_max</th>\n",
       "      <th>magnitude_std</th>\n",
       "      <th>magnitude_mean</th>\n",
       "      <th>zero_crossing_rate</th>\n",
       "      <th>contrast_6</th>\n",
       "      <th>...</th>\n",
       "      <th>mfcc_mean_0</th>\n",
       "      <th>flatness</th>\n",
       "      <th>cent_max</th>\n",
       "      <th>cent_std</th>\n",
       "      <th>cent_mean</th>\n",
       "      <th>f0_mean</th>\n",
       "      <th>pitch_min</th>\n",
       "      <th>pitch_max</th>\n",
       "      <th>pitch_std</th>\n",
       "      <th>pitch_mean</th>\n",
       "    </tr>\n",
       "  </thead>\n",
       "  <tbody>\n",
       "    <tr>\n",
       "      <th>0</th>\n",
       "      <td>8f5f0f6c-e6b1-4603-afa6-e7176155c7f3.wav</td>\n",
       "      <td>1</td>\n",
       "      <td>0.023380</td>\n",
       "      <td>0.004144</td>\n",
       "      <td>0.005611</td>\n",
       "      <td>5.437861</td>\n",
       "      <td>0.152714</td>\n",
       "      <td>0.044005</td>\n",
       "      <td>0.079567</td>\n",
       "      <td>14.065644</td>\n",
       "      <td>...</td>\n",
       "      <td>-387.79260</td>\n",
       "      <td>0.018255</td>\n",
       "      <td>0.034096</td>\n",
       "      <td>0.006166</td>\n",
       "      <td>0.011765</td>\n",
       "      <td>165.138863</td>\n",
       "      <td>0.0</td>\n",
       "      <td>108.85178</td>\n",
       "      <td>44.747290</td>\n",
       "      <td>31.372272</td>\n",
       "    </tr>\n",
       "    <tr>\n",
       "      <th>1</th>\n",
       "      <td>12bb7625-46ce-4b76-8886-a92da273e394.wav</td>\n",
       "      <td>1</td>\n",
       "      <td>0.029089</td>\n",
       "      <td>0.008324</td>\n",
       "      <td>0.008068</td>\n",
       "      <td>5.872895</td>\n",
       "      <td>0.252164</td>\n",
       "      <td>0.070545</td>\n",
       "      <td>0.237549</td>\n",
       "      <td>30.046667</td>\n",
       "      <td>...</td>\n",
       "      <td>-397.66226</td>\n",
       "      <td>0.048525</td>\n",
       "      <td>0.028606</td>\n",
       "      <td>0.007406</td>\n",
       "      <td>0.012500</td>\n",
       "      <td>550.054129</td>\n",
       "      <td>0.0</td>\n",
       "      <td>233.07109</td>\n",
       "      <td>87.927536</td>\n",
       "      <td>44.962154</td>\n",
       "    </tr>\n",
       "    <tr>\n",
       "      <th>2</th>\n",
       "      <td>8072d9fe-6d8d-4789-9f9c-387260ebdce9.wav</td>\n",
       "      <td>4</td>\n",
       "      <td>0.080704</td>\n",
       "      <td>0.014806</td>\n",
       "      <td>0.015661</td>\n",
       "      <td>18.152110</td>\n",
       "      <td>0.474969</td>\n",
       "      <td>0.107434</td>\n",
       "      <td>0.071442</td>\n",
       "      <td>14.644104</td>\n",
       "      <td>...</td>\n",
       "      <td>-342.10333</td>\n",
       "      <td>0.014104</td>\n",
       "      <td>0.033310</td>\n",
       "      <td>0.005524</td>\n",
       "      <td>0.012500</td>\n",
       "      <td>136.590338</td>\n",
       "      <td>0.0</td>\n",
       "      <td>233.78384</td>\n",
       "      <td>108.888115</td>\n",
       "      <td>127.943010</td>\n",
       "    </tr>\n",
       "    <tr>\n",
       "      <th>3</th>\n",
       "      <td>dca54fbd-6a56-4bb6-85dc-40af591eec1a.wav</td>\n",
       "      <td>2</td>\n",
       "      <td>0.023229</td>\n",
       "      <td>0.003963</td>\n",
       "      <td>0.004630</td>\n",
       "      <td>5.122289</td>\n",
       "      <td>0.132685</td>\n",
       "      <td>0.036798</td>\n",
       "      <td>0.084008</td>\n",
       "      <td>16.124706</td>\n",
       "      <td>...</td>\n",
       "      <td>-423.92975</td>\n",
       "      <td>0.027967</td>\n",
       "      <td>0.034681</td>\n",
       "      <td>0.006787</td>\n",
       "      <td>0.011905</td>\n",
       "      <td>139.477979</td>\n",
       "      <td>0.0</td>\n",
       "      <td>171.74686</td>\n",
       "      <td>57.297115</td>\n",
       "      <td>24.280186</td>\n",
       "    </tr>\n",
       "    <tr>\n",
       "      <th>4</th>\n",
       "      <td>fa2cdb22-8344-4fda-91a7-1731a53c6d74.wav</td>\n",
       "      <td>5</td>\n",
       "      <td>0.021989</td>\n",
       "      <td>0.005699</td>\n",
       "      <td>0.007034</td>\n",
       "      <td>5.799113</td>\n",
       "      <td>0.202475</td>\n",
       "      <td>0.034168</td>\n",
       "      <td>0.104348</td>\n",
       "      <td>29.361339</td>\n",
       "      <td>...</td>\n",
       "      <td>-520.40960</td>\n",
       "      <td>0.016901</td>\n",
       "      <td>0.039005</td>\n",
       "      <td>0.010130</td>\n",
       "      <td>0.012346</td>\n",
       "      <td>477.912233</td>\n",
       "      <td>0.0</td>\n",
       "      <td>294.64500</td>\n",
       "      <td>37.794910</td>\n",
       "      <td>5.203894</td>\n",
       "    </tr>\n",
       "  </tbody>\n",
       "</table>\n",
       "<p>5 rows × 243 columns</p>\n",
       "</div>"
      ],
      "text/plain": [
       "                                    file_id  encoded_emotion   rms_max  \\\n",
       "0  8f5f0f6c-e6b1-4603-afa6-e7176155c7f3.wav                1  0.023380   \n",
       "1  12bb7625-46ce-4b76-8886-a92da273e394.wav                1  0.029089   \n",
       "2  8072d9fe-6d8d-4789-9f9c-387260ebdce9.wav                4  0.080704   \n",
       "3  dca54fbd-6a56-4bb6-85dc-40af591eec1a.wav                2  0.023229   \n",
       "4  fa2cdb22-8344-4fda-91a7-1731a53c6d74.wav                5  0.021989   \n",
       "\n",
       "    rms_std  rms_mean  magnitude_max  magnitude_std  magnitude_mean  \\\n",
       "0  0.004144  0.005611       5.437861       0.152714        0.044005   \n",
       "1  0.008324  0.008068       5.872895       0.252164        0.070545   \n",
       "2  0.014806  0.015661      18.152110       0.474969        0.107434   \n",
       "3  0.003963  0.004630       5.122289       0.132685        0.036798   \n",
       "4  0.005699  0.007034       5.799113       0.202475        0.034168   \n",
       "\n",
       "   zero_crossing_rate  contrast_6  ...  mfcc_mean_0  flatness  cent_max  \\\n",
       "0            0.079567   14.065644  ...   -387.79260  0.018255  0.034096   \n",
       "1            0.237549   30.046667  ...   -397.66226  0.048525  0.028606   \n",
       "2            0.071442   14.644104  ...   -342.10333  0.014104  0.033310   \n",
       "3            0.084008   16.124706  ...   -423.92975  0.027967  0.034681   \n",
       "4            0.104348   29.361339  ...   -520.40960  0.016901  0.039005   \n",
       "\n",
       "   cent_std  cent_mean     f0_mean  pitch_min  pitch_max   pitch_std  \\\n",
       "0  0.006166   0.011765  165.138863        0.0  108.85178   44.747290   \n",
       "1  0.007406   0.012500  550.054129        0.0  233.07109   87.927536   \n",
       "2  0.005524   0.012500  136.590338        0.0  233.78384  108.888115   \n",
       "3  0.006787   0.011905  139.477979        0.0  171.74686   57.297115   \n",
       "4  0.010130   0.012346  477.912233        0.0  294.64500   37.794910   \n",
       "\n",
       "   pitch_mean  \n",
       "0   31.372272  \n",
       "1   44.962154  \n",
       "2  127.943010  \n",
       "3   24.280186  \n",
       "4    5.203894  \n",
       "\n",
       "[5 rows x 243 columns]"
      ]
     },
     "execution_count": 502,
     "metadata": {},
     "output_type": "execute_result"
    }
   ],
   "source": [
    "ext_features_df.head()"
   ]
  },
  {
   "cell_type": "code",
   "execution_count": 503,
   "id": "fb61c5dd",
   "metadata": {},
   "outputs": [],
   "source": [
    "# include all features except for the file_id and the label\n",
    "features_to_include = ext_features_df.columns[~ext_features_df.columns.isin([\"encoded_emotion\", \"file_id\"])]\n",
    "labels = ext_features_df[[\"encoded_emotion\"]].to_numpy() # shape is (num_instances, 1)\n",
    "labels = labels.ravel() # flattens array, yielding shape (num_instances)\n",
    "features = ext_features_df[features_to_include].to_numpy() # shape is (num_instances, num_features)"
   ]
  },
  {
   "cell_type": "markdown",
   "id": "c701cccc",
   "metadata": {},
   "source": [
    "I need to normalize the features because a support vector machine is a distance-based algorithm and is thus sensitive to varying scales. "
   ]
  },
  {
   "cell_type": "code",
   "execution_count": 504,
   "id": "de52be14",
   "metadata": {},
   "outputs": [],
   "source": [
    "scaler = StandardScaler()\n",
    "scaled_features = scaler.fit_transform(features)"
   ]
  },
  {
   "cell_type": "markdown",
   "id": "69049b1d",
   "metadata": {},
   "source": [
    "I'll also create a training and testing dataset for fitting the models and making predictions to create confusion matrixes."
   ]
  },
  {
   "cell_type": "code",
   "execution_count": 505,
   "id": "61d1aa3b",
   "metadata": {},
   "outputs": [],
   "source": [
    "x_train, x_test, y_train, y_test  = train_test_split(scaled_features, labels, test_size=0.2)"
   ]
  },
  {
   "cell_type": "code",
   "execution_count": 181,
   "id": "ab3aa845",
   "metadata": {},
   "outputs": [],
   "source": [
    "model_scores = {}"
   ]
  },
  {
   "cell_type": "code",
   "execution_count": 506,
   "id": "3a36df5d",
   "metadata": {},
   "outputs": [
    {
     "name": "stdout",
     "output_type": "stream",
     "text": [
      "{'angry': 0, 'disgust': 1, 'fear': 2, 'happy': 3, 'neutral': 4, 'sadness': 5, 'surprise': 6}\n",
      "\n",
      "\n",
      "{0: 'angry', 1: 'disgust', 2: 'fear', 3: 'happy', 4: 'neutral', 5: 'sadness', 6: 'surprise'}\n"
     ]
    }
   ],
   "source": [
    "emotions = sorted(list(train_df[\"emotion\"].unique()))\n",
    "num_emotions = len(emotions)\n",
    "\n",
    "keys = emotions\n",
    "values = np.arange(7)\n",
    "emotion_encoder = dict(zip(keys, values))\n",
    "print(emotion_encoder)\n",
    "print(\"\\n\")\n",
    "emotion_decoder = dict(zip(list(emotion_encoder.values()), list(emotion_encoder.keys())))\n",
    "print(emotion_decoder)"
   ]
  },
  {
   "cell_type": "code",
   "execution_count": 485,
   "id": "1a95b0b6",
   "metadata": {},
   "outputs": [],
   "source": [
    "def get_confusion_matrix(truth, predictions):\n",
    "    \"\"\"Returns the confusion matrix given predictions made by a model and the corresponding truth values.\n",
    "        predictions: array of integers\n",
    "        truth: array of integers\n",
    "    \"\"\"\n",
    "    cm = confusion_matrix(truth, predictions)\n",
    "    return cm\n",
    "\n",
    "def get_accuracy_by_class(cm, labels):\n",
    "    \"\"\"Returns a dictionary with the labels as keys and the accuracy of predictions made by a model as values.\n",
    "        confusion_matrix: 2D confusion matrix\n",
    "        labels: list of class names – in this case, emotions\n",
    "    \"\"\"\n",
    "    accuracy_by_class = cm.diagonal() / cm.sum(axis=1)\n",
    "    accuracy_by_class = [round(acc, 2) for acc in accuracy_by_class]\n",
    "    class_accuracy_dict = dict(zip(emotions, accuracy_by_class))\n",
    "    return class_accuracy_dict\n",
    "    \n",
    "def show_confusion_matrix(cm):\n",
    "    \"\"\"Takes in predictions and the truth as arrays of scalars to create a confusion matrix. The\n",
    "        confusion matrix is then displayed using seaborn. \n",
    "        predictions: array of integers\n",
    "        truth: array of integers\n",
    "    \"\"\"\n",
    "    plt.figure(figsize=(10, 7))\n",
    "    ax = sns.heatmap(cm, annot=True, fmt=\"\",\n",
    "                    xticklabels=list(emotion_decoder.values()),\n",
    "                    yticklabels=list(emotion_decoder.values()))\n",
    "    plt.xlabel(\"Predicted\", fontsize=10, labelpad=5)\n",
    "    plt.ylabel(\"Truth\", fontsize=10, labelpad=5)\n",
    "\n",
    "def validate(est, X, y, split, fold_index, verbose):\n",
    "    \"\"\"Fits an estimator model and evaluates its performance.\n",
    "        est - Estimator/Model\n",
    "        X - training data\n",
    "        y - validation data\n",
    "        split - tuple of indices, where the first item is the training indices; the second the validation indices.\n",
    "        verbose - if set to true, print when job is complete.\n",
    "    \"\"\"\n",
    "    x_train, y_train = X[split[0], :], y[split[0]]\n",
    "    x_val, y_val = X[split[1], :], y[split[1]]\n",
    "    \n",
    "    est.fit(x_train, y_train)\n",
    "    \n",
    "    y_pred = est.predict(x_val)\n",
    "    \n",
    "    metrics = {}\n",
    "    metrics[\"accuracy\"] = accuracy_score(y_val, y_pred)\n",
    "    # f1-scores for each individual class: returns an array\n",
    "    f1_individual_scores = f1_score(y_val, y_pred, average=None) \n",
    "    for i, f1_individual_score in enumerate(f1_individual_scores):\n",
    "        metrics[f\"f1_{emotions[i]}\"] = f1_individual_score\n",
    "    # aggregates the contributions of each class, then computes the f1-score, thus not favouring any one class.\n",
    "    metrics[\"f1_micro\"] = f1_score(y_val, y_pred, average=\"micro\") \n",
    "    # Computes the f1-score for each class, then weights them by how frequently they appeared, returning\n",
    "    # a single score.\n",
    "    metrics[\"f1_weighted\"] = f1_score(y_val, y_pred, average=\"weighted\")\n",
    "    # Computes the f1-score for each class and then gets their average.\n",
    "    metrics[\"f1_macro\"] = f1_score(y_val, y_pred, average=\"macro\") # same as f1_individual.mean()\n",
    "    \n",
    "    if verbose: \n",
    "        print(f\"Completed job {fold_index}\")\n",
    "    return pd.DataFrame(metrics, index=[\"fold_\"+str(fold_index)])\n",
    "\n",
    "def cross_validate(est, X, y, n_splits=10, verbose=True):\n",
    "    \"\"\"Cross-validates an estimator for n_splits kfold stratified cross validation.\n",
    "        est - Estimator/model\n",
    "        X - features\n",
    "        y - labels\n",
    "        n_splits - number of folds in cross-validation.\n",
    "        verbose - if set to true, prints when each validation job is complete.\n",
    "    \"\"\"\n",
    "    # StratifiedKFOld used to ensure that the mean response value is approximately equal in each fold.\n",
    "    # In simpler terms, it makes sure that the distribution of labels in each fold is somewhat equal.\n",
    "    cv = StratifiedKFold(n_splits=n_splits, shuffle=True, random_state=42)\n",
    "    folds = list(cv.split(scaled_features, labels))\n",
    "    \n",
    "    results = []\n",
    "    for fold_index, fold in enumerate(folds):\n",
    "        # clone() constructs a new unfitted estimator with the same parameters as the one passed in as an argument.\n",
    "        # This is to ensure that the estimator doesn't remember any data that it was fitted on before.\n",
    "        init_est = clone(est)\n",
    "        results.append(validate(est, X, y, fold, fold_index, verbose))\n",
    "        \n",
    "    return pd.concat(results, axis=0)"
   ]
  },
  {
   "cell_type": "markdown",
   "id": "01b8eb35",
   "metadata": {},
   "source": [
    "<a id=\"svm\"></a>\n",
    "<h1>Support Vector Machine</h1>"
   ]
  },
  {
   "cell_type": "code",
   "execution_count": 486,
   "id": "9739cf43",
   "metadata": {},
   "outputs": [
    {
     "name": "stdout",
     "output_type": "stream",
     "text": [
      "Completed job 0\n",
      "Completed job 1\n",
      "Completed job 2\n",
      "Completed job 3\n",
      "Completed job 4\n",
      "Completed job 5\n",
      "Completed job 6\n",
      "Completed job 7\n",
      "Completed job 8\n",
      "Completed job 9\n"
     ]
    }
   ],
   "source": [
    "svc = SVC()\n",
    "model_scores[\"SVC\"] = cross_validate(svc, scaled_features, labels, n_splits=10, verbose=1)"
   ]
  },
  {
   "cell_type": "code",
   "execution_count": 487,
   "id": "90226c9e",
   "metadata": {},
   "outputs": [
    {
     "name": "stdout",
     "output_type": "stream",
     "text": [
      "Metrics for the support vector machine after 10-fold cross-validation\n"
     ]
    },
    {
     "data": {
      "text/plain": [
       "accuracy       0.631454\n",
       "f1_angry       0.727799\n",
       "f1_disgust     0.567930\n",
       "f1_fear        0.566728\n",
       "f1_happy       0.582999\n",
       "f1_neutral     0.600282\n",
       "f1_sadness     0.655963\n",
       "f1_surprise    0.834703\n",
       "f1_micro       0.631454\n",
       "f1_weighted    0.629259\n",
       "f1_macro       0.648058\n",
       "dtype: float64"
      ]
     },
     "execution_count": 487,
     "metadata": {},
     "output_type": "execute_result"
    }
   ],
   "source": [
    "print(\"Metrics for the support vector machine after 10-fold cross-validation\")\n",
    "model_scores[\"SVC\"].mean()"
   ]
  },
  {
   "cell_type": "code",
   "execution_count": 507,
   "id": "6c0ea3ec",
   "metadata": {},
   "outputs": [
    {
     "data": {
      "text/plain": [
       "SVC()"
      ]
     },
     "execution_count": 507,
     "metadata": {},
     "output_type": "execute_result"
    }
   ],
   "source": [
    "svc = SVC() # reinitializing\n",
    "svc.fit(x_train, y_train)"
   ]
  },
  {
   "cell_type": "code",
   "execution_count": 508,
   "id": "6830bb9c",
   "metadata": {},
   "outputs": [
    {
     "data": {
      "image/png": "[encoded data removed]",
      "text/plain": [
       "<Figure size 720x504 with 2 Axes>"
      ]
     },
     "metadata": {
      "needs_background": "light"
     },
     "output_type": "display_data"
    }
   ],
   "source": [
    "y_pred = svc.predict(x_test)\n",
    "cm = get_confusion_matrix(y_test, y_pred)\n",
    "show_confusion_matrix(cm)"
   ]
  },
  {
   "cell_type": "markdown",
   "id": "6e1066b2",
   "metadata": {},
   "source": [
    "<a id=\"rf\"></a>\n",
    "<h1>Random Forest</h1>"
   ]
  },
  {
   "cell_type": "code",
   "execution_count": 490,
   "id": "9d94e3da",
   "metadata": {},
   "outputs": [
    {
     "name": "stdout",
     "output_type": "stream",
     "text": [
      "Completed job 0\n",
      "Completed job 1\n",
      "Completed job 2\n",
      "Completed job 3\n",
      "Completed job 4\n",
      "Completed job 5\n",
      "Completed job 6\n",
      "Completed job 7\n",
      "Completed job 8\n",
      "Completed job 9\n"
     ]
    }
   ],
   "source": [
    "rf = RandomForestClassifier()\n",
    "model_scores[\"RF\"] = cross_validate(rf, scaled_features, labels, n_splits=10, verbose=1)"
   ]
  },
  {
   "cell_type": "code",
   "execution_count": 491,
   "id": "5091a648",
   "metadata": {},
   "outputs": [
    {
     "name": "stdout",
     "output_type": "stream",
     "text": [
      "Metrics for the random forest after 10-fold cross-validation\n"
     ]
    },
    {
     "data": {
      "text/plain": [
       "accuracy       0.625124\n",
       "f1_angry       0.730227\n",
       "f1_disgust     0.552251\n",
       "f1_fear        0.545396\n",
       "f1_happy       0.562056\n",
       "f1_neutral     0.610546\n",
       "f1_sadness     0.660039\n",
       "f1_surprise    0.821543\n",
       "f1_micro       0.625124\n",
       "f1_weighted    0.621682\n",
       "f1_macro       0.640294\n",
       "dtype: float64"
      ]
     },
     "execution_count": 491,
     "metadata": {},
     "output_type": "execute_result"
    }
   ],
   "source": [
    "print(\"Metrics for the random forest after 10-fold cross-validation\")\n",
    "model_scores[\"RF\"].mean()"
   ]
  },
  {
   "cell_type": "code",
   "execution_count": 509,
   "id": "780c24b8",
   "metadata": {},
   "outputs": [
    {
     "data": {
      "text/plain": [
       "RandomForestClassifier()"
      ]
     },
     "execution_count": 509,
     "metadata": {},
     "output_type": "execute_result"
    }
   ],
   "source": [
    "rf = RandomForestClassifier() # reinitializing the model\n",
    "rf.fit(x_train, y_train)"
   ]
  },
  {
   "cell_type": "code",
   "execution_count": 513,
   "id": "dc875b71",
   "metadata": {},
   "outputs": [
    {
     "data": {
      "text/plain": [
       "array([237, 238, 239,  29,  28, 240,  20, 108,  77,  30,  24,  41,  83,\n",
       "       177, 164,  90,  88, 111,  32,  70,  81, 169, 118, 107, 157,  26,\n",
       "        76,  25,  21,  17, 178, 171, 116, 227,  79,  31,  19, 155, 109,\n",
       "        82,  75, 188, 112,  27,  22, 154, 156, 179,  18, 141, 110, 158,\n",
       "        40, 170,  38, 231,  23,  16, 159,  97, 115,  73, 176, 199, 167,\n",
       "        80, 175, 225, 191,  14, 119, 173, 117, 192, 184,  15, 230,  98,\n",
       "        39, 181,  91, 113, 220, 168, 120,  36, 190,  42, 186, 226, 106,\n",
       "       198, 214, 105,  35,  37,  65,  10,  33,  74,  84, 166,  62, 163,\n",
       "       203, 101, 187,  89,  43, 104,  87, 234,  68,   6, 139, 229, 200,\n",
       "        69, 232, 222, 161,  96, 114, 183, 165,   8, 197, 140, 211, 223,\n",
       "        85, 201,  57,  95, 122, 233, 185, 219, 212,  94, 160, 172, 121,\n",
       "       124,  67,  86, 174,  99, 149, 202, 180, 210,  64,  52, 145, 127,\n",
       "       125, 138,  78, 195,  66, 150,  60,  44,  51,  55, 236,  71,  93,\n",
       "       144,  34, 193, 123, 194, 207,  54,  63, 151, 224,   9, 152,  46,\n",
       "       189, 102, 103, 228,  49, 132, 208,  45, 143,   7, 204,  53,  92,\n",
       "       126,  56, 148, 142, 136,  48, 162,  59, 205, 215, 137,  72, 213,\n",
       "       153, 128,  50,   2,   5,  61, 100, 216, 196,  11, 182, 135,  47,\n",
       "       221, 209, 146,  58, 206,  13, 147,  12, 218, 129, 133, 131, 217,\n",
       "         3,   4, 130, 134,   1,   0, 235])"
      ]
     },
     "execution_count": 513,
     "metadata": {},
     "output_type": "execute_result"
    }
   ],
   "source": [
    "rf.feature_importances_.argsort().argsort()"
   ]
  },
  {
   "cell_type": "code",
   "execution_count": 493,
   "id": "e7ac322f",
   "metadata": {},
   "outputs": [
    {
     "data": {
      "image/png": "[encoded data removed]",
      "text/plain": [
       "<Figure size 720x504 with 2 Axes>"
      ]
     },
     "metadata": {
      "needs_background": "light"
     },
     "output_type": "display_data"
    }
   ],
   "source": [
    "y_pred = rf.predict(x_test)\n",
    "cm = get_confusion_matrix(y_test, y_pred)\n",
    "show_confusion_matrix(cm)"
   ]
  },
  {
   "cell_type": "markdown",
   "id": "873d4c6d",
   "metadata": {},
   "source": [
    "<a id=\"knn\"></a>\n",
    "<h1>K-Nearest Neighbours</h1>"
   ]
  },
  {
   "cell_type": "code",
   "execution_count": 495,
   "id": "1d82a521",
   "metadata": {},
   "outputs": [
    {
     "name": "stdout",
     "output_type": "stream",
     "text": [
      "Completed job 0\n",
      "Completed job 1\n",
      "Completed job 2\n",
      "Completed job 3\n",
      "Completed job 4\n",
      "Completed job 5\n",
      "Completed job 6\n",
      "Completed job 7\n",
      "Completed job 8\n",
      "Completed job 9\n"
     ]
    }
   ],
   "source": [
    "knn = KNeighborsClassifier()\n",
    "model_scores[\"KNN\"] = cross_validate(knn, scaled_features, labels, n_splits=10, verbose=1)"
   ]
  },
  {
   "cell_type": "code",
   "execution_count": 496,
   "id": "f9d28605",
   "metadata": {
    "scrolled": true
   },
   "outputs": [
    {
     "name": "stdout",
     "output_type": "stream",
     "text": [
      "Metrics for the n-nearest neighbours classifier after 10-fold cross-validation\n"
     ]
    },
    {
     "data": {
      "text/plain": [
       "accuracy       0.552226\n",
       "f1_angry       0.674873\n",
       "f1_disgust     0.476223\n",
       "f1_fear        0.477584\n",
       "f1_happy       0.498705\n",
       "f1_neutral     0.527964\n",
       "f1_sadness     0.565337\n",
       "f1_surprise    0.791057\n",
       "f1_micro       0.552226\n",
       "f1_weighted    0.551122\n",
       "f1_macro       0.573106\n",
       "dtype: float64"
      ]
     },
     "execution_count": 496,
     "metadata": {},
     "output_type": "execute_result"
    }
   ],
   "source": [
    "print(\"Metrics for the n-nearest neighbours classifier after 10-fold cross-validation\")\n",
    "model_scores[\"KNN\"].mean()"
   ]
  },
  {
   "cell_type": "code",
   "execution_count": 497,
   "id": "7da7cdad",
   "metadata": {},
   "outputs": [
    {
     "data": {
      "text/plain": [
       "KNeighborsClassifier()"
      ]
     },
     "execution_count": 497,
     "metadata": {},
     "output_type": "execute_result"
    }
   ],
   "source": [
    "knn = KNeighborsClassifier() # reinitializing the model\n",
    "knn.fit(x_train, y_train)"
   ]
  },
  {
   "cell_type": "code",
   "execution_count": 498,
   "id": "dd9e02df",
   "metadata": {},
   "outputs": [
    {
     "data": {
      "image/png": "[encoded data removed]",
      "text/plain": [
       "<Figure size 720x504 with 2 Axes>"
      ]
     },
     "metadata": {
      "needs_background": "light"
     },
     "output_type": "display_data"
    }
   ],
   "source": [
    "y_pred = knn.predict(x_test)\n",
    "cm = get_confusion_matrix(y_test, y_pred)\n",
    "show_confusion_matrix(cm)"
   ]
  },
  {
   "cell_type": "markdown",
   "id": "32174ae1",
   "metadata": {},
   "source": [
    "<a id=\"dnn\"></a>\n",
    "<h1>Deep neural network</h1>"
   ]
  },
  {
   "cell_type": "code",
   "execution_count": 253,
   "id": "7f0a94a3",
   "metadata": {},
   "outputs": [
    {
     "data": {
      "text/plain": [
       "(10110, 241)"
      ]
     },
     "execution_count": 253,
     "metadata": {},
     "output_type": "execute_result"
    }
   ],
   "source": [
    "scaled_features.shape"
   ]
  },
  {
   "cell_type": "markdown",
   "id": "3c1b440e",
   "metadata": {},
   "source": [
    "The input layer of the DNN will be a one-dimensional vector containing 241 features."
   ]
  },
  {
   "cell_type": "markdown",
   "id": "1c05757b",
   "metadata": {},
   "source": [
    "I now create the input pipeline using tfds."
   ]
  },
  {
   "cell_type": "code",
   "execution_count": 267,
   "id": "3bc8e1a4",
   "metadata": {},
   "outputs": [],
   "source": [
    "EPOCHS = 100"
   ]
  },
  {
   "cell_type": "code",
   "execution_count": 401,
   "id": "d12ae24c",
   "metadata": {},
   "outputs": [],
   "source": [
    "# I make some modifications to the validate and cross_validate functions I made earlier to accommodate\n",
    "# tensorflow models.\n",
    "def validate(est, X, y, split, fold_index, verbose):\n",
    "    \"\"\"Fits an estimator model and evaluates its performance.\n",
    "        est - Estimator/Model\n",
    "        X - training data\n",
    "        y - validation data\n",
    "        split - tuple of indices, where the first item is the training indices; the second the validation indices.\n",
    "        verbose - if set to true, print when job is complete.\n",
    "    \"\"\"\n",
    "    x_train, y_train = X[split[0], :], y[split[0]]\n",
    "    x_val, y_val = X[split[1], :], y[split[1]]\n",
    "    \n",
    "    # creating the tensorflow datasets from the numpy arrays.\n",
    "    train_ds = tf.data.Dataset.from_tensor_slices((x_train, y_train))\n",
    "    train_ds = train_ds.shuffle(len(train_ds))\n",
    "    num_train = len(train_ds)\n",
    "    num_val = int(0.1*num_train)\n",
    "    # I hold back some of the training data for validation when fitting the model, which is used for \n",
    "    # early stopping.\n",
    "    val_ds = train_ds.take(num_val)\n",
    "    train_ds = train_ds.skip(num_val)\n",
    "    batch_size=64\n",
    "    AUTOTUNE = tf.data.AUTOTUNE\n",
    "    train_ds = train_ds.shuffle(len(train_ds)).batch(batch_size).cache().prefetch(AUTOTUNE)\n",
    "    val_ds = val_ds.shuffle(len(val_ds)).batch(batch_size).cache().prefetch(AUTOTUNE)\n",
    "    \n",
    "    # fitting the model \n",
    "    est.fit(train_ds, \n",
    "            validation_data=val_ds, \n",
    "            epochs=EPOCHS, \n",
    "            callbacks=tf.keras.callbacks.EarlyStopping(monitor=\"val_loss\", patience=5),\n",
    "           verbose=0)\n",
    "    \n",
    "    # making predictions\n",
    "    y_pred = est.predict(x_val)\n",
    "    y_pred = np.argmax(y_pred, axis=1)\n",
    "    \n",
    "    # computing and storing the metrics\n",
    "    metrics = {}\n",
    "    metrics[\"accuracy\"] = accuracy_score(y_val, y_pred)\n",
    "    # f1-scores for each individual class: returns an array\n",
    "    f1_individual_scores = f1_score(y_val, y_pred, average=None) \n",
    "    for i, f1_individual_score in enumerate(f1_individual_scores):\n",
    "        metrics[f\"f1_{emotions[i]}\"] = f1_individual_score\n",
    "    # aggregates the contributions of each class, then computes the f1-score, thus not favouring any one class.\n",
    "    metrics[\"f1_micro\"] = f1_score(y_val, y_pred, average=\"micro\") \n",
    "    # Computes the f1-score for each class, then weights them by how frequently they appeared, returning\n",
    "    # a single score.\n",
    "    metrics[\"f1_weighted\"] = f1_score(y_val, y_pred, average=\"weighted\")\n",
    "    # Computes the f1-score for each class and then gets their average.\n",
    "    metrics[\"f1_macro\"] = f1_score(y_val, y_pred, average=\"macro\") # same as f1_individual.mean()\n",
    "    \n",
    "    if verbose: \n",
    "        print(f\"Completed job {fold_index}\")\n",
    "    return pd.DataFrame(metrics, index=[\"fold_\"+str(fold_index)])\n",
    "\n",
    "def cross_validate(est, file_name, X, y, n_splits=10, verbose=True):\n",
    "    \"\"\"Cross-validates an estimator for n_splits kfold stratified cross validation.\n",
    "        file_name - name of the file storing the initial weights of the model, so that each\n",
    "                    iteration the model is reinitialized, starting learning from scratch.\n",
    "        X - features\n",
    "        y - labels\n",
    "        n_splits - number of folds in cross-validation.\n",
    "        verbose - if set to true, prints when each validation job is complete.\n",
    "    \"\"\"\n",
    "    # StratifiedKFOld used to ensure that the mean response value is approximately equal in each fold.\n",
    "    # In simpler terms, it makes sure that the distribution of labels in each fold is somewhat equal.\n",
    "    cv = StratifiedKFold(n_splits=n_splits, shuffle=True, random_state=42)\n",
    "    folds = list(cv.split(scaled_features, labels))\n",
    "    \n",
    "    results = []\n",
    "    # save initial weights so that for each iteration of cross-validation the model can be reinitialized\n",
    "    path_root = \"./dnn_model_weights\"\n",
    "    file_path = os.path.join(path_root, file_name)\n",
    "    if not os.path.isdir(path_root):\n",
    "        os.mkdir(path_root)\n",
    "    est.save_weights(file_path)\n",
    "    for fold_index, fold in enumerate(folds):\n",
    "        # Loading the initial model: essentially refreshing the model.\n",
    "        est.load_weights(file_path)\n",
    "        results.append(validate(est, X, y, fold, fold_index, verbose))\n",
    "        \n",
    "    return pd.concat(results, axis=0)"
   ]
  },
  {
   "cell_type": "code",
   "execution_count": 366,
   "id": "1f80a848",
   "metadata": {},
   "outputs": [],
   "source": [
    "dnn_scores = {}"
   ]
  },
  {
   "cell_type": "markdown",
   "id": "5f35edc2",
   "metadata": {},
   "source": [
    "<h3>Baseline</h3>"
   ]
  },
  {
   "cell_type": "code",
   "execution_count": 402,
   "id": "5160c20a",
   "metadata": {},
   "outputs": [
    {
     "name": "stdout",
     "output_type": "stream",
     "text": [
      "Model: \"sequential_42\"\n",
      "_________________________________________________________________\n",
      " Layer (type)                Output Shape              Param #   \n",
      "=================================================================\n",
      " dense_126 (Dense)           (None, 256)               61952     \n",
      "                                                                 \n",
      " dense_127 (Dense)           (None, 128)               32896     \n",
      "                                                                 \n",
      " dense_128 (Dense)           (None, 7)                 903       \n",
      "                                                                 \n",
      "=================================================================\n",
      "Total params: 95,751\n",
      "Trainable params: 95,751\n",
      "Non-trainable params: 0\n",
      "_________________________________________________________________\n"
     ]
    }
   ],
   "source": [
    "model = models.Sequential([\n",
    "    layers.Input(shape=(241,)),\n",
    "    layers.Dense(256, activation=\"relu\"),\n",
    "    layers.Dense(128, activation=\"relu\"),\n",
    "    layers.Dense(7, activation=\"softmax\")\n",
    "])\n",
    "\n",
    "model.summary()\n",
    "\n",
    "model.compile(\n",
    "        optimizer=tf.keras.optimizers.Adam(0.001),\n",
    "        loss=tf.keras.losses.SparseCategoricalCrossentropy(),\n",
    "        metrics=\"accuracy\"\n",
    ")"
   ]
  },
  {
   "cell_type": "code",
   "execution_count": 403,
   "id": "c5da6c82",
   "metadata": {
    "scrolled": true
   },
   "outputs": [
    {
     "name": "stdout",
     "output_type": "stream",
     "text": [
      "Completed job 0\n",
      "Completed job 1\n",
      "Completed job 2\n",
      "Completed job 3\n",
      "Completed job 4\n",
      "Completed job 5\n",
      "Completed job 6\n",
      "Completed job 7\n",
      "Completed job 8\n",
      "Completed job 9\n"
     ]
    }
   ],
   "source": [
    "# very important!!! Always create the model before calling cross_validate on the model. \n",
    "# Otherwise, the last fitted model's weights will be saved, and it will give skewed results.\n",
    "dnn_scores[\"baseline\"] = cross_validate(model, \"init_baseline_model.h5\", scaled_features, labels, n_splits=10, verbose=True)"
   ]
  },
  {
   "cell_type": "code",
   "execution_count": 415,
   "id": "89ebad11",
   "metadata": {},
   "outputs": [
    {
     "name": "stdout",
     "output_type": "stream",
     "text": [
      "Metrics for the baseline DNN model after 10-fold cross-validation\n"
     ]
    },
    {
     "data": {
      "text/plain": [
       "accuracy       0.635707\n",
       "f1_angry       0.733290\n",
       "f1_disgust     0.577879\n",
       "f1_fear        0.598152\n",
       "f1_happy       0.582463\n",
       "f1_neutral     0.614749\n",
       "f1_sadness     0.633594\n",
       "f1_surprise    0.814504\n",
       "f1_micro       0.635707\n",
       "f1_weighted    0.634258\n",
       "f1_macro       0.650662\n",
       "dtype: float64"
      ]
     },
     "execution_count": 415,
     "metadata": {},
     "output_type": "execute_result"
    }
   ],
   "source": [
    "print(\"Metrics for the baseline DNN model after 10-fold cross-validation\")\n",
    "dnn_scores[\"baseline\"].mean()"
   ]
  },
  {
   "cell_type": "markdown",
   "id": "196803d9",
   "metadata": {},
   "source": [
    "<h3>Medium size</h3>"
   ]
  },
  {
   "cell_type": "code",
   "execution_count": 405,
   "id": "d0adcea4",
   "metadata": {},
   "outputs": [
    {
     "name": "stdout",
     "output_type": "stream",
     "text": [
      "Model: \"sequential_43\"\n",
      "_________________________________________________________________\n",
      " Layer (type)                Output Shape              Param #   \n",
      "=================================================================\n",
      " dense_129 (Dense)           (None, 256)               61952     \n",
      "                                                                 \n",
      " dropout_4 (Dropout)         (None, 256)               0         \n",
      "                                                                 \n",
      " dense_130 (Dense)           (None, 256)               65792     \n",
      "                                                                 \n",
      " dropout_5 (Dropout)         (None, 256)               0         \n",
      "                                                                 \n",
      " dense_131 (Dense)           (None, 256)               65792     \n",
      "                                                                 \n",
      " dropout_6 (Dropout)         (None, 256)               0         \n",
      "                                                                 \n",
      " dense_132 (Dense)           (None, 7)                 1799      \n",
      "                                                                 \n",
      "=================================================================\n",
      "Total params: 195,335\n",
      "Trainable params: 195,335\n",
      "Non-trainable params: 0\n",
      "_________________________________________________________________\n"
     ]
    }
   ],
   "source": [
    "model = models.Sequential([\n",
    "    layers.Input(shape=(241,)),\n",
    "    layers.Dense(256, activation=\"relu\"),\n",
    "    layers.Dropout(0.2),\n",
    "    layers.Dense(256, activation=\"relu\"),\n",
    "    layers.Dropout(0.2),\n",
    "    layers.Dense(256, activation=\"relu\"),\n",
    "    layers.Dropout(0.2),\n",
    "    layers.Dense(7, activation=\"softmax\")\n",
    "])\n",
    "\n",
    "model.summary()\n",
    "\n",
    "model.compile(\n",
    "        optimizer=tf.keras.optimizers.Adam(0.001),\n",
    "        loss=tf.keras.losses.SparseCategoricalCrossentropy(),\n",
    "        metrics=\"accuracy\"\n",
    ")"
   ]
  },
  {
   "cell_type": "code",
   "execution_count": 406,
   "id": "fbce9ade",
   "metadata": {},
   "outputs": [
    {
     "name": "stdout",
     "output_type": "stream",
     "text": [
      "Completed job 0\n",
      "Completed job 1\n",
      "Completed job 2\n",
      "Completed job 3\n",
      "Completed job 4\n",
      "Completed job 5\n",
      "Completed job 6\n",
      "Completed job 7\n",
      "Completed job 8\n",
      "Completed job 9\n"
     ]
    }
   ],
   "source": [
    "dnn_scores[\"medium\"] = cross_validate(model, \"init_medium_model.h5\", scaled_features, labels, n_splits=10, verbose=True)"
   ]
  },
  {
   "cell_type": "code",
   "execution_count": 419,
   "id": "1f187e45",
   "metadata": {},
   "outputs": [
    {
     "name": "stdout",
     "output_type": "stream",
     "text": [
      "Metrics for the medium DNN model after 10-fold cross-validation\n"
     ]
    },
    {
     "data": {
      "text/plain": [
       "accuracy       0.656083\n",
       "f1_angry       0.747512\n",
       "f1_disgust     0.604522\n",
       "f1_fear        0.608828\n",
       "f1_happy       0.611673\n",
       "f1_neutral     0.631486\n",
       "f1_sadness     0.652357\n",
       "f1_surprise    0.859747\n",
       "f1_micro       0.656083\n",
       "f1_weighted    0.655116\n",
       "f1_macro       0.673732\n",
       "dtype: float64"
      ]
     },
     "execution_count": 419,
     "metadata": {},
     "output_type": "execute_result"
    }
   ],
   "source": [
    "print(\"Metrics for the medium DNN model after 10-fold cross-validation\")\n",
    "dnn_scores[\"medium\"].mean()"
   ]
  },
  {
   "cell_type": "markdown",
   "id": "968395d0",
   "metadata": {},
   "source": [
    "<h3>Large</h3>"
   ]
  },
  {
   "cell_type": "code",
   "execution_count": 409,
   "id": "93946878",
   "metadata": {},
   "outputs": [
    {
     "name": "stdout",
     "output_type": "stream",
     "text": [
      "Model: \"sequential_44\"\n",
      "_________________________________________________________________\n",
      " Layer (type)                Output Shape              Param #   \n",
      "=================================================================\n",
      " dense_133 (Dense)           (None, 512)               123904    \n",
      "                                                                 \n",
      " dropout_7 (Dropout)         (None, 512)               0         \n",
      "                                                                 \n",
      " dense_134 (Dense)           (None, 512)               262656    \n",
      "                                                                 \n",
      " dropout_8 (Dropout)         (None, 512)               0         \n",
      "                                                                 \n",
      " dense_135 (Dense)           (None, 512)               262656    \n",
      "                                                                 \n",
      " dropout_9 (Dropout)         (None, 512)               0         \n",
      "                                                                 \n",
      " dense_136 (Dense)           (None, 7)                 3591      \n",
      "                                                                 \n",
      "=================================================================\n",
      "Total params: 652,807\n",
      "Trainable params: 652,807\n",
      "Non-trainable params: 0\n",
      "_________________________________________________________________\n"
     ]
    }
   ],
   "source": [
    "model = models.Sequential([\n",
    "    layers.Input(shape=(241,)),\n",
    "    layers.Dense(512, activation=\"relu\"),\n",
    "    layers.Dropout(0.5),\n",
    "    layers.Dense(512, activation=\"relu\"),\n",
    "    layers.Dropout(0.5),\n",
    "    layers.Dense(512, activation=\"relu\"),\n",
    "    layers.Dropout(0.5),\n",
    "    layers.Dense(7, activation=\"softmax\")\n",
    "])\n",
    "\n",
    "model.summary()\n",
    "\n",
    "model.compile(\n",
    "        optimizer=tf.keras.optimizers.Adam(0.001),\n",
    "        loss=tf.keras.losses.SparseCategoricalCrossentropy(),\n",
    "        metrics=\"accuracy\"\n",
    ")"
   ]
  },
  {
   "cell_type": "code",
   "execution_count": 410,
   "id": "b8b2793d",
   "metadata": {},
   "outputs": [
    {
     "name": "stdout",
     "output_type": "stream",
     "text": [
      "Completed job 0\n",
      "Completed job 1\n",
      "Completed job 2\n",
      "Completed job 3\n",
      "Completed job 4\n",
      "Completed job 5\n",
      "Completed job 6\n",
      "Completed job 7\n",
      "Completed job 8\n",
      "Completed job 9\n"
     ]
    }
   ],
   "source": [
    "dnn_scores[\"large\"] = cross_validate(model, \"init_large_model.h5\", scaled_features, labels, n_splits=10, verbose=True)"
   ]
  },
  {
   "cell_type": "code",
   "execution_count": 418,
   "id": "c4e5a009",
   "metadata": {
    "scrolled": true
   },
   "outputs": [
    {
     "name": "stdout",
     "output_type": "stream",
     "text": [
      "Metrics for the large DNN model after 10-fold cross-validation\n"
     ]
    },
    {
     "data": {
      "text/plain": [
       "accuracy       0.659545\n",
       "f1_angry       0.758229\n",
       "f1_disgust     0.609906\n",
       "f1_fear        0.608902\n",
       "f1_happy       0.611089\n",
       "f1_neutral     0.632270\n",
       "f1_sadness     0.655922\n",
       "f1_surprise    0.862736\n",
       "f1_micro       0.659545\n",
       "f1_weighted    0.658480\n",
       "f1_macro       0.677008\n",
       "dtype: float64"
      ]
     },
     "execution_count": 418,
     "metadata": {},
     "output_type": "execute_result"
    }
   ],
   "source": [
    "print(\"Metrics for the large DNN model after 10-fold cross-validation\")\n",
    "dnn_scores[\"large\"].mean()"
   ]
  },
  {
   "cell_type": "markdown",
   "id": "b9dadc2a",
   "metadata": {},
   "source": [
    "It seems that not much more performance can be gained with an architecture more complex than the medium DNN model.\n",
    "The conclusion from all the experimentation is that the medium deep neural network with the static features is the best performing combination, achieving a micro F1-score of ≈0.66 (The large DNN model performed slightly better, but the improvement is neglible when considering the exponential increase in model size as a result of the additional neurons in each layer). I will use this as the final model and make predictions on test set using it.<br>\n",
    "<br>Refer to \"Final Model.ipynb\" for the implementation of the final model, using it to make predictions on the test audio, and saving it to file."
   ]
  }
 ],
 "metadata": {
  "kernelspec": {
   "display_name": "LoopQPrize",
   "language": "python",
   "name": "loopqprize"
  },
  "language_info": {
   "codemirror_mode": {
    "name": "ipython",
    "version": 3
   },
   "file_extension": ".py",
   "mimetype": "text/x-python",
   "name": "python",
   "nbconvert_exporter": "python",
   "pygments_lexer": "ipython3",
   "version": "3.8.13"
  }
 },
 "nbformat": 4,
 "nbformat_minor": 5
}
