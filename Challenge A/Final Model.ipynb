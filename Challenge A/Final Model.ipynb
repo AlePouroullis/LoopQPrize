{
 "cells": [
  {
   "cell_type": "markdown",
   "id": "2ea05f4e",
   "metadata": {},
   "source": [
    "<center><h1>Training the final model and making predictions on the testing dataset</h1></center>"
   ]
  },
  {
   "cell_type": "markdown",
   "id": "e259be8e",
   "metadata": {},
   "source": [
    "[Evaluating model performance on the training data](#evaluation)<br>\n",
    "[Making predictions on the testing data](#testing)<br>\n",
    "[Saving the model to file](#saving)"
   ]
  },
  {
   "cell_type": "code",
   "execution_count": 164,
   "id": "8294c67b",
   "metadata": {},
   "outputs": [],
   "source": [
    "import pandas as pd\n",
    "import numpy as np\n",
    "import matplotlib.pyplot as plt\n",
    "import seaborn as sns\n",
    "\n",
    "import tensorflow as tf\n",
    "from tensorflow.keras import layers, models\n",
    "\n",
    "from sklearn.preprocessing import StandardScaler\n",
    "from sklearn.model_selection import train_test_split, StratifiedKFold\n",
    "from sklearn.metrics import accuracy_score, f1_score, confusion_matrix\n",
    "\n",
    "import os"
   ]
  },
  {
   "cell_type": "code",
   "execution_count": 165,
   "id": "57330978",
   "metadata": {},
   "outputs": [
    {
     "data": {
      "text/html": [
       "<div>\n",
       "<style scoped>\n",
       "    .dataframe tbody tr th:only-of-type {\n",
       "        vertical-align: middle;\n",
       "    }\n",
       "\n",
       "    .dataframe tbody tr th {\n",
       "        vertical-align: top;\n",
       "    }\n",
       "\n",
       "    .dataframe thead th {\n",
       "        text-align: right;\n",
       "    }\n",
       "</style>\n",
       "<table border=\"1\" class=\"dataframe\">\n",
       "  <thead>\n",
       "    <tr style=\"text-align: right;\">\n",
       "      <th></th>\n",
       "      <th>file_id</th>\n",
       "      <th>origin</th>\n",
       "      <th>predicted_emotion</th>\n",
       "    </tr>\n",
       "  </thead>\n",
       "  <tbody>\n",
       "    <tr>\n",
       "      <th>0</th>\n",
       "      <td>030472df-9d70-4d76-a1a5-acb4c33537d3.wav</td>\n",
       "      <td>crema</td>\n",
       "      <td>NaN</td>\n",
       "    </tr>\n",
       "    <tr>\n",
       "      <th>1</th>\n",
       "      <td>ac4720de-e0d9-4667-86a7-4236d410ed25.wav</td>\n",
       "      <td>crema</td>\n",
       "      <td>NaN</td>\n",
       "    </tr>\n",
       "    <tr>\n",
       "      <th>2</th>\n",
       "      <td>264928af-cb15-4125-abf7-9408369d83b2.wav</td>\n",
       "      <td>crema</td>\n",
       "      <td>NaN</td>\n",
       "    </tr>\n",
       "  </tbody>\n",
       "</table>\n",
       "</div>"
      ],
      "text/plain": [
       "                                    file_id origin  predicted_emotion\n",
       "0  030472df-9d70-4d76-a1a5-acb4c33537d3.wav  crema                NaN\n",
       "1  ac4720de-e0d9-4667-86a7-4236d410ed25.wav  crema                NaN\n",
       "2  264928af-cb15-4125-abf7-9408369d83b2.wav  crema                NaN"
      ]
     },
     "execution_count": 165,
     "metadata": {},
     "output_type": "execute_result"
    }
   ],
   "source": [
    "train_metadata_df = pd.read_csv(\"challengeA_data/2022challengeA_train_modified.csv\", index_col=[0])\n",
    "train_df = pd.read_csv(\"challengeA_data/ext_features.csv\", index_col=[0]).sample(frac=1).reset_index(drop=True)\n",
    "\n",
    "test_metadata_df = pd.read_csv(\"challengeA_data/2022challengeA_test.csv\", index_col=[0])\n",
    "test_metadata_df.head(3)"
   ]
  },
  {
   "cell_type": "code",
   "execution_count": 166,
   "id": "24de4624",
   "metadata": {},
   "outputs": [
    {
     "data": {
      "text/html": [
       "<div>\n",
       "<style scoped>\n",
       "    .dataframe tbody tr th:only-of-type {\n",
       "        vertical-align: middle;\n",
       "    }\n",
       "\n",
       "    .dataframe tbody tr th {\n",
       "        vertical-align: top;\n",
       "    }\n",
       "\n",
       "    .dataframe thead th {\n",
       "        text-align: right;\n",
       "    }\n",
       "</style>\n",
       "<table border=\"1\" class=\"dataframe\">\n",
       "  <thead>\n",
       "    <tr style=\"text-align: right;\">\n",
       "      <th></th>\n",
       "      <th>file_id</th>\n",
       "      <th>rms_max</th>\n",
       "      <th>rms_std</th>\n",
       "      <th>rms_mean</th>\n",
       "      <th>magnitude_max</th>\n",
       "      <th>magnitude_std</th>\n",
       "      <th>magnitude_mean</th>\n",
       "      <th>zero_crossing_rate</th>\n",
       "      <th>contrast_6</th>\n",
       "      <th>contrast_5</th>\n",
       "      <th>...</th>\n",
       "      <th>mfcc_mean_0</th>\n",
       "      <th>flatness</th>\n",
       "      <th>cent_max</th>\n",
       "      <th>cent_std</th>\n",
       "      <th>cent_mean</th>\n",
       "      <th>f0_mean</th>\n",
       "      <th>pitch_min</th>\n",
       "      <th>pitch_max</th>\n",
       "      <th>pitch_std</th>\n",
       "      <th>pitch_mean</th>\n",
       "    </tr>\n",
       "  </thead>\n",
       "  <tbody>\n",
       "    <tr>\n",
       "      <th>0</th>\n",
       "      <td>75e70b60-343d-409f-a956-bf900f0539e8.wav</td>\n",
       "      <td>0.030247</td>\n",
       "      <td>0.005467</td>\n",
       "      <td>0.006978</td>\n",
       "      <td>7.646789</td>\n",
       "      <td>0.192080</td>\n",
       "      <td>0.059084</td>\n",
       "      <td>0.095326</td>\n",
       "      <td>14.980575</td>\n",
       "      <td>15.734339</td>\n",
       "      <td>...</td>\n",
       "      <td>-369.99530</td>\n",
       "      <td>0.030664</td>\n",
       "      <td>0.033477</td>\n",
       "      <td>0.006532</td>\n",
       "      <td>0.010870</td>\n",
       "      <td>144.252273</td>\n",
       "      <td>0.0</td>\n",
       "      <td>170.72797</td>\n",
       "      <td>68.68915</td>\n",
       "      <td>41.313015</td>\n",
       "    </tr>\n",
       "    <tr>\n",
       "      <th>1</th>\n",
       "      <td>823ca09a-648d-46ee-bfd7-069a35baeb92.wav</td>\n",
       "      <td>0.250561</td>\n",
       "      <td>0.043656</td>\n",
       "      <td>0.029509</td>\n",
       "      <td>65.521170</td>\n",
       "      <td>1.167429</td>\n",
       "      <td>0.231272</td>\n",
       "      <td>0.109998</td>\n",
       "      <td>14.094052</td>\n",
       "      <td>17.068421</td>\n",
       "      <td>...</td>\n",
       "      <td>-276.97000</td>\n",
       "      <td>0.033838</td>\n",
       "      <td>0.033964</td>\n",
       "      <td>0.005954</td>\n",
       "      <td>0.014493</td>\n",
       "      <td>240.167107</td>\n",
       "      <td>0.0</td>\n",
       "      <td>202.79593</td>\n",
       "      <td>70.46647</td>\n",
       "      <td>31.061205</td>\n",
       "    </tr>\n",
       "    <tr>\n",
       "      <th>2</th>\n",
       "      <td>fc3342c6-5c5d-4e7d-9210-b425dfae9408.wav</td>\n",
       "      <td>0.034399</td>\n",
       "      <td>0.009672</td>\n",
       "      <td>0.009711</td>\n",
       "      <td>9.812358</td>\n",
       "      <td>0.305776</td>\n",
       "      <td>0.051465</td>\n",
       "      <td>0.134193</td>\n",
       "      <td>31.265947</td>\n",
       "      <td>17.917684</td>\n",
       "      <td>...</td>\n",
       "      <td>-438.71124</td>\n",
       "      <td>0.023048</td>\n",
       "      <td>0.050212</td>\n",
       "      <td>0.013555</td>\n",
       "      <td>0.017241</td>\n",
       "      <td>567.144093</td>\n",
       "      <td>0.0</td>\n",
       "      <td>0.00000</td>\n",
       "      <td>0.00000</td>\n",
       "      <td>0.000000</td>\n",
       "    </tr>\n",
       "  </tbody>\n",
       "</table>\n",
       "<p>3 rows × 242 columns</p>\n",
       "</div>"
      ],
      "text/plain": [
       "                                    file_id   rms_max   rms_std  rms_mean  \\\n",
       "0  75e70b60-343d-409f-a956-bf900f0539e8.wav  0.030247  0.005467  0.006978   \n",
       "1  823ca09a-648d-46ee-bfd7-069a35baeb92.wav  0.250561  0.043656  0.029509   \n",
       "2  fc3342c6-5c5d-4e7d-9210-b425dfae9408.wav  0.034399  0.009672  0.009711   \n",
       "\n",
       "   magnitude_max  magnitude_std  magnitude_mean  zero_crossing_rate  \\\n",
       "0       7.646789       0.192080        0.059084            0.095326   \n",
       "1      65.521170       1.167429        0.231272            0.109998   \n",
       "2       9.812358       0.305776        0.051465            0.134193   \n",
       "\n",
       "   contrast_6  contrast_5  ...  mfcc_mean_0  flatness  cent_max  cent_std  \\\n",
       "0   14.980575   15.734339  ...   -369.99530  0.030664  0.033477  0.006532   \n",
       "1   14.094052   17.068421  ...   -276.97000  0.033838  0.033964  0.005954   \n",
       "2   31.265947   17.917684  ...   -438.71124  0.023048  0.050212  0.013555   \n",
       "\n",
       "   cent_mean     f0_mean  pitch_min  pitch_max  pitch_std  pitch_mean  \n",
       "0   0.010870  144.252273        0.0  170.72797   68.68915   41.313015  \n",
       "1   0.014493  240.167107        0.0  202.79593   70.46647   31.061205  \n",
       "2   0.017241  567.144093        0.0    0.00000    0.00000    0.000000  \n",
       "\n",
       "[3 rows x 242 columns]"
      ]
     },
     "execution_count": 166,
     "metadata": {},
     "output_type": "execute_result"
    }
   ],
   "source": [
    "test_df = pd.read_csv(\"challengeA_data/test_ext_features.csv\",index_col=[0])\n",
    "test_df.head(3)"
   ]
  },
  {
   "cell_type": "markdown",
   "id": "57971d6a",
   "metadata": {},
   "source": [
    "The ordering of the files in the test features dataframe and the test metadata dataframe is jumbled. I'll fix this now."
   ]
  },
  {
   "cell_type": "code",
   "execution_count": 167,
   "id": "a37a72c9",
   "metadata": {},
   "outputs": [
    {
     "data": {
      "text/html": [
       "<div>\n",
       "<style scoped>\n",
       "    .dataframe tbody tr th:only-of-type {\n",
       "        vertical-align: middle;\n",
       "    }\n",
       "\n",
       "    .dataframe tbody tr th {\n",
       "        vertical-align: top;\n",
       "    }\n",
       "\n",
       "    .dataframe thead th {\n",
       "        text-align: right;\n",
       "    }\n",
       "</style>\n",
       "<table border=\"1\" class=\"dataframe\">\n",
       "  <thead>\n",
       "    <tr style=\"text-align: right;\">\n",
       "      <th></th>\n",
       "      <th>file_id</th>\n",
       "      <th>rms_max</th>\n",
       "      <th>rms_std</th>\n",
       "      <th>rms_mean</th>\n",
       "      <th>magnitude_max</th>\n",
       "      <th>magnitude_std</th>\n",
       "      <th>magnitude_mean</th>\n",
       "      <th>zero_crossing_rate</th>\n",
       "      <th>contrast_6</th>\n",
       "      <th>contrast_5</th>\n",
       "      <th>...</th>\n",
       "      <th>mfcc_mean_0</th>\n",
       "      <th>flatness</th>\n",
       "      <th>cent_max</th>\n",
       "      <th>cent_std</th>\n",
       "      <th>cent_mean</th>\n",
       "      <th>f0_mean</th>\n",
       "      <th>pitch_min</th>\n",
       "      <th>pitch_max</th>\n",
       "      <th>pitch_std</th>\n",
       "      <th>pitch_mean</th>\n",
       "    </tr>\n",
       "  </thead>\n",
       "  <tbody>\n",
       "    <tr>\n",
       "      <th>0</th>\n",
       "      <td>030472df-9d70-4d76-a1a5-acb4c33537d3.wav</td>\n",
       "      <td>0.025938</td>\n",
       "      <td>0.004957</td>\n",
       "      <td>0.005864</td>\n",
       "      <td>5.774851</td>\n",
       "      <td>0.166755</td>\n",
       "      <td>0.047644</td>\n",
       "      <td>0.079531</td>\n",
       "      <td>14.160105</td>\n",
       "      <td>15.529927</td>\n",
       "      <td>...</td>\n",
       "      <td>-384.55685</td>\n",
       "      <td>0.017052</td>\n",
       "      <td>0.057371</td>\n",
       "      <td>0.009045</td>\n",
       "      <td>0.015152</td>\n",
       "      <td>179.835919</td>\n",
       "      <td>0.0</td>\n",
       "      <td>234.11780</td>\n",
       "      <td>106.812760</td>\n",
       "      <td>128.78543</td>\n",
       "    </tr>\n",
       "    <tr>\n",
       "      <th>1</th>\n",
       "      <td>ac4720de-e0d9-4667-86a7-4236d410ed25.wav</td>\n",
       "      <td>0.038292</td>\n",
       "      <td>0.009531</td>\n",
       "      <td>0.010932</td>\n",
       "      <td>9.244533</td>\n",
       "      <td>0.318983</td>\n",
       "      <td>0.075811</td>\n",
       "      <td>0.064860</td>\n",
       "      <td>13.984580</td>\n",
       "      <td>17.722578</td>\n",
       "      <td>...</td>\n",
       "      <td>-360.34990</td>\n",
       "      <td>0.007742</td>\n",
       "      <td>0.043541</td>\n",
       "      <td>0.005398</td>\n",
       "      <td>0.016667</td>\n",
       "      <td>197.844762</td>\n",
       "      <td>0.0</td>\n",
       "      <td>233.87833</td>\n",
       "      <td>104.114710</td>\n",
       "      <td>74.72349</td>\n",
       "    </tr>\n",
       "    <tr>\n",
       "      <th>2</th>\n",
       "      <td>264928af-cb15-4125-abf7-9408369d83b2.wav</td>\n",
       "      <td>0.039470</td>\n",
       "      <td>0.006061</td>\n",
       "      <td>0.006540</td>\n",
       "      <td>9.395371</td>\n",
       "      <td>0.195576</td>\n",
       "      <td>0.049954</td>\n",
       "      <td>0.085291</td>\n",
       "      <td>14.074742</td>\n",
       "      <td>15.905888</td>\n",
       "      <td>...</td>\n",
       "      <td>-377.68326</td>\n",
       "      <td>0.017408</td>\n",
       "      <td>0.039598</td>\n",
       "      <td>0.007550</td>\n",
       "      <td>0.015385</td>\n",
       "      <td>167.410335</td>\n",
       "      <td>0.0</td>\n",
       "      <td>171.23587</td>\n",
       "      <td>53.887962</td>\n",
       "      <td>21.27721</td>\n",
       "    </tr>\n",
       "  </tbody>\n",
       "</table>\n",
       "<p>3 rows × 242 columns</p>\n",
       "</div>"
      ],
      "text/plain": [
       "                                    file_id   rms_max   rms_std  rms_mean  \\\n",
       "0  030472df-9d70-4d76-a1a5-acb4c33537d3.wav  0.025938  0.004957  0.005864   \n",
       "1  ac4720de-e0d9-4667-86a7-4236d410ed25.wav  0.038292  0.009531  0.010932   \n",
       "2  264928af-cb15-4125-abf7-9408369d83b2.wav  0.039470  0.006061  0.006540   \n",
       "\n",
       "   magnitude_max  magnitude_std  magnitude_mean  zero_crossing_rate  \\\n",
       "0       5.774851       0.166755        0.047644            0.079531   \n",
       "1       9.244533       0.318983        0.075811            0.064860   \n",
       "2       9.395371       0.195576        0.049954            0.085291   \n",
       "\n",
       "   contrast_6  contrast_5  ...  mfcc_mean_0  flatness  cent_max  cent_std  \\\n",
       "0   14.160105   15.529927  ...   -384.55685  0.017052  0.057371  0.009045   \n",
       "1   13.984580   17.722578  ...   -360.34990  0.007742  0.043541  0.005398   \n",
       "2   14.074742   15.905888  ...   -377.68326  0.017408  0.039598  0.007550   \n",
       "\n",
       "   cent_mean     f0_mean  pitch_min  pitch_max   pitch_std  pitch_mean  \n",
       "0   0.015152  179.835919        0.0  234.11780  106.812760   128.78543  \n",
       "1   0.016667  197.844762        0.0  233.87833  104.114710    74.72349  \n",
       "2   0.015385  167.410335        0.0  171.23587   53.887962    21.27721  \n",
       "\n",
       "[3 rows x 242 columns]"
      ]
     },
     "execution_count": 167,
     "metadata": {},
     "output_type": "execute_result"
    }
   ],
   "source": [
    "test_df = test_df.set_index(\"file_id\").reindex(index=test_metadata_df[\"file_id\"]).reset_index()\n",
    "# all() returns true if all values in an iterable are true\n",
    "assert all(test_df[\"file_id\"] == test_metadata_df[\"file_id\"]), \"file_id columns in the two dataframes don't match.\"\n",
    "test_df.head(3)"
   ]
  },
  {
   "cell_type": "markdown",
   "id": "b92b1477",
   "metadata": {},
   "source": [
    "The dataframes are now aligned."
   ]
  },
  {
   "cell_type": "code",
   "execution_count": 168,
   "id": "6ed31f94",
   "metadata": {},
   "outputs": [],
   "source": [
    "scaler = StandardScaler()\n",
    "\n",
    "# testing data\n",
    "test_features_df = test_df[test_df.columns[~test_df.columns.isin([\"file_id\"])]]\n",
    "test_features = np.array(test_features_df)\n",
    "scaled_test_features = scaler.fit_transform(test_features)\n",
    "\n",
    "# training data\n",
    "train_features_df = train_df[train_df.columns[~train_df.columns.isin([\"file_id\", \"encoded_emotion\"])]]\n",
    "labels = train_df[\"encoded_emotion\"]\n",
    "\n",
    "train_features = np.array(features_df)\n",
    "labels = np.array(labels)\n",
    "\n",
    "scaled_train_features = scaler.fit_transform(train_features)"
   ]
  },
  {
   "cell_type": "code",
   "execution_count": 169,
   "id": "8a4ed4db",
   "metadata": {},
   "outputs": [
    {
     "name": "stdout",
     "output_type": "stream",
     "text": [
      "{'angry': 0, 'disgust': 1, 'fear': 2, 'happy': 3, 'neutral': 4, 'sadness': 5, 'surprise': 6}\n",
      "\n",
      "\n",
      "{0: 'angry', 1: 'disgust', 2: 'fear', 3: 'happy', 4: 'neutral', 5: 'sadness', 6: 'surprise'}\n"
     ]
    }
   ],
   "source": [
    "emotions = sorted(list(train_metadata_df[\"emotion\"].unique()))\n",
    "num_emotions = len(emotions)\n",
    "\n",
    "keys = emotions\n",
    "values = np.arange(7)\n",
    "emotion_encoder = dict(zip(keys, values))\n",
    "print(emotion_encoder)\n",
    "print(\"\\n\")\n",
    "emotion_decoder = dict(zip(list(emotion_encoder.values()), list(emotion_encoder.keys())))\n",
    "print(emotion_decoder)"
   ]
  },
  {
   "cell_type": "markdown",
   "id": "9b63352a",
   "metadata": {},
   "source": [
    "<a id=\"evaluation\"></a>\n",
    "<h2>Evaluating the model's performance on the training data</h2>"
   ]
  },
  {
   "cell_type": "markdown",
   "id": "32b5ead7",
   "metadata": {},
   "source": [
    "I borrow helper functions from my other notebooks for evaluation."
   ]
  },
  {
   "cell_type": "code",
   "execution_count": 68,
   "id": "37d35d3a",
   "metadata": {},
   "outputs": [],
   "source": [
    "def get_confusion_matrix(truth, predictions):\n",
    "    \"\"\"Returns the confusion matrix given predictions made by a model and the corresponding truth values.\n",
    "        predictions: array of integers\n",
    "        truth: array of integers\n",
    "    \"\"\"\n",
    "    cm = confusion_matrix(truth, predictions)\n",
    "    return cm\n",
    "\n",
    "def get_accuracy_by_class(cm, labels):\n",
    "    \"\"\"Returns a dictionary with the labels as keys and the accuracy of predictions made by a model as values.\n",
    "        confusion_matrix: 2D confusion matrix\n",
    "        labels: list of class names – in this case, emotions\n",
    "    \"\"\"\n",
    "    accuracy_by_class = cm.numpy().diagonal() / cm.sum(axis=1)\n",
    "    accuracy_by_class = [round(acc, 2) for acc in accuracy_by_class]\n",
    "    class_accuracy_dict = dict(zip(emotions, accuracy_by_class))\n",
    "    return class_accuracy_dict\n",
    "    \n",
    "def show_confusion_matrix(cm):\n",
    "    \"\"\"Takes in predictions and the truth as arrays of scalars to create a confusion matrix. The\n",
    "        confusion matrix is then displayed using seaborn. \n",
    "        predictions: array of integers\n",
    "        truth: array of integers\n",
    "    \"\"\"\n",
    "    plt.figure(figsize=(10, 7))\n",
    "    ax = sns.heatmap(cm, annot=True, fmt=\"\",\n",
    "                    xticklabels=list(emotion_decoder.values()),\n",
    "                    yticklabels=list(emotion_decoder.values()))\n",
    "    plt.xlabel(\"Predicted\", fontsize=10, labelpad=5)\n",
    "    plt.ylabel(\"Truth\", fontsize=10, labelpad=5)\n",
    "\n",
    "def plot_performance(model_history):\n",
    "    \"\"\"Uses the model history dict obtained from model.fit().history to plot the \n",
    "    training loss and validation loss in one plot, and the training and validation accuracies in another plot.\"\"\"\n",
    "    metrics = model_history.history\n",
    "    plt.figure(figsize=(16, 5))\n",
    "    plt.subplot(1, 2, 1)\n",
    "    plt.xlabel(\"Epoch\", labelpad=10, fontsize=10)\n",
    "    plt.ylabel(\"Loss\", labelpad=10, fontsize=10)\n",
    "    plt.plot(model_history.epoch, metrics[\"loss\"], metrics[\"val_loss\"])\n",
    "    plt.legend([\"loss\", \"val_loss\"])\n",
    "\n",
    "    plt.subplot(1, 2, 2)\n",
    "    plt.xlabel(\"Epoch\", labelpad=10, fontsize=10)\n",
    "    plt.ylabel(\"Accuracy\", labelpad=10, fontsize=10)\n",
    "    plt.plot(model_history.epoch, metrics[\"accuracy\"], metrics[\"val_accuracy\"])\n",
    "    plt.legend([\"accuracy\", \"val_accuracy\"])\n",
    "\n",
    "def validate(est, X, y, split, fold_index, verbose):\n",
    "    \"\"\"Fits an estimator model and evaluates its performance.\n",
    "        est - Estimator/Model\n",
    "        X - training data\n",
    "        y - validation data\n",
    "        split - tuple of indices, where the first item is the training indices; the second the validation indices.\n",
    "        verbose - if set to true, print when job is complete.\n",
    "    \"\"\"\n",
    "    x_train, y_train = X[split[0], :], y[split[0]]\n",
    "    x_val, y_val = X[split[1], :], y[split[1]]\n",
    "    \n",
    "    # creating the tensorflow datasets from the numpy arrays.\n",
    "    train_ds = tf.data.Dataset.from_tensor_slices((x_train, y_train))\n",
    "    train_ds = train_ds.shuffle(len(train_ds))\n",
    "    num_train = len(train_ds)\n",
    "    num_val = int(0.1*num_train)\n",
    "    # I hold back some of the training data for validation when fitting the model, which is used for \n",
    "    # early stopping.\n",
    "    val_ds = train_ds.take(num_val)\n",
    "    train_ds = train_ds.skip(num_val)\n",
    "    batch_size=64\n",
    "    AUTOTUNE = tf.data.AUTOTUNE\n",
    "    train_ds = train_ds.shuffle(len(train_ds)).batch(batch_size).cache().prefetch(AUTOTUNE)\n",
    "    val_ds = val_ds.shuffle(len(val_ds)).batch(batch_size).cache().prefetch(AUTOTUNE)\n",
    "    \n",
    "    # Stops training when the validation loss doesn't improve for 3 conecutive epochs.\n",
    "    early_stopping = tf.keras.callbacks.EarlyStopping(monitor=\"val_loss\", patience=5)\n",
    "    callbacks = [early_stopping]\n",
    "    # fitting the model \n",
    "    est.fit(train_ds, \n",
    "            validation_data=val_ds, \n",
    "            epochs=100, \n",
    "            callbacks=callbacks,\n",
    "            verbose=0)\n",
    "    \n",
    "    # making predictions\n",
    "    y_pred = est.predict(x_val)\n",
    "    y_pred = np.argmax(y_pred, axis=1)\n",
    "    \n",
    "    # computing and storing the metrics\n",
    "    metrics = {}\n",
    "    metrics[\"accuracy\"] = accuracy_score(y_val, y_pred)\n",
    "    # f1-scores for each individual class: returns an array\n",
    "    f1_individual_scores = f1_score(y_val, y_pred, average=None) \n",
    "    for i, f1_individual_score in enumerate(f1_individual_scores):\n",
    "        metrics[f\"f1_{emotions[i]}\"] = f1_individual_score\n",
    "    # aggregates the contributions of each class, then computes the f1-score, thus not favouring any one class.\n",
    "    metrics[\"f1_micro\"] = f1_score(y_val, y_pred, average=\"micro\") \n",
    "    # Computes the f1-score for each class, then weights them by how frequently they appeared, returning\n",
    "    # a single score.\n",
    "    metrics[\"f1_weighted\"] = f1_score(y_val, y_pred, average=\"weighted\")\n",
    "    # Computes the f1-score for each class and then gets their average.\n",
    "    metrics[\"f1_macro\"] = f1_score(y_val, y_pred, average=\"macro\") # same as f1_individual.mean()\n",
    "    \n",
    "    if verbose: \n",
    "        print(f\"Completed job {fold_index}\")\n",
    "    return pd.DataFrame(metrics, index=[\"fold_\"+str(fold_index)])\n",
    "\n",
    "def cross_validate(est, file_name, X, y, n_splits=10, verbose=True):\n",
    "    \"\"\"Cross-validates an estimator for n_splits stratified k-fold cross validation.\n",
    "        file_name - name of the file storing the initial weights of the model, so that each\n",
    "                    iteration the model is reinitialized, starting learning from scratch.\n",
    "        X - features\n",
    "        y - labels\n",
    "        n_splits - number of folds in cross-validation.\n",
    "        verbose - if set to true, prints when each validation job is complete.\n",
    "    \"\"\"\n",
    "    # StratifiedKFOld used to ensure that the mean response value is approximately equal in each fold.\n",
    "    # In simpler terms, it makes sure that the distribution of labels in each fold is somewhat equal.\n",
    "    cv = StratifiedKFold(n_splits=n_splits, shuffle=True, random_state=42)\n",
    "    folds = list(cv.split(scaled_features, labels))\n",
    "    \n",
    "    results = []\n",
    "    # save initial weights so that for each iteration of cross-validation the model can be reinitialized\n",
    "    path_root = \"./dnn_model_weights\"\n",
    "    file_path = os.path.join(path_root, file_name)\n",
    "    if not os.path.isdir(path_root):\n",
    "        os.mkdir(path_root)\n",
    "    est.save_weights(file_path)\n",
    "    for fold_index, fold in enumerate(folds):\n",
    "        # Loading the initial model: essentially refreshing the model.\n",
    "        est.load_weights(file_path)\n",
    "        results.append(validate(est, X, y, fold, fold_index, verbose))\n",
    "        \n",
    "    return pd.concat(results, axis=0)"
   ]
  },
  {
   "cell_type": "code",
   "execution_count": 47,
   "id": "3608b64c",
   "metadata": {},
   "outputs": [
    {
     "name": "stdout",
     "output_type": "stream",
     "text": [
      "Model: \"sequential_7\"\n",
      "_________________________________________________________________\n",
      " Layer (type)                Output Shape              Param #   \n",
      "=================================================================\n",
      " dense_28 (Dense)            (None, 256)               61952     \n",
      "                                                                 \n",
      " dropout_21 (Dropout)        (None, 256)               0         \n",
      "                                                                 \n",
      " dense_29 (Dense)            (None, 256)               65792     \n",
      "                                                                 \n",
      " dropout_22 (Dropout)        (None, 256)               0         \n",
      "                                                                 \n",
      " dense_30 (Dense)            (None, 256)               65792     \n",
      "                                                                 \n",
      " dropout_23 (Dropout)        (None, 256)               0         \n",
      "                                                                 \n",
      " dense_31 (Dense)            (None, 7)                 1799      \n",
      "                                                                 \n",
      "=================================================================\n",
      "Total params: 195,335\n",
      "Trainable params: 195,335\n",
      "Non-trainable params: 0\n",
      "_________________________________________________________________\n"
     ]
    }
   ],
   "source": [
    "model = models.Sequential([\n",
    "    layers.Input(shape=(241,)),\n",
    "    layers.Dense(256, activation=\"relu\"),\n",
    "    layers.Dropout(0.2),\n",
    "    layers.Dense(256, activation=\"relu\"),\n",
    "    layers.Dropout(0.2),\n",
    "    layers.Dense(256, activation=\"relu\"),\n",
    "    layers.Dropout(0.2),\n",
    "    layers.Dense(7, activation=\"softmax\")\n",
    "])\n",
    "\n",
    "model.summary()\n",
    "\n",
    "model.compile(\n",
    "        optimizer=tf.keras.optimizers.Adam(0.001),\n",
    "        loss=tf.keras.losses.SparseCategoricalCrossentropy(),\n",
    "        metrics=\"accuracy\"\n",
    ")"
   ]
  },
  {
   "cell_type": "code",
   "execution_count": 48,
   "id": "ddb72ca8",
   "metadata": {},
   "outputs": [
    {
     "name": "stdout",
     "output_type": "stream",
     "text": [
      "Completed job 0\n",
      "Completed job 1\n",
      "Completed job 2\n",
      "Completed job 3\n",
      "Completed job 4\n",
      "Completed job 5\n",
      "Completed job 6\n",
      "Completed job 7\n",
      "Completed job 8\n",
      "Completed job 9\n"
     ]
    }
   ],
   "source": [
    "# Stratified K-fold cross validation, model trained for at most 100 epochs.\n",
    "model_metrics = cross_validate(model, \"final_model_init\", scaled_train_features, labels, n_splits=10, verbose=True)"
   ]
  },
  {
   "cell_type": "code",
   "execution_count": 49,
   "id": "a268c334",
   "metadata": {
    "scrolled": true
   },
   "outputs": [
    {
     "data": {
      "text/plain": [
       "accuracy       0.657864\n",
       "f1_angry       0.748318\n",
       "f1_disgust     0.609943\n",
       "f1_fear        0.600650\n",
       "f1_happy       0.609028\n",
       "f1_neutral     0.641414\n",
       "f1_sadness     0.652882\n",
       "f1_surprise    0.870191\n",
       "f1_micro       0.657864\n",
       "f1_weighted    0.656445\n",
       "f1_macro       0.676061\n",
       "dtype: float64"
      ]
     },
     "execution_count": 49,
     "metadata": {},
     "output_type": "execute_result"
    }
   ],
   "source": [
    "model_metrics.mean()"
   ]
  },
  {
   "cell_type": "markdown",
   "id": "922be69a",
   "metadata": {},
   "source": [
    "The above metrics are the results of the model after 10-fold cross-validation. However, it would be helpful to see how the model performs during training by plotting its history. I'll split the data into a training, validation and testing set, fit the model to the training data and validate it using the validation data; then I will test the fitted model on the held out testing set and plot a confusion matrix. "
   ]
  },
  {
   "cell_type": "code",
   "execution_count": 87,
   "id": "03bc0152",
   "metadata": {},
   "outputs": [],
   "source": [
    "# 90% training, 10% testing. \n",
    "# The training dataset will be further split up into 80% for training and 20% for validation.\n",
    "x_train, x_test, y_train, y_test = train_test_split(scaled_train_features, labels, test_size=0.2)\n",
    "\n",
    "num_instances = len(x_train)\n",
    "num_val = int(0.2*num_instances)\n",
    "num_train = int(0.8*num_instances)\n",
    "\n",
    "train_ds = tf.data.Dataset.from_tensor_slices((x_train, y_train))\n",
    "train_ds = train_ds.shuffle(len(train_ds))\n",
    "val_ds = train_ds.take(num_val)\n",
    "train_ds = train_ds.skip(num_val)\n",
    "\n",
    "batch_size = 64\n",
    "train_ds = train_ds.batch(batch_size).cache().prefetch(tf.data.AUTOTUNE)\n",
    "val_ds = val_ds.batch(batch_size).cache().prefetch(tf.data.AUTOTUNE)"
   ]
  },
  {
   "cell_type": "code",
   "execution_count": 88,
   "id": "4b398735",
   "metadata": {},
   "outputs": [],
   "source": [
    "model = models.Sequential([\n",
    "    layers.Input(shape=(241,)),\n",
    "    layers.Dense(256, activation=\"relu\"),\n",
    "    layers.Dropout(0.2),\n",
    "    layers.Dense(256, activation=\"relu\"),\n",
    "    layers.Dropout(0.2),\n",
    "    layers.Dense(256, activation=\"relu\"),\n",
    "    layers.Dropout(0.2),\n",
    "    layers.Dense(7, activation=\"softmax\")\n",
    "])\n",
    "\n",
    "model.compile(\n",
    "        optimizer=tf.keras.optimizers.Adam(0.001),\n",
    "        loss=tf.keras.losses.SparseCategoricalCrossentropy(),\n",
    "        metrics=\"accuracy\"\n",
    ")"
   ]
  },
  {
   "cell_type": "markdown",
   "id": "d3584968",
   "metadata": {},
   "source": [
    "I won't use early stopping so we can see if, or when, the model overfits."
   ]
  },
  {
   "cell_type": "code",
   "execution_count": 89,
   "id": "8cfbfada",
   "metadata": {},
   "outputs": [],
   "source": [
    "history = model.fit(train_ds, \n",
    "                    validation_data=val_ds,\n",
    "                    epochs=100,\n",
    "                    verbose=0)"
   ]
  },
  {
   "cell_type": "code",
   "execution_count": 90,
   "id": "895b73f3",
   "metadata": {
    "scrolled": true
   },
   "outputs": [
    {
     "data": {
      "image/png": "[encoded data removed]",
      "text/plain": [
       "<Figure size 1152x360 with 2 Axes>"
      ]
     },
     "metadata": {
      "needs_background": "light"
     },
     "output_type": "display_data"
    }
   ],
   "source": [
    "plot_performance(history)"
   ]
  },
  {
   "cell_type": "markdown",
   "id": "79a078ce",
   "metadata": {},
   "source": [
    "The model strangely performs very well when fitted only once. Though this is deceiving. You'll see this when it makes predictions on the held-out test set."
   ]
  },
  {
   "cell_type": "code",
   "execution_count": 91,
   "id": "1fef5f2a",
   "metadata": {},
   "outputs": [
    {
     "data": {
      "image/png": "[encoded data removed]",
      "text/plain": [
       "<Figure size 720x504 with 2 Axes>"
      ]
     },
     "metadata": {
      "needs_background": "light"
     },
     "output_type": "display_data"
    }
   ],
   "source": [
    "y_pred = model.predict(x_test)\n",
    "y_pred = np.argmax(y_pred, axis=1)\n",
    "cm = get_confusion_matrix(y_test, y_pred)\n",
    "show_confusion_matrix(cm)"
   ]
  },
  {
   "cell_type": "code",
   "execution_count": 95,
   "id": "fafdcd71",
   "metadata": {},
   "outputs": [
    {
     "name": "stdout",
     "output_type": "stream",
     "text": [
      "f1_angry: 0.79\n",
      "f1_disgust: 0.63\n",
      "f1_fear: 0.58\n",
      "f1_happy: 0.62\n",
      "f1_neutral: 0.61\n",
      "f1_sadness: 0.64\n",
      "f1_surprise: 0.83\n",
      "------------------------------\n",
      "f1_macro: 0.67\n",
      "f1_micro: 0.66\n",
      "f1_weighted: 0.66\n"
     ]
    }
   ],
   "source": [
    "individual = f1_score(y_test, y_pred, average=None)\n",
    "macro = f1_score(y_test, y_pred, average=\"macro\")\n",
    "micro = f1_score(y_test, y_pred, average=\"micro\")\n",
    "weighted = f1_score(y_test, y_pred, average=\"weighted\")\n",
    "for index, score in enumerate(individual):\n",
    "    print(f\"f1_{emotions[index]}: {round(score, 2)}\")\n",
    "print('-'*30)\n",
    "print(f\"f1_macro: {round(macro,2)}\")\n",
    "print(f\"f1_micro: {round(micro, 2)}\")\n",
    "print(f\"f1_weighted: {round(weighted, 2)}\")"
   ]
  },
  {
   "cell_type": "markdown",
   "id": "06cee267",
   "metadata": {},
   "source": [
    "And, as can be seen, it achieves very similar metrics to the mean results from 10-fold cross-validation."
   ]
  },
  {
   "cell_type": "markdown",
   "id": "bac1c675",
   "metadata": {},
   "source": [
    "<a id=\"testing\"></a>\n",
    "<h2>Making predictions on the testing data</h2>"
   ]
  },
  {
   "cell_type": "markdown",
   "id": "fa47a5dc",
   "metadata": {},
   "source": [
    "I'll fit the model on all the training data to give it as many observations as possible, and then make predictions on the testing data. I'll decode the predictions into the emotions as strings, then insert it as a column into the testing metadata .csv file."
   ]
  },
  {
   "cell_type": "code",
   "execution_count": 170,
   "id": "e29abced",
   "metadata": {},
   "outputs": [],
   "source": [
    "# Building the model\n",
    "model = models.Sequential([\n",
    "    layers.Input(shape=(241,)),\n",
    "    layers.Dense(256, activation=\"relu\"),\n",
    "    layers.Dropout(0.2),\n",
    "    layers.Dense(256, activation=\"relu\"),\n",
    "    layers.Dropout(0.2),\n",
    "    layers.Dense(256, activation=\"relu\"),\n",
    "    layers.Dropout(0.2),\n",
    "    layers.Dense(7, activation=\"softmax\")\n",
    "])\n",
    "\n",
    "model.compile(\n",
    "        optimizer=tf.keras.optimizers.Adam(0.001),\n",
    "        loss=tf.keras.losses.SparseCategoricalCrossentropy(),\n",
    "        metrics=\"accuracy\"\n",
    ")"
   ]
  },
  {
   "cell_type": "code",
   "execution_count": 171,
   "id": "bd036b99",
   "metadata": {},
   "outputs": [],
   "source": [
    "# Creating the datasets\n",
    "train_ds = tf.data.Dataset.from_tensor_slices((scaled_train_features, labels))\n",
    "train_ds = train_ds.shuffle(len(train_ds))\n",
    "\n",
    "num_instances = len(train_ds)\n",
    "# I'll hold out 15% of teh training data for the validation set which will have its loss \n",
    "# monitored for early stopping, to ensure that the model doesn't overfit.\n",
    "num_val = int(0.15*num_instances)\n",
    "val_ds = train_ds.take(num_val)\n",
    "train_ds = train_ds.skip(num_val)\n",
    "\n",
    "batch_size = 64\n",
    "train_ds = train_ds.batch(batch_size).cache().prefetch(tf.data.AUTOTUNE)\n",
    "val_ds = val_ds.batch(batch_size).cache().prefetch(tf.data.AUTOTUNE)"
   ]
  },
  {
   "cell_type": "code",
   "execution_count": 172,
   "id": "9544ac10",
   "metadata": {},
   "outputs": [
    {
     "data": {
      "text/plain": [
       "<keras.callbacks.History at 0x2bec90a00>"
      ]
     },
     "execution_count": 172,
     "metadata": {},
     "output_type": "execute_result"
    }
   ],
   "source": [
    "model.fit(train_ds, \n",
    "          validation_data=val_ds, \n",
    "          epochs=100,\n",
    "          callbacks=tf.keras.callbacks.EarlyStopping(monitor=\"val_loss\", patience=5),\n",
    "          verbose=0)"
   ]
  },
  {
   "cell_type": "code",
   "execution_count": 173,
   "id": "09a3c41d",
   "metadata": {},
   "outputs": [],
   "source": [
    "test_predictions = model.predict(scaled_test_features)\n",
    "test_predictions = np.argmax(test_predictions, axis=1)\n",
    "# test predictions are now integer values in the range [0, 7). They can be\n",
    "# decoded, i.e. the emotion as a word can be extracted, by passing in their value\n",
    "# as an index into the emotions list.\n",
    "test_predictions = [emotions[pred] for pred in test_predictions]"
   ]
  },
  {
   "cell_type": "markdown",
   "id": "d767acbc",
   "metadata": {},
   "source": [
    "Now, I save these predictions to the ```predicted_emotion``` column in the testing metadata dataframe."
   ]
  },
  {
   "cell_type": "code",
   "execution_count": 174,
   "id": "b94dc65b",
   "metadata": {},
   "outputs": [
    {
     "data": {
      "text/html": [
       "<div>\n",
       "<style scoped>\n",
       "    .dataframe tbody tr th:only-of-type {\n",
       "        vertical-align: middle;\n",
       "    }\n",
       "\n",
       "    .dataframe tbody tr th {\n",
       "        vertical-align: top;\n",
       "    }\n",
       "\n",
       "    .dataframe thead th {\n",
       "        text-align: right;\n",
       "    }\n",
       "</style>\n",
       "<table border=\"1\" class=\"dataframe\">\n",
       "  <thead>\n",
       "    <tr style=\"text-align: right;\">\n",
       "      <th></th>\n",
       "      <th>file_id</th>\n",
       "      <th>origin</th>\n",
       "      <th>predicted_emotion</th>\n",
       "    </tr>\n",
       "  </thead>\n",
       "  <tbody>\n",
       "    <tr>\n",
       "      <th>0</th>\n",
       "      <td>030472df-9d70-4d76-a1a5-acb4c33537d3.wav</td>\n",
       "      <td>crema</td>\n",
       "      <td>neutral</td>\n",
       "    </tr>\n",
       "    <tr>\n",
       "      <th>1</th>\n",
       "      <td>ac4720de-e0d9-4667-86a7-4236d410ed25.wav</td>\n",
       "      <td>crema</td>\n",
       "      <td>neutral</td>\n",
       "    </tr>\n",
       "    <tr>\n",
       "      <th>2</th>\n",
       "      <td>264928af-cb15-4125-abf7-9408369d83b2.wav</td>\n",
       "      <td>crema</td>\n",
       "      <td>happy</td>\n",
       "    </tr>\n",
       "    <tr>\n",
       "      <th>3</th>\n",
       "      <td>2233ce2b-35ae-483c-9397-1058f681b6ef.wav</td>\n",
       "      <td>crema</td>\n",
       "      <td>fear</td>\n",
       "    </tr>\n",
       "    <tr>\n",
       "      <th>4</th>\n",
       "      <td>472aa1eb-b4dc-452c-84b7-934ed61285da.wav</td>\n",
       "      <td>crema</td>\n",
       "      <td>disgust</td>\n",
       "    </tr>\n",
       "  </tbody>\n",
       "</table>\n",
       "</div>"
      ],
      "text/plain": [
       "                                    file_id origin predicted_emotion\n",
       "0  030472df-9d70-4d76-a1a5-acb4c33537d3.wav  crema           neutral\n",
       "1  ac4720de-e0d9-4667-86a7-4236d410ed25.wav  crema           neutral\n",
       "2  264928af-cb15-4125-abf7-9408369d83b2.wav  crema             happy\n",
       "3  2233ce2b-35ae-483c-9397-1058f681b6ef.wav  crema              fear\n",
       "4  472aa1eb-b4dc-452c-84b7-934ed61285da.wav  crema           disgust"
      ]
     },
     "execution_count": 174,
     "metadata": {},
     "output_type": "execute_result"
    }
   ],
   "source": [
    "test_metadata_df[\"predicted_emotion\"] = test_predictions\n",
    "test_metadata_df.head()"
   ]
  },
  {
   "cell_type": "markdown",
   "id": "dadea42c",
   "metadata": {},
   "source": [
    "The predicted emotions are now in the dataframe. I'll save this dataframe as a .csv file, named \" \"final_test_answers.csv\"."
   ]
  },
  {
   "cell_type": "code",
   "execution_count": 175,
   "id": "2aebedb2",
   "metadata": {},
   "outputs": [],
   "source": [
    "test_metadata_df.to_csv(\"challengeA_data/final_test_answers.csv\")"
   ]
  },
  {
   "cell_type": "markdown",
   "id": "be13e7b6",
   "metadata": {},
   "source": [
    "<a id=\"saving\"></a>\n",
    "<h2>Saving model to file</h2>"
   ]
  },
  {
   "cell_type": "markdown",
   "id": "313357d3",
   "metadata": {},
   "source": [
    "I'll also save this final fitted model to file."
   ]
  },
  {
   "cell_type": "code",
   "execution_count": 176,
   "id": "9899b6a8",
   "metadata": {},
   "outputs": [
    {
     "name": "stdout",
     "output_type": "stream",
     "text": [
      "INFO:tensorflow:Assets written to: ./final_model/assets\n"
     ]
    }
   ],
   "source": [
    "model.save(\"./final_model\")"
   ]
  },
  {
   "cell_type": "code",
   "execution_count": 177,
   "id": "8e2b1dac",
   "metadata": {},
   "outputs": [
    {
     "name": "stdout",
     "output_type": "stream",
     "text": [
      "Model: \"sequential_13\"\n",
      "_________________________________________________________________\n",
      " Layer (type)                Output Shape              Param #   \n",
      "=================================================================\n",
      " dense_52 (Dense)            (None, 256)               61952     \n",
      "                                                                 \n",
      " dropout_39 (Dropout)        (None, 256)               0         \n",
      "                                                                 \n",
      " dense_53 (Dense)            (None, 256)               65792     \n",
      "                                                                 \n",
      " dropout_40 (Dropout)        (None, 256)               0         \n",
      "                                                                 \n",
      " dense_54 (Dense)            (None, 256)               65792     \n",
      "                                                                 \n",
      " dropout_41 (Dropout)        (None, 256)               0         \n",
      "                                                                 \n",
      " dense_55 (Dense)            (None, 7)                 1799      \n",
      "                                                                 \n",
      "=================================================================\n",
      "Total params: 195,335\n",
      "Trainable params: 195,335\n",
      "Non-trainable params: 0\n",
      "_________________________________________________________________\n"
     ]
    }
   ],
   "source": [
    "loaded_model = tf.keras.models.load_model(\"./final_model\")\n",
    "loaded_model.summary()"
   ]
  },
  {
   "cell_type": "markdown",
   "id": "12c1e985",
   "metadata": {},
   "source": [
    "When loading the model again, you can see that the architecture is the same as was defined earlier. And to prove that it's exactly the same as the model fitted on the training data, I will make predictions with the loaded model on the testing data and check that it make the exact same predictions as it did earlier."
   ]
  },
  {
   "cell_type": "code",
   "execution_count": 178,
   "id": "fbc458a3",
   "metadata": {},
   "outputs": [],
   "source": [
    "loaded_model_predictions = loaded_model.predict(scaled_test_features)\n",
    "loaded_model_predictions = np.argmax(loaded_model_predictions, axis=1)\n",
    "loaded_model_predictions = [emotions[pred] for pred in loaded_model_predictions]"
   ]
  },
  {
   "cell_type": "code",
   "execution_count": 179,
   "id": "f7d721a1",
   "metadata": {},
   "outputs": [
    {
     "name": "stdout",
     "output_type": "stream",
     "text": [
      "The predictions match.\n"
     ]
    }
   ],
   "source": [
    "for pred1, pred2 in zip(loaded_model_predictions, test_predictions):\n",
    "    assert pred1==pred2, \"The predictions don't match; the model wasn't saved correctly.\"\n",
    "print(\"The predictions match.\")"
   ]
  },
  {
   "cell_type": "markdown",
   "id": "3e646040",
   "metadata": {},
   "source": [
    "And that brings us to the end of this challenge."
   ]
  },
  {
   "cell_type": "markdown",
   "id": "01ef8374",
   "metadata": {},
   "source": [
    "The experience I gained from this competition was nothing short of astounding. I greatly appreciate you all giving me the opportunity to compete, and for considering my project."
   ]
  },
  {
   "cell_type": "code",
   "execution_count": null,
   "id": "88e6889b",
   "metadata": {},
   "outputs": [],
   "source": []
  }
 ],
 "metadata": {
  "kernelspec": {
   "display_name": "LoopQPrize",
   "language": "python",
   "name": "loopqprize"
  },
  "language_info": {
   "codemirror_mode": {
    "name": "ipython",
    "version": 3
   },
   "file_extension": ".py",
   "mimetype": "text/x-python",
   "name": "python",
   "nbconvert_exporter": "python",
   "pygments_lexer": "ipython3",
   "version": "3.8.13"
  }
 },
 "nbformat": 4,
 "nbformat_minor": 5
}
