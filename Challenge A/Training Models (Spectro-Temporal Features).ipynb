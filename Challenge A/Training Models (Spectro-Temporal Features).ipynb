{
 "cells": [
  {
   "cell_type": "markdown",
   "id": "3e6d2bee",
   "metadata": {},
   "source": [
    "<center><h1>Training models on the spectro-temporal features</h1></center>"
   ]
  },
  {
   "cell_type": "markdown",
   "id": "2ee455c7",
   "metadata": {},
   "source": [
    "In this notebook, I experiment with various models trained on mel-spectrograms."
   ]
  },
  {
   "cell_type": "markdown",
   "id": "1434c5bb",
   "metadata": {},
   "source": [
    "[Loading the data](#loading)<br>\n",
    "[CNNs](#cnns)<br>\n",
    "[CNN Results](#results)<br>"
   ]
  },
  {
   "cell_type": "code",
   "execution_count": 2,
   "id": "0da1a855",
   "metadata": {},
   "outputs": [],
   "source": [
    "import matplotlib.pyplot as plt\n",
    "import os\n",
    "import pandas as pd\n",
    "import numpy as np\n",
    "import librosa\n",
    "import librosa.display\n",
    "from IPython.display import clear_output, display\n",
    "import glob\n",
    "import seaborn as sns\n",
    "import random\n",
    "import tensorflow as tf\n",
    "from tensorflow.keras import layers, models, regularizers\n",
    "from sklearn.metrics import classification_report, f1_score"
   ]
  },
  {
   "cell_type": "code",
   "execution_count": 4,
   "id": "47a17b41",
   "metadata": {},
   "outputs": [],
   "source": [
    "DATA_PATH = \"challengeA_data\"\n",
    "TRAIN_METADATA_PATH = os.path.join(DATA_PATH, \"2022challengeA_train_modified.csv\")\n",
    "TRAIN_PATH = \"challengeA_data/train\""
   ]
  },
  {
   "cell_type": "code",
   "execution_count": 5,
   "id": "de71e908",
   "metadata": {},
   "outputs": [
    {
     "data": {
      "text/html": [
       "<div>\n",
       "<style scoped>\n",
       "    .dataframe tbody tr th:only-of-type {\n",
       "        vertical-align: middle;\n",
       "    }\n",
       "\n",
       "    .dataframe tbody tr th {\n",
       "        vertical-align: top;\n",
       "    }\n",
       "\n",
       "    .dataframe thead th {\n",
       "        text-align: right;\n",
       "    }\n",
       "</style>\n",
       "<table border=\"1\" class=\"dataframe\">\n",
       "  <thead>\n",
       "    <tr style=\"text-align: right;\">\n",
       "      <th></th>\n",
       "      <th>file_id</th>\n",
       "      <th>emotion</th>\n",
       "      <th>encoded_emotion</th>\n",
       "      <th>origin</th>\n",
       "      <th>duration</th>\n",
       "      <th>sample_rate</th>\n",
       "      <th>n_channels</th>\n",
       "    </tr>\n",
       "  </thead>\n",
       "  <tbody>\n",
       "    <tr>\n",
       "      <th>0</th>\n",
       "      <td>63d8a717-54e7-43d6-bcd7-8f4504ca001b.wav</td>\n",
       "      <td>neutral</td>\n",
       "      <td>4</td>\n",
       "      <td>crema</td>\n",
       "      <td>2.769437</td>\n",
       "      <td>16000.0</td>\n",
       "      <td>1</td>\n",
       "    </tr>\n",
       "    <tr>\n",
       "      <th>1</th>\n",
       "      <td>e639efb3-48f8-4735-8c42-8caf9acc6f53.wav</td>\n",
       "      <td>fear</td>\n",
       "      <td>2</td>\n",
       "      <td>crema</td>\n",
       "      <td>2.569250</td>\n",
       "      <td>16000.0</td>\n",
       "      <td>1</td>\n",
       "    </tr>\n",
       "    <tr>\n",
       "      <th>2</th>\n",
       "      <td>cae0047c-48a2-4b07-826f-912fa58e3e40.wav</td>\n",
       "      <td>sadness</td>\n",
       "      <td>5</td>\n",
       "      <td>crema</td>\n",
       "      <td>3.470125</td>\n",
       "      <td>16000.0</td>\n",
       "      <td>1</td>\n",
       "    </tr>\n",
       "    <tr>\n",
       "      <th>3</th>\n",
       "      <td>ac123685-eacc-4443-9fc6-97cc83a6b9c8.wav</td>\n",
       "      <td>sadness</td>\n",
       "      <td>5</td>\n",
       "      <td>crema</td>\n",
       "      <td>2.702688</td>\n",
       "      <td>16000.0</td>\n",
       "      <td>1</td>\n",
       "    </tr>\n",
       "    <tr>\n",
       "      <th>4</th>\n",
       "      <td>17f7ca5b-ac20-4584-9a3f-e0591f6bdd6a.wav</td>\n",
       "      <td>surprise</td>\n",
       "      <td>6</td>\n",
       "      <td>savee</td>\n",
       "      <td>6.289297</td>\n",
       "      <td>44100.0</td>\n",
       "      <td>1</td>\n",
       "    </tr>\n",
       "  </tbody>\n",
       "</table>\n",
       "</div>"
      ],
      "text/plain": [
       "                                    file_id   emotion  encoded_emotion origin  \\\n",
       "0  63d8a717-54e7-43d6-bcd7-8f4504ca001b.wav   neutral                4  crema   \n",
       "1  e639efb3-48f8-4735-8c42-8caf9acc6f53.wav      fear                2  crema   \n",
       "2  cae0047c-48a2-4b07-826f-912fa58e3e40.wav   sadness                5  crema   \n",
       "3  ac123685-eacc-4443-9fc6-97cc83a6b9c8.wav   sadness                5  crema   \n",
       "4  17f7ca5b-ac20-4584-9a3f-e0591f6bdd6a.wav  surprise                6  savee   \n",
       "\n",
       "   duration  sample_rate  n_channels  \n",
       "0  2.769437      16000.0           1  \n",
       "1  2.569250      16000.0           1  \n",
       "2  3.470125      16000.0           1  \n",
       "3  2.702688      16000.0           1  \n",
       "4  6.289297      44100.0           1  "
      ]
     },
     "execution_count": 5,
     "metadata": {},
     "output_type": "execute_result"
    }
   ],
   "source": [
    "train_df = pd.read_csv(TRAIN_METADATA_PATH, index_col=[0])\n",
    "train_df = train_df.sample(frac=1).reset_index(drop=True)\n",
    "train_df.head()"
   ]
  },
  {
   "cell_type": "markdown",
   "id": "084aee49",
   "metadata": {},
   "source": [
    "<h3>Helper functions and useful variables</h3>"
   ]
  },
  {
   "cell_type": "code",
   "execution_count": 6,
   "id": "dce69c47",
   "metadata": {},
   "outputs": [
    {
     "name": "stdout",
     "output_type": "stream",
     "text": [
      "{'angry': 0, 'disgust': 1, 'fear': 2, 'happy': 3, 'neutral': 4, 'sadness': 5, 'surprise': 6}\n",
      "\n",
      "\n",
      "{0: 'angry', 1: 'disgust', 2: 'fear', 3: 'happy', 4: 'neutral', 5: 'sadness', 6: 'surprise'}\n"
     ]
    }
   ],
   "source": [
    "emotions = sorted(list(train_df[\"emotion\"].unique()))\n",
    "num_emotions = len(emotions)\n",
    "\n",
    "keys = emotions\n",
    "values = np.arange(7)\n",
    "emotion_encoder = dict(zip(keys, values))\n",
    "print(emotion_encoder)\n",
    "print(\"\\n\")\n",
    "emotion_decoder = dict(zip(list(emotion_encoder.values()), list(emotion_encoder.keys())))\n",
    "print(emotion_decoder)"
   ]
  },
  {
   "cell_type": "code",
   "execution_count": 7,
   "id": "a38a21b9",
   "metadata": {},
   "outputs": [],
   "source": [
    "def get_confusion_matrix(truth, predictions):\n",
    "    \"\"\"Returns the confusion matrix given predictions made by a model and the corresponding truth values.\n",
    "        predictions: array of integers\n",
    "        truth: array of integers\n",
    "    \"\"\"\n",
    "    confusion_matrix = tf.math.confusion_matrix(truth, predictions, num_classes=7)\n",
    "    return confusion_matrix\n",
    "\n",
    "def get_accuracy_by_class(confusion_matrix, labels):\n",
    "    \"\"\"Returns a dictionary with the labels as keys and the accuracy of predictions made by a model as values.\n",
    "        confusion_matrix: 2D confusion matrix\n",
    "        labels: list of class names – in this case, emotions\n",
    "    \"\"\"\n",
    "    accuracy_by_class = confusion_matrix.numpy().diagonal() / confusion_matrix.numpy().sum(axis=1)\n",
    "    accuracy_by_class = [round(acc, 2) for acc in accuracy_by_class]\n",
    "    class_accuracy_dict = dict(zip(emotions, accuracy_by_class))\n",
    "    return class_accuracy_dict\n",
    "    \n",
    "def show_confusion_matrix(confusion_matrix):\n",
    "    \"\"\"Takes in predictions and the truth as arrays of scalars to create a confusion matrix. The\n",
    "        confusion matrix is then displayed using seaborn. \n",
    "        predictions: array of integers\n",
    "        truth: array of integers\n",
    "    \"\"\"\n",
    "    plt.figure(figsize=(10, 7))\n",
    "    ax = sns.heatmap(confusion_matrix, annot=True, fmt=\"\",\n",
    "                    xticklabels=list(emotion_decoder.values()),\n",
    "                    yticklabels=list(emotion_decoder.values()))\n",
    "    plt.xlabel(\"Predicted\", fontsize=10, labelpad=5)\n",
    "    plt.ylabel(\"Truth\", fontsize=10, labelpad=5)\n",
    "    \n",
    "def plot_performance(model_history):\n",
    "    \"\"\"Uses the model history dict obtained from model.fit().history to plot the \n",
    "    training loss and validation loss in one plot, and the training and validation accuracies in another plot.\"\"\"\n",
    "    metrics = model_history.history\n",
    "    plt.figure(figsize=(16, 5))\n",
    "    plt.subplot(1, 2, 1)\n",
    "    plt.xlabel(\"Epoch\", labelpad=10, fontsize=10)\n",
    "    plt.ylabel(\"Loss\", labelpad=10, fontsize=10)\n",
    "    plt.plot(model_history.epoch, metrics[\"loss\"], metrics[\"val_loss\"])\n",
    "    plt.legend([\"loss\", \"val_loss\"])\n",
    "\n",
    "    plt.subplot(1, 2, 2)\n",
    "    plt.xlabel(\"Epoch\", labelpad=10, fontsize=10)\n",
    "    plt.ylabel(\"Accuracy\", labelpad=10, fontsize=10)\n",
    "    plt.plot(model_history.epoch, metrics[\"accuracy\"], metrics[\"val_accuracy\"])\n",
    "    plt.legend([\"accuracy\", \"val_accuracy\"])"
   ]
  },
  {
   "cell_type": "code",
   "execution_count": 8,
   "id": "c66ad7ea",
   "metadata": {},
   "outputs": [],
   "source": [
    "def get_mfcc_and_file_ids(files):\n",
    "    list_mfccs = []\n",
    "    label_ids = []\n",
    "    emotions = ['angry', 'disgust', 'fear', 'happy', 'neutral', 'sadness', 'surprise']\n",
    "    \n",
    "    num_files = len(files)\n",
    "    batch_size = 50\n",
    "    num_batches = num_files // batch_size\n",
    "    if num_batches * batch_size < num_files:\n",
    "        num_batches += 1\n",
    "    \n",
    "    num_files_loaded = 0\n",
    "    for batch in range(num_batches):\n",
    "        start_index = batch*batch_size\n",
    "        for file_index in range(start_index, min(num_files, start_index+batch_size)):\n",
    "            file = files[file_index]\n",
    "            label = tf.strings.split(file, sep=os.path.sep)[-2]\n",
    "\n",
    "            label_id = tf.math.argmax(label == emotions)\n",
    "            label_id = tf.cast(label_id, tf.float32)\n",
    "\n",
    "            mfccs = np.load(file)\n",
    "            mfccs = tf.convert_to_tensor(mfccs)\n",
    "            mfccs = mfccs[..., tf.newaxis]\n",
    "            mfccs = tf.cast(mfccs, tf.float32)\n",
    "\n",
    "            list_mfccs.append(mel_specgram)\n",
    "            label_ids.append(label_id)\n",
    "            num_files_loaded += 1\n",
    "        \n",
    "        clear_output(wait=True)\n",
    "        progress = num_files_loaded / num_files * 100\n",
    "        display(\"Loading files\" + '.'*(batch%3+1))\n",
    "        display(f\"Progress: {round(progress, 2)}%\")\n",
    "    print(\"Complete!\")\n",
    "    \n",
    "    list_mfccs = tf.convert_to_tensor(list_mfccs, dtype=tf.float32)\n",
    "    label_ids = tf.convert_to_tensor(label_ids, dtype=tf.float32)\n",
    "    \n",
    "    return list_mfccs, label_ids\n",
    "\n",
    "def get_mel_specgrams_and_label_ids(files):\n",
    "    mel_specgrams = []\n",
    "    label_ids = []\n",
    "    emotions = ['angry', 'disgust', 'fear', 'happy', 'neutral', 'sadness', 'surprise']\n",
    "    \n",
    "    num_files = len(files)\n",
    "    batch_size = 50\n",
    "    num_batches = num_files // batch_size\n",
    "    if num_batches * batch_size < num_files:\n",
    "        num_batches += 1\n",
    "    \n",
    "    num_files_loaded = 0\n",
    "    for batch in range(num_batches):\n",
    "        start_index = batch*batch_size\n",
    "        for file_index in range(start_index, min(num_files, start_index+batch_size)):\n",
    "            file = files[file_index]\n",
    "            label = tf.strings.split(file, sep=os.path.sep)[-2]\n",
    "\n",
    "            label_id = tf.math.argmax(label == emotions)\n",
    "            label_id = tf.cast(label_id, tf.float32)\n",
    "\n",
    "            mel_specgram = np.load(file)\n",
    "            mel_specgram = tf.convert_to_tensor(mel_specgram)\n",
    "            mel_specgram = mel_specgram[..., tf.newaxis]\n",
    "            mel_specgram = tf.cast(mel_specgram, tf.float32)\n",
    "\n",
    "            mel_specgrams.append(mel_specgram)\n",
    "            label_ids.append(label_id)\n",
    "            num_files_loaded += 1\n",
    "        \n",
    "        clear_output(wait=True)\n",
    "        progress = num_files_loaded / num_files * 100\n",
    "        display(\"Loading files\" + '.'*(batch%3+1))\n",
    "        display(f\"Progress: {round(progress, 2)}%\")\n",
    "    print(\"Complete!\")\n",
    "    \n",
    "    mel_specgrams = tf.convert_to_tensor(mel_specgrams, dtype=tf.float32)\n",
    "    label_ids = tf.convert_to_tensor(label_ids, dtype=tf.float32)\n",
    "    \n",
    "    return mel_specgrams, label_ids\n",
    "\n",
    "def create_dataset(mel_specgrams, label_ids):\n",
    "    ds = tf.data.Dataset.from_tensor_slices((mel_specgrams, label_ids))\n",
    "    # N.B.!!! In order to have every element considered for each random selection, the buffer size needs to be \n",
    "    # equal to or larger than the size of the dataset.\n",
    "    ds = ds.shuffle(buffer_size=len(ds))\n",
    "    \n",
    "    return ds"
   ]
  },
  {
   "cell_type": "markdown",
   "id": "16191a73",
   "metadata": {},
   "source": [
    "<a id=\"loading\"></a>\n",
    "<h1>Loading the data</h1>"
   ]
  },
  {
   "cell_type": "markdown",
   "id": "68b0b8f4",
   "metadata": {},
   "source": [
    "As was mentioned in the data augmentation notebook, when evaluating the performance of the model, it's very important that the model **hasn't seen the validation data in any shape or form, including augmentations of it.** So when holding out data for validation, I will also hold out augmentations of that data."
   ]
  },
  {
   "cell_type": "code",
   "execution_count": 9,
   "id": "24442a17",
   "metadata": {},
   "outputs": [],
   "source": [
    "files = glob.glob(\"challengeA_data/mel_spectrogram/*/*.npy\")\n",
    "excluded = [\"_warped.npy\", \"_noise.npy\"]\n",
    "\n",
    "random.shuffle(files)\n",
    "original_files = [file for file in files if not any([file.endswith(sub) for sub in excluded])]\n",
    "augmented_files = [file for file in files if any([file.endswith(sub) for sub in excluded])]\n",
    "\n",
    "# I'll use 40% of the original files for validation and testing, and the remaining 60% + the augmented \n",
    "# files for training.\n",
    "num_original_files = len(original_files)\n",
    "num_augmented_files = len(augmented_files)\n",
    "num_val = int(0.2 * num_original_files)\n",
    "num_test = int(0.2 * num_original_files)\n",
    "num_train = int(0.6 * num_original_files) + num_augmented_files\n",
    "val_files = original_files[:num_val]\n",
    "test_files = original_files[num_val:num_val+num_test]\n",
    "train_files = original_files[num_val+num_test:]\n",
    "\n",
    "# including only the augmented files that are not augmentations of the training and validation data\n",
    "# Note that it's a very costly operation and takes some time to execute\n",
    "augmented_files_to_include = [file for file in augmented_files \\\n",
    "                              if not any([file.split('/')[-1].replace(\"_warped.npy\", \"\").replace(\"_noise.npy\",\"\") \\\n",
    "                                          in val_file for val_file in val_files]) \\\n",
    "                              and not any([file.split('/')[-1].replace(\"_warped.npy\",\"\").replace(\"_noise.npy\", \"\") \\\n",
    "                                           in test_file for test_file in test_files])]\n",
    "train_files += augmented_files_to_include"
   ]
  },
  {
   "cell_type": "code",
   "execution_count": 10,
   "id": "a51f4e02",
   "metadata": {},
   "outputs": [
    {
     "data": {
      "text/plain": [
       "'Loading files.'"
      ]
     },
     "metadata": {},
     "output_type": "display_data"
    },
    {
     "data": {
      "text/plain": [
       "'Progress: 100.0%'"
      ]
     },
     "metadata": {},
     "output_type": "display_data"
    },
    {
     "name": "stdout",
     "output_type": "stream",
     "text": [
      "Complete!\n"
     ]
    }
   ],
   "source": [
    "# y_train stores stores the labels as integers, where their value is determined by their \n",
    "# index in the list of emotions sorted in alphabetical order.\n",
    "x_train, y_train = get_mel_specgrams_and_label_ids(train_files)"
   ]
  },
  {
   "cell_type": "code",
   "execution_count": 11,
   "id": "2ca319bb",
   "metadata": {},
   "outputs": [
    {
     "data": {
      "text/plain": [
       "'Loading files..'"
      ]
     },
     "metadata": {},
     "output_type": "display_data"
    },
    {
     "data": {
      "text/plain": [
       "'Progress: 100.0%'"
      ]
     },
     "metadata": {},
     "output_type": "display_data"
    },
    {
     "name": "stdout",
     "output_type": "stream",
     "text": [
      "Complete!\n"
     ]
    }
   ],
   "source": [
    "x_val, y_val = get_mel_specgrams_and_label_ids(val_files)"
   ]
  },
  {
   "cell_type": "code",
   "execution_count": 12,
   "id": "2e23e702",
   "metadata": {},
   "outputs": [
    {
     "data": {
      "text/plain": [
       "'Loading files..'"
      ]
     },
     "metadata": {},
     "output_type": "display_data"
    },
    {
     "data": {
      "text/plain": [
       "'Progress: 100.0%'"
      ]
     },
     "metadata": {},
     "output_type": "display_data"
    },
    {
     "name": "stdout",
     "output_type": "stream",
     "text": [
      "Complete!\n"
     ]
    }
   ],
   "source": [
    "x_test, y_test = get_mel_specgrams_and_label_ids(test_files)"
   ]
  },
  {
   "cell_type": "code",
   "execution_count": 13,
   "id": "cb02a912",
   "metadata": {},
   "outputs": [],
   "source": [
    "train_ds = create_dataset(x_train, y_train)\n",
    "val_ds = create_dataset(x_val, y_val)\n",
    "test_ds = create_dataset(x_test, y_test)\n",
    "\n",
    "batch_size = 64\n",
    "AUTOTUNE = tf.data.AUTOTUNE\n",
    "train_ds = train_ds.batch(batch_size).cache().prefetch(AUTOTUNE)\n",
    "val_ds = val_ds.batch(batch_size).cache().prefetch(AUTOTUNE)"
   ]
  },
  {
   "cell_type": "code",
   "execution_count": 14,
   "id": "b88a8f80",
   "metadata": {},
   "outputs": [],
   "source": [
    "# Loading the testing data which will be used after each model is fitted to produce predictions.\n",
    "test_data = []\n",
    "test_labels = []\n",
    "for mel_specgram, label in test_ds:\n",
    "    test_data.append(mel_specgram)\n",
    "    test_labels.append(label)\n",
    "\n",
    "test_data = np.array(test_data)\n",
    "test_labels = np.array(test_labels)"
   ]
  },
  {
   "cell_type": "markdown",
   "id": "dc46fc06",
   "metadata": {},
   "source": [
    "<a id=\"cnns\"></a>\n",
    "<h1>CNNs</h1>"
   ]
  },
  {
   "cell_type": "markdown",
   "id": "6969306d",
   "metadata": {},
   "source": [
    "For training, I will use the same training and validations sets for each model to ensure fairness in the comparison of models. I will train them each for a maximum of 100 epochs, using early stopping to ensure that the models' parameters are saved before overfitting occurs. <br>\n",
    "The models are trained on a total of 44244 examples, batched into groups of 64."
   ]
  },
  {
   "cell_type": "code",
   "execution_count": 15,
   "id": "6bba6664",
   "metadata": {},
   "outputs": [],
   "source": [
    "EPOCHS = 100"
   ]
  },
  {
   "cell_type": "markdown",
   "id": "37659f84",
   "metadata": {},
   "source": [
    "The below two dictionaries will be used to save the histories and predictions of the models which will then be used to display the performance of the different models at the end of the notebook."
   ]
  },
  {
   "cell_type": "code",
   "execution_count": 16,
   "id": "0879aa61",
   "metadata": {},
   "outputs": [],
   "source": [
    "model_histories = {}\n",
    "model_predictions = {}"
   ]
  },
  {
   "cell_type": "markdown",
   "id": "9d27a443",
   "metadata": {},
   "source": [
    "<h3>Baseline model architecture</h3>"
   ]
  },
  {
   "cell_type": "code",
   "execution_count": 554,
   "id": "c5f1b48c",
   "metadata": {
    "scrolled": true
   },
   "outputs": [
    {
     "name": "stdout",
     "output_type": "stream",
     "text": [
      "Model: \"sequential_31\"\n",
      "_________________________________________________________________\n",
      " Layer (type)                Output Shape              Param #   \n",
      "=================================================================\n",
      " resizing_31 (Resizing)      (None, 32, 32, 1)         0         \n",
      "                                                                 \n",
      " conv2d_81 (Conv2D)          (None, 30, 30, 32)        320       \n",
      "                                                                 \n",
      " conv2d_82 (Conv2D)          (None, 28, 28, 64)        18496     \n",
      "                                                                 \n",
      " max_pooling2d_65 (MaxPoolin  (None, 14, 14, 64)       0         \n",
      " g2D)                                                            \n",
      "                                                                 \n",
      " flatten_31 (Flatten)        (None, 12544)             0         \n",
      "                                                                 \n",
      " dense_77 (Dense)            (None, 128)               1605760   \n",
      "                                                                 \n",
      " dropout_102 (Dropout)       (None, 128)               0         \n",
      "                                                                 \n",
      " dense_78 (Dense)            (None, 7)                 903       \n",
      "                                                                 \n",
      "=================================================================\n",
      "Total params: 1,625,479\n",
      "Trainable params: 1,625,479\n",
      "Non-trainable params: 0\n",
      "_________________________________________________________________\n"
     ]
    }
   ],
   "source": [
    "model = models.Sequential([\n",
    "    layers.Input(shape=(128, 125, 1)),\n",
    "    # Downsample the input.\n",
    "    layers.Resizing(32, 32),\n",
    "    layers.Conv2D(32, 3, activation='relu'),\n",
    "    layers.Conv2D(64, 3, activation='relu'),\n",
    "    layers.MaxPooling2D(),\n",
    "    layers.Flatten(),\n",
    "    layers.Dense(128, activation='relu'),\n",
    "    layers.Dropout(0.5),\n",
    "    # Softmax must be the activation in the final layer to convert the vector of values into\n",
    "    # a vector of probabilities.\n",
    "    layers.Dense(7, activation=\"softmax\"),\n",
    "])\n",
    "\n",
    "model.summary()\n",
    "\n",
    "model.compile(\n",
    "    optimizer=tf.keras.optimizers.Adam(0.001),\n",
    "    # SparseCategoricalCrossentropy() is used for integer encoded labels, while CategoricalCrossentropy\n",
    "    # is used for one-hot encoded labels.\n",
    "    loss=tf.keras.losses.SparseCategoricalCrossentropy(),\n",
    "    metrics=[\"accuracy\"]\n",
    ")"
   ]
  },
  {
   "cell_type": "code",
   "execution_count": 555,
   "id": "bb6d6c9e",
   "metadata": {
    "scrolled": true
   },
   "outputs": [
    {
     "name": "stdout",
     "output_type": "stream",
     "text": [
      "Epoch 1/100\n",
      "226/226 [==============================] - 7s 27ms/step - loss: 1.4667 - accuracy: 0.4245 - val_loss: 1.1920 - val_accuracy: 0.5173\n",
      "Epoch 2/100\n",
      "226/226 [==============================] - 6s 25ms/step - loss: 1.1506 - accuracy: 0.5529 - val_loss: 1.1601 - val_accuracy: 0.5381\n",
      "Epoch 3/100\n",
      "226/226 [==============================] - 6s 25ms/step - loss: 1.0266 - accuracy: 0.6024 - val_loss: 1.1267 - val_accuracy: 0.5544\n",
      "Epoch 4/100\n",
      "226/226 [==============================] - 6s 25ms/step - loss: 0.9194 - accuracy: 0.6487 - val_loss: 1.1623 - val_accuracy: 0.5598\n",
      "Epoch 5/100\n",
      "226/226 [==============================] - 6s 25ms/step - loss: 0.8283 - accuracy: 0.6817 - val_loss: 1.1840 - val_accuracy: 0.5608\n",
      "Epoch 6/100\n",
      "226/226 [==============================] - 6s 26ms/step - loss: 0.7364 - accuracy: 0.7196 - val_loss: 1.2135 - val_accuracy: 0.5589\n"
     ]
    }
   ],
   "source": [
    "model_histories[\"baseline\"] = model.fit(train_ds, \n",
    "                    validation_data=val_ds, \n",
    "                    epochs=EPOCHS,\n",
    "                    callbacks=tf.keras.callbacks.EarlyStopping(monitor=\"val_loss\", patience=3))"
   ]
  },
  {
   "cell_type": "code",
   "execution_count": 556,
   "id": "083f5b43",
   "metadata": {},
   "outputs": [],
   "source": [
    "model_predictions[\"baseline\"] = model.predict(test_data)"
   ]
  },
  {
   "cell_type": "markdown",
   "id": "3ef7da4c",
   "metadata": {},
   "source": [
    "<h3>CNN architecture modeled off of FSER</h3>"
   ]
  },
  {
   "cell_type": "markdown",
   "id": "91f38f89",
   "metadata": {},
   "source": [
    "The paper can be found <a href=\"https://arxiv.org/pdf/2109.07916.pdf\">here</a>."
   ]
  },
  {
   "cell_type": "markdown",
   "id": "7dcae25a",
   "metadata": {},
   "source": [
    "![title](images/fser_cnn_topology_cropped.png)"
   ]
  },
  {
   "cell_type": "markdown",
   "id": "631dec3d",
   "metadata": {},
   "source": [
    "The image was also taken from the paper."
   ]
  },
  {
   "cell_type": "code",
   "execution_count": 557,
   "id": "8ea60255",
   "metadata": {
    "scrolled": true
   },
   "outputs": [
    {
     "name": "stdout",
     "output_type": "stream",
     "text": [
      "Model: \"sequential_32\"\n",
      "_________________________________________________________________\n",
      " Layer (type)                Output Shape              Param #   \n",
      "=================================================================\n",
      " resizing_32 (Resizing)      (None, 64, 64, 1)         0         \n",
      "                                                                 \n",
      " conv2d_83 (Conv2D)          (None, 60, 60, 8)         208       \n",
      "                                                                 \n",
      " max_pooling2d_66 (MaxPoolin  (None, 30, 30, 8)        0         \n",
      " g2D)                                                            \n",
      "                                                                 \n",
      " dropout_103 (Dropout)       (None, 30, 30, 8)         0         \n",
      "                                                                 \n",
      " conv2d_84 (Conv2D)          (None, 26, 26, 16)        3216      \n",
      "                                                                 \n",
      " max_pooling2d_67 (MaxPoolin  (None, 13, 13, 16)       0         \n",
      " g2D)                                                            \n",
      "                                                                 \n",
      " dropout_104 (Dropout)       (None, 13, 13, 16)        0         \n",
      "                                                                 \n",
      " conv2d_85 (Conv2D)          (None, 9, 9, 200)         80200     \n",
      "                                                                 \n",
      " max_pooling2d_68 (MaxPoolin  (None, 4, 4, 200)        0         \n",
      " g2D)                                                            \n",
      "                                                                 \n",
      " dropout_105 (Dropout)       (None, 4, 4, 200)         0         \n",
      "                                                                 \n",
      " flatten_32 (Flatten)        (None, 3200)              0         \n",
      "                                                                 \n",
      " dense_79 (Dense)            (None, 1024)              3277824   \n",
      "                                                                 \n",
      " dropout_106 (Dropout)       (None, 1024)              0         \n",
      "                                                                 \n",
      " dense_80 (Dense)            (None, 512)               524800    \n",
      "                                                                 \n",
      " dropout_107 (Dropout)       (None, 512)               0         \n",
      "                                                                 \n",
      " dense_81 (Dense)            (None, 7)                 3591      \n",
      "                                                                 \n",
      "=================================================================\n",
      "Total params: 3,889,839\n",
      "Trainable params: 3,889,839\n",
      "Non-trainable params: 0\n",
      "_________________________________________________________________\n"
     ]
    }
   ],
   "source": [
    "model = models.Sequential([\n",
    "    layers.Input(shape=(128, 125, 1)),\n",
    "    layers.Resizing(64, 64),\n",
    "    \n",
    "    layers.Conv2D(8, 5, activation=\"relu\"),\n",
    "    layers.MaxPool2D(2),\n",
    "    layers.Dropout(0.2),\n",
    "    \n",
    "    layers.Conv2D(16, 5, activation=\"relu\"),\n",
    "    layers.MaxPool2D(2),\n",
    "    layers.Dropout(0.2),\n",
    "    \n",
    "    layers.Conv2D(200, 5, activation=\"relu\"),\n",
    "    layers.MaxPool2D(2),\n",
    "    layers.Dropout(0.2),\n",
    "    \n",
    "    layers.Flatten(),\n",
    "    \n",
    "    layers.Dense(1024, activation=\"relu\"),\n",
    "    layers.Dropout(0.5),\n",
    "    layers.Dense(512, activation=\"relu\"),\n",
    "    layers.Dropout(0.5),\n",
    "    layers.Dense(7, activation=\"softmax\")\n",
    "])\n",
    "\n",
    "model.summary()\n",
    "\n",
    "model.compile(\n",
    "    optimizer=tf.keras.optimizers.Adam(0.001),\n",
    "    loss=tf.keras.losses.SparseCategoricalCrossentropy(),\n",
    "    metrics=[\"accuracy\"]\n",
    ")"
   ]
  },
  {
   "cell_type": "code",
   "execution_count": 558,
   "id": "21c2511d",
   "metadata": {
    "scrolled": true
   },
   "outputs": [
    {
     "name": "stdout",
     "output_type": "stream",
     "text": [
      "Epoch 1/100\n",
      "226/226 [==============================] - 11s 46ms/step - loss: 1.6568 - accuracy: 0.3247 - val_loss: 1.3590 - val_accuracy: 0.4911\n",
      "Epoch 2/100\n",
      "226/226 [==============================] - 10s 43ms/step - loss: 1.2644 - accuracy: 0.5006 - val_loss: 1.2055 - val_accuracy: 0.5292\n",
      "Epoch 3/100\n",
      "226/226 [==============================] - 10s 44ms/step - loss: 1.1336 - accuracy: 0.5536 - val_loss: 1.1329 - val_accuracy: 0.5500\n",
      "Epoch 4/100\n",
      "226/226 [==============================] - 10s 44ms/step - loss: 1.0611 - accuracy: 0.5828 - val_loss: 1.1239 - val_accuracy: 0.5524\n",
      "Epoch 5/100\n",
      "226/226 [==============================] - 10s 44ms/step - loss: 1.0051 - accuracy: 0.6093 - val_loss: 1.0798 - val_accuracy: 0.5747\n",
      "Epoch 6/100\n",
      "226/226 [==============================] - 10s 44ms/step - loss: 0.9513 - accuracy: 0.6290 - val_loss: 1.0778 - val_accuracy: 0.5742\n",
      "Epoch 7/100\n",
      "226/226 [==============================] - 10s 44ms/step - loss: 0.9096 - accuracy: 0.6477 - val_loss: 1.0756 - val_accuracy: 0.5846\n",
      "Epoch 8/100\n",
      "226/226 [==============================] - 10s 44ms/step - loss: 0.8707 - accuracy: 0.6645 - val_loss: 1.1016 - val_accuracy: 0.5702\n",
      "Epoch 9/100\n",
      "226/226 [==============================] - 10s 44ms/step - loss: 0.8284 - accuracy: 0.6804 - val_loss: 1.1021 - val_accuracy: 0.5752\n",
      "Epoch 10/100\n",
      "226/226 [==============================] - 10s 44ms/step - loss: 0.7955 - accuracy: 0.6974 - val_loss: 1.0959 - val_accuracy: 0.5747\n"
     ]
    }
   ],
   "source": [
    "model_histories[\"fser\"] = model.fit(train_ds, \n",
    "                                       validation_data=val_ds, \n",
    "                                       epochs=EPOCHS,\n",
    "                                       callbacks=tf.keras.callbacks.EarlyStopping(\n",
    "                                           monitor=\"val_loss\", \n",
    "                                           patience=3)\n",
    "                                      )"
   ]
  },
  {
   "cell_type": "code",
   "execution_count": 559,
   "id": "0238add8",
   "metadata": {},
   "outputs": [],
   "source": [
    "model_predictions[\"fser\"] = model.predict(test_data)"
   ]
  },
  {
   "cell_type": "markdown",
   "id": "ce74e33b",
   "metadata": {},
   "source": [
    "<h3>Complex architecture</h3>"
   ]
  },
  {
   "cell_type": "code",
   "execution_count": 17,
   "id": "477a0c16",
   "metadata": {
    "scrolled": true
   },
   "outputs": [
    {
     "name": "stdout",
     "output_type": "stream",
     "text": [
      "Model: \"sequential\"\n",
      "_________________________________________________________________\n",
      " Layer (type)                Output Shape              Param #   \n",
      "=================================================================\n",
      " resizing (Resizing)         (None, 64, 64, 1)         0         \n",
      "                                                                 \n",
      " conv2d (Conv2D)             (None, 60, 60, 32)        832       \n",
      "                                                                 \n",
      " max_pooling2d (MaxPooling2D  (None, 30, 30, 32)       0         \n",
      " )                                                               \n",
      "                                                                 \n",
      " dropout (Dropout)           (None, 30, 30, 32)        0         \n",
      "                                                                 \n",
      " conv2d_1 (Conv2D)           (None, 26, 26, 32)        25632     \n",
      "                                                                 \n",
      " max_pooling2d_1 (MaxPooling  (None, 13, 13, 32)       0         \n",
      " 2D)                                                             \n",
      "                                                                 \n",
      " dropout_1 (Dropout)         (None, 13, 13, 32)        0         \n",
      "                                                                 \n",
      " conv2d_2 (Conv2D)           (None, 11, 11, 64)        18496     \n",
      "                                                                 \n",
      " max_pooling2d_2 (MaxPooling  (None, 5, 5, 64)         0         \n",
      " 2D)                                                             \n",
      "                                                                 \n",
      " dropout_2 (Dropout)         (None, 5, 5, 64)          0         \n",
      "                                                                 \n",
      " conv2d_3 (Conv2D)           (None, 3, 3, 64)          36928     \n",
      "                                                                 \n",
      " max_pooling2d_3 (MaxPooling  (None, 1, 1, 64)         0         \n",
      " 2D)                                                             \n",
      "                                                                 \n",
      " dropout_3 (Dropout)         (None, 1, 1, 64)          0         \n",
      "                                                                 \n",
      " flatten (Flatten)           (None, 64)                0         \n",
      "                                                                 \n",
      " dense (Dense)               (None, 256)               16640     \n",
      "                                                                 \n",
      " dropout_4 (Dropout)         (None, 256)               0         \n",
      "                                                                 \n",
      " dense_1 (Dense)             (None, 128)               32896     \n",
      "                                                                 \n",
      " dropout_5 (Dropout)         (None, 128)               0         \n",
      "                                                                 \n",
      " dense_2 (Dense)             (None, 7)                 903       \n",
      "                                                                 \n",
      "=================================================================\n",
      "Total params: 132,327\n",
      "Trainable params: 132,327\n",
      "Non-trainable params: 0\n",
      "_________________________________________________________________\n"
     ]
    }
   ],
   "source": [
    "model = models.Sequential([\n",
    "    layers.Input(shape=(128, 125, 1)),\n",
    "    layers.Resizing(64, 64),\n",
    "    \n",
    "    layers.Conv2D(32, 5, activation=\"relu\"),\n",
    "    layers.MaxPool2D(2),\n",
    "    layers.Dropout(0.2),\n",
    "    \n",
    "    layers.Conv2D(32, 5, activation=\"relu\"),\n",
    "    layers.MaxPool2D(2),\n",
    "    layers.Dropout(0.2),\n",
    "    \n",
    "    layers.Conv2D(64, 3, activation=\"relu\"),\n",
    "    layers.MaxPool2D(2),\n",
    "    layers.Dropout(0.2),\n",
    "    \n",
    "    layers.Conv2D(64, 3, activation=\"relu\"),\n",
    "    layers.MaxPool2D(2),\n",
    "    layers.Dropout(0.2),\n",
    "    \n",
    "    layers.Flatten(),\n",
    "    \n",
    "    layers.Dense(256, activation=\"relu\"),\n",
    "    layers.Dropout(0.5),\n",
    "    layers.Dense(128, activation=\"relu\"),\n",
    "    layers.Dropout(0.5),\n",
    "    layers.Dense(7, activation=\"softmax\")\n",
    "])\n",
    "\n",
    "model.summary()\n",
    "\n",
    "model.compile(\n",
    "    optimizer=tf.keras.optimizers.Adam(0.001),\n",
    "    loss=tf.keras.losses.SparseCategoricalCrossentropy(),\n",
    "    metrics=[\"accuracy\"]\n",
    ")"
   ]
  },
  {
   "cell_type": "code",
   "execution_count": 18,
   "id": "89822e6a",
   "metadata": {
    "scrolled": true
   },
   "outputs": [
    {
     "name": "stdout",
     "output_type": "stream",
     "text": [
      "Epoch 1/100\n",
      "226/226 [==============================] - 15s 54ms/step - loss: 1.8895 - accuracy: 0.1960 - val_loss: 1.7080 - val_accuracy: 0.2859\n",
      "Epoch 2/100\n",
      "226/226 [==============================] - 11s 51ms/step - loss: 1.5905 - accuracy: 0.3533 - val_loss: 1.4308 - val_accuracy: 0.3942\n",
      "Epoch 3/100\n",
      "226/226 [==============================] - 12s 54ms/step - loss: 1.3986 - accuracy: 0.4341 - val_loss: 1.3238 - val_accuracy: 0.4644\n",
      "Epoch 4/100\n",
      "226/226 [==============================] - 12s 52ms/step - loss: 1.2806 - accuracy: 0.4874 - val_loss: 1.2280 - val_accuracy: 0.4916\n",
      "Epoch 5/100\n",
      "226/226 [==============================] - 12s 51ms/step - loss: 1.2135 - accuracy: 0.5190 - val_loss: 1.2046 - val_accuracy: 0.5366\n",
      "Epoch 6/100\n",
      "226/226 [==============================] - 11s 50ms/step - loss: 1.1679 - accuracy: 0.5369 - val_loss: 1.1760 - val_accuracy: 0.5312\n",
      "Epoch 7/100\n",
      "226/226 [==============================] - 12s 51ms/step - loss: 1.1280 - accuracy: 0.5577 - val_loss: 1.1568 - val_accuracy: 0.5406\n",
      "Epoch 8/100\n",
      "226/226 [==============================] - 11s 50ms/step - loss: 1.1062 - accuracy: 0.5686 - val_loss: 1.1059 - val_accuracy: 0.5653\n",
      "Epoch 9/100\n",
      "226/226 [==============================] - 12s 53ms/step - loss: 1.0739 - accuracy: 0.5768 - val_loss: 1.1140 - val_accuracy: 0.5519\n",
      "Epoch 10/100\n",
      "226/226 [==============================] - 12s 54ms/step - loss: 1.0627 - accuracy: 0.5822 - val_loss: 1.1106 - val_accuracy: 0.5584\n",
      "Epoch 11/100\n",
      "226/226 [==============================] - 12s 53ms/step - loss: 1.0459 - accuracy: 0.5954 - val_loss: 1.1065 - val_accuracy: 0.5663\n"
     ]
    }
   ],
   "source": [
    "model_histories[\"complex\"] = model.fit(train_ds, \n",
    "                                       validation_data=val_ds, \n",
    "                                       epochs=EPOCHS,\n",
    "                                       callbacks=tf.keras.callbacks.EarlyStopping(\n",
    "                                           monitor=\"val_loss\", \n",
    "                                           patience=3)\n",
    "                                      )"
   ]
  },
  {
   "cell_type": "code",
   "execution_count": 19,
   "id": "dee53d4d",
   "metadata": {},
   "outputs": [],
   "source": [
    "model_predictions[\"complex\"] = model.predict(test_data)"
   ]
  },
  {
   "cell_type": "markdown",
   "id": "16004273",
   "metadata": {},
   "source": [
    "<a id=\"results\"></a>\n",
    "<h1>CNN Results</h1>"
   ]
  },
  {
   "cell_type": "markdown",
   "id": "ab47d3f9",
   "metadata": {},
   "source": [
    "<h3>Baseline model</h3>"
   ]
  },
  {
   "cell_type": "code",
   "execution_count": 563,
   "id": "6a0c3539",
   "metadata": {},
   "outputs": [
    {
     "data": {
      "image/png": "[encoded data removed]",
      "text/plain": [
       "<Figure size 1152x360 with 2 Axes>"
      ]
     },
     "metadata": {
      "needs_background": "light"
     },
     "output_type": "display_data"
    }
   ],
   "source": [
    "plot_performance(model_histories[\"baseline\"])"
   ]
  },
  {
   "cell_type": "code",
   "execution_count": 564,
   "id": "24bf18a9",
   "metadata": {},
   "outputs": [
    {
     "data": {
      "image/png": "[encoded data removed]",
      "text/plain": [
       "<Figure size 720x504 with 2 Axes>"
      ]
     },
     "metadata": {
      "needs_background": "light"
     },
     "output_type": "display_data"
    }
   ],
   "source": [
    "confusion_matrix = get_confusion_matrix(test_labels, np.argmax(model_predictions[\"baseline\"], axis=1))\n",
    "show_confusion_matrix(confusion_matrix)"
   ]
  },
  {
   "cell_type": "code",
   "execution_count": 565,
   "id": "5ded36b6",
   "metadata": {},
   "outputs": [
    {
     "name": "stdout",
     "output_type": "stream",
     "text": [
      "              precision    recall  f1-score   support\n",
      "\n",
      "       angry       0.68      0.59      0.63       324\n",
      "     disgust       0.53      0.49      0.51       353\n",
      "        fear       0.52      0.45      0.48       314\n",
      "       happy       0.51      0.44      0.48       316\n",
      "     neutral       0.47      0.70      0.56       292\n",
      "     sadness       0.56      0.60      0.58       313\n",
      "    surprise       0.84      0.76      0.80       110\n",
      "\n",
      "    accuracy                           0.55      2022\n",
      "   macro avg       0.59      0.58      0.58      2022\n",
      "weighted avg       0.56      0.55      0.55      2022\n",
      "\n"
     ]
    }
   ],
   "source": [
    "print(classification_report(test_labels, np.argmax(model_predictions[\"baseline\"], axis=1), target_names=emotions))"
   ]
  },
  {
   "cell_type": "markdown",
   "id": "192761ea",
   "metadata": {},
   "source": [
    "<h3>FSER</h3>"
   ]
  },
  {
   "cell_type": "code",
   "execution_count": 566,
   "id": "f4875fa8",
   "metadata": {},
   "outputs": [
    {
     "data": {
      "image/png": "[encoded data removed]",
      "text/plain": [
       "<Figure size 1152x360 with 2 Axes>"
      ]
     },
     "metadata": {
      "needs_background": "light"
     },
     "output_type": "display_data"
    }
   ],
   "source": [
    "plot_performance(model_histories[\"fser\"])"
   ]
  },
  {
   "cell_type": "code",
   "execution_count": 567,
   "id": "03e32da6",
   "metadata": {},
   "outputs": [
    {
     "data": {
      "image/png": "[encoded data removed]",
      "text/plain": [
       "<Figure size 720x504 with 2 Axes>"
      ]
     },
     "metadata": {
      "needs_background": "light"
     },
     "output_type": "display_data"
    }
   ],
   "source": [
    "confusion_matrix = get_confusion_matrix(test_labels, np.argmax(model_predictions[\"fser\"], axis=1))\n",
    "show_confusion_matrix(confusion_matrix)"
   ]
  },
  {
   "cell_type": "code",
   "execution_count": 568,
   "id": "6dce4a79",
   "metadata": {},
   "outputs": [
    {
     "name": "stdout",
     "output_type": "stream",
     "text": [
      "              precision    recall  f1-score   support\n",
      "\n",
      "       angry       0.69      0.65      0.67       324\n",
      "     disgust       0.71      0.46      0.55       353\n",
      "        fear       0.49      0.48      0.49       314\n",
      "       happy       0.46      0.62      0.53       316\n",
      "     neutral       0.48      0.73      0.57       292\n",
      "     sadness       0.66      0.45      0.54       313\n",
      "    surprise       0.82      0.75      0.79       110\n",
      "\n",
      "    accuracy                           0.57      2022\n",
      "   macro avg       0.62      0.59      0.59      2022\n",
      "weighted avg       0.60      0.57      0.57      2022\n",
      "\n"
     ]
    }
   ],
   "source": [
    "print(classification_report(test_labels, np.argmax(model_predictions[\"fser\"], axis=1), target_names=emotions))"
   ]
  },
  {
   "cell_type": "markdown",
   "id": "0077b907",
   "metadata": {},
   "source": [
    "<h3>Complex</h3>"
   ]
  },
  {
   "cell_type": "code",
   "execution_count": 569,
   "id": "bcd10a33",
   "metadata": {},
   "outputs": [
    {
     "data": {
      "image/png": "[encoded data removed]",
      "text/plain": [
       "<Figure size 1152x360 with 2 Axes>"
      ]
     },
     "metadata": {
      "needs_background": "light"
     },
     "output_type": "display_data"
    }
   ],
   "source": [
    "plot_performance(model_histories[\"complex\"])"
   ]
  },
  {
   "cell_type": "code",
   "execution_count": 570,
   "id": "f5d5ad6e",
   "metadata": {},
   "outputs": [
    {
     "data": {
      "image/png": "[encoded data removed]",
      "text/plain": [
       "<Figure size 720x504 with 2 Axes>"
      ]
     },
     "metadata": {
      "needs_background": "light"
     },
     "output_type": "display_data"
    }
   ],
   "source": [
    "confusion_matrix = get_confusion_matrix(test_labels, np.argmax(model_predictions[\"complex\"], axis=1))\n",
    "show_confusion_matrix(confusion_matrix)"
   ]
  },
  {
   "cell_type": "code",
   "execution_count": 571,
   "id": "37ef4b8b",
   "metadata": {},
   "outputs": [
    {
     "name": "stdout",
     "output_type": "stream",
     "text": [
      "              precision    recall  f1-score   support\n",
      "\n",
      "       angry       0.69      0.66      0.67       324\n",
      "     disgust       0.72      0.43      0.54       353\n",
      "        fear       0.55      0.45      0.49       314\n",
      "       happy       0.53      0.54      0.54       316\n",
      "     neutral       0.48      0.81      0.60       292\n",
      "     sadness       0.61      0.59      0.60       313\n",
      "    surprise       0.71      0.83      0.76       110\n",
      "\n",
      "    accuracy                           0.59      2022\n",
      "   macro avg       0.61      0.61      0.60      2022\n",
      "weighted avg       0.61      0.59      0.58      2022\n",
      "\n"
     ]
    }
   ],
   "source": [
    "print(classification_report(test_labels, np.argmax(model_predictions[\"complex\"], axis=1), target_names=emotions))"
   ]
  },
  {
   "cell_type": "code",
   "execution_count": 20,
   "id": "f71bf9d4",
   "metadata": {},
   "outputs": [
    {
     "data": {
      "text/plain": [
       "0.5850642927794263"
      ]
     },
     "execution_count": 20,
     "metadata": {},
     "output_type": "execute_result"
    }
   ],
   "source": [
    "f1_score(test_labels, np.argmax(model_predictions[\"complex\"], axis=1), average=\"micro\")"
   ]
  },
  {
   "cell_type": "markdown",
   "id": "2721667c",
   "metadata": {},
   "source": [
    "It seems that the architecture of the CNN had minimal effect on performance. The best score was achieved by the complex model, which was a macro-averaged weighted F1-score of 0.6."
   ]
  }
 ],
 "metadata": {
  "kernelspec": {
   "display_name": "LoopQPrize",
   "language": "python",
   "name": "loopqprize"
  },
  "language_info": {
   "codemirror_mode": {
    "name": "ipython",
    "version": 3
   },
   "file_extension": ".py",
   "mimetype": "text/x-python",
   "name": "python",
   "nbconvert_exporter": "python",
   "pygments_lexer": "ipython3",
   "version": "3.8.13"
  }
 },
 "nbformat": 4,
 "nbformat_minor": 5
}
