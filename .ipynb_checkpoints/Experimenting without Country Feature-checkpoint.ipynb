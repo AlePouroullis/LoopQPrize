{
 "cells": [
  {
   "cell_type": "code",
   "execution_count": 2,
   "id": "3ad23cf9",
   "metadata": {},
   "outputs": [],
   "source": [
    "import pandas as pd\n",
    "import numpy as np"
   ]
  },
  {
   "cell_type": "code",
   "execution_count": 24,
   "id": "a4323c71",
   "metadata": {},
   "outputs": [
    {
     "data": {
      "text/html": [
       "<div>\n",
       "<style scoped>\n",
       "    .dataframe tbody tr th:only-of-type {\n",
       "        vertical-align: middle;\n",
       "    }\n",
       "\n",
       "    .dataframe tbody tr th {\n",
       "        vertical-align: top;\n",
       "    }\n",
       "\n",
       "    .dataframe thead th {\n",
       "        text-align: right;\n",
       "    }\n",
       "</style>\n",
       "<table border=\"1\" class=\"dataframe\">\n",
       "  <thead>\n",
       "    <tr style=\"text-align: right;\">\n",
       "      <th></th>\n",
       "      <th>crop_item</th>\n",
       "      <th>year</th>\n",
       "      <th>average_rain_fall_mm_per_year</th>\n",
       "      <th>pesticides_tonnes</th>\n",
       "      <th>avg_temp</th>\n",
       "      <th>YIELD</th>\n",
       "    </tr>\n",
       "  </thead>\n",
       "  <tbody>\n",
       "    <tr>\n",
       "      <th>0</th>\n",
       "      <td>Potatoes</td>\n",
       "      <td>2000</td>\n",
       "      <td>1738.0</td>\n",
       "      <td>5175.00</td>\n",
       "      <td>17.02</td>\n",
       "      <td>115040</td>\n",
       "    </tr>\n",
       "    <tr>\n",
       "      <th>1</th>\n",
       "      <td>Sweet potatoes</td>\n",
       "      <td>2006</td>\n",
       "      <td>3142.0</td>\n",
       "      <td>105.00</td>\n",
       "      <td>25.04</td>\n",
       "      <td>50000</td>\n",
       "    </tr>\n",
       "    <tr>\n",
       "      <th>2</th>\n",
       "      <td>Yams</td>\n",
       "      <td>2008</td>\n",
       "      <td>1761.0</td>\n",
       "      <td>312637.00</td>\n",
       "      <td>20.22</td>\n",
       "      <td>93753</td>\n",
       "    </tr>\n",
       "    <tr>\n",
       "      <th>3</th>\n",
       "      <td>Rice, paddy</td>\n",
       "      <td>2008</td>\n",
       "      <td>593.0</td>\n",
       "      <td>37640.20</td>\n",
       "      <td>11.33</td>\n",
       "      <td>75716</td>\n",
       "    </tr>\n",
       "    <tr>\n",
       "      <th>4</th>\n",
       "      <td>Potatoes</td>\n",
       "      <td>2002</td>\n",
       "      <td>565.0</td>\n",
       "      <td>17486.64</td>\n",
       "      <td>8.87</td>\n",
       "      <td>104374</td>\n",
       "    </tr>\n",
       "  </tbody>\n",
       "</table>\n",
       "</div>"
      ],
      "text/plain": [
       "        crop_item  year  average_rain_fall_mm_per_year  pesticides_tonnes  \\\n",
       "0        Potatoes  2000                         1738.0            5175.00   \n",
       "1  Sweet potatoes  2006                         3142.0             105.00   \n",
       "2            Yams  2008                         1761.0          312637.00   \n",
       "3     Rice, paddy  2008                          593.0           37640.20   \n",
       "4        Potatoes  2002                          565.0           17486.64   \n",
       "\n",
       "   avg_temp   YIELD  \n",
       "0     17.02  115040  \n",
       "1     25.04   50000  \n",
       "2     20.22   93753  \n",
       "3     11.33   75716  \n",
       "4      8.87  104374  "
      ]
     },
     "execution_count": 24,
     "metadata": {},
     "output_type": "execute_result"
    }
   ],
   "source": [
    "train_data_path = \"./challengeB_data/2022challengeB_train.csv\"\n",
    "test_data_path = \"./challengeB_data/2022challengeB_test.csv\"\n",
    "\n",
    "train_df = pd.read_csv(train_data_path, index_col=[0])\n",
    "train_df = train_df.drop([\"country\"], axis=1)\n",
    "train_df = train_df.sample(frac=1).reset_index(drop=True)\n",
    "train_df.head()"
   ]
  },
  {
   "cell_type": "code",
   "execution_count": 25,
   "id": "65ec4471",
   "metadata": {},
   "outputs": [],
   "source": [
    "train_df_onehot = pd.get_dummies(train_df, columns=[\"crop_item\"], prefix=[\"Crop_Item\"])\n",
    "train_features = train_df_onehot.loc[:, train_df_onehot.columns != \"YIELD\"]\n",
    "target = np.array(train_df_onehot[\"YIELD\"]).reshape(-1, 1)"
   ]
  },
  {
   "cell_type": "code",
   "execution_count": 27,
   "id": "52c7523d",
   "metadata": {},
   "outputs": [],
   "source": [
    "from sklearn.preprocessing import MinMaxScaler\n",
    "from sklearn.ensemble import RandomForestRegressor\n",
    "from sklearn.linear_model import LinearRegressor\n",
    "from sklearn.model_selection import KFold, cross_val_score"
   ]
  },
  {
   "cell_type": "code",
   "execution_count": 36,
   "id": "a986502f",
   "metadata": {},
   "outputs": [],
   "source": [
    "scaler = MinMaxScaler()\n",
    "target_scaler = MinMaxScaler()\n",
    "\n",
    "scaled_train_features = scaler.fit_transform(train_features)\n",
    "scaled_target = target_scaler.fit_transform(target)"
   ]
  },
  {
   "cell_type": "code",
   "execution_count": 40,
   "id": "6de6c67a",
   "metadata": {},
   "outputs": [],
   "source": [
    "def simplify_score(score, target_scaler_):\n",
    "    score = -score.mean().reshape(-1, 1)\n",
    "    score = target_scaler_.inverse_transform(score)\n",
    "    score = round(score.reshape(-1)[0])\n",
    "    \n",
    "    return score"
   ]
  },
  {
   "cell_type": "code",
   "execution_count": 42,
   "id": "00d63fa8",
   "metadata": {},
   "outputs": [],
   "source": [
    "def train_model(estimator, model_name, X, y):\n",
    "    NUM_SPLITS = 10\n",
    "    kfold = KFold(n_splits=NUM_SPLITS)\n",
    "    \n",
    "    score = cross_val_score(estimator, X, y, cv=kfold, scoring=\"neg_mean_squared_error\", n_jobs=-1, verbose=1)\n",
    "    \n",
    "    score = simplify_score(score)\n",
    "    \n",
    "    print(f\"RMSE of {estimator.__class__.__name__}({model_name}) after {NUM_SPLITS}-kfold cross_validation: {score}\")"
   ]
  },
  {
   "cell_type": "code",
   "execution_count": null,
   "id": "ca67db83",
   "metadata": {},
   "outputs": [],
   "source": [
    "models = {}\n",
    "models[\"rf42\"] = RandomForestRegressor()\n",
    "models[\"rf44\"] = RandomForestRegressor()\n",
    "models[\"rf46\"] = RandomForestRegressor()\n",
    "models[\"lr\"] = LinearRegressor()\n",
    "train_model()"
   ]
  },
  {
   "cell_type": "code",
   "execution_count": 38,
   "id": "2f30cc5c",
   "metadata": {},
   "outputs": [
    {
     "name": "stderr",
     "output_type": "stream",
     "text": [
      "[Parallel(n_jobs=-1)]: Using backend LokyBackend with 8 concurrent workers.\n",
      "[Parallel(n_jobs=-1)]: Done   6 out of  10 | elapsed:   10.6s remaining:    7.1s\n",
      "[Parallel(n_jobs=-1)]: Done  10 out of  10 | elapsed:   17.4s finished\n"
     ]
    }
   ],
   "source": [
    "X = scaled_train_features\n",
    "y = scaled_target\n",
    "kfold = KFold(n_splits=10)\n",
    "rf = RandomForestRegressor(random_state=44)\n",
    "\n",
    "score = cross_val_score(rf, X, y, cv=kfold, scoring=\"neg_mean_squared_error\", n_jobs=-1, verbose=1)"
   ]
  },
  {
   "cell_type": "code",
   "execution_count": 39,
   "id": "7389d235",
   "metadata": {},
   "outputs": [
    {
     "name": "stdout",
     "output_type": "stream",
     "text": [
      "[[255.3734608]]\n"
     ]
    }
   ],
   "source": [
    "score = simplify_score(score, target_scaler)\n",
    "\n",
    "print(score)"
   ]
  },
  {
   "cell_type": "code",
   "execution_count": null,
   "id": "ff7e94ae",
   "metadata": {},
   "outputs": [],
   "source": [
    "rf = RandomForestRegressor"
   ]
  }
 ],
 "metadata": {
  "kernelspec": {
   "display_name": "LoopQPrize",
   "language": "python",
   "name": "loopqprize"
  },
  "language_info": {
   "codemirror_mode": {
    "name": "ipython",
    "version": 3
   },
   "file_extension": ".py",
   "mimetype": "text/x-python",
   "name": "python",
   "nbconvert_exporter": "python",
   "pygments_lexer": "ipython3",
   "version": "3.8.13"
  }
 },
 "nbformat": 4,
 "nbformat_minor": 5
}
