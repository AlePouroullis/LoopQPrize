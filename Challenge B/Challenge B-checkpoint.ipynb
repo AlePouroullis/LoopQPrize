{
 "cells": [
  {
   "cell_type": "markdown",
   "id": "f76752be",
   "metadata": {},
   "source": [
    "<h1><center><font size=\"7\">Loop Q Prize</font></center></h1>\n",
    "<h2><center><font size=\"5\">Challenge B: Crop Yield Prediction</font></center></h2>\n",
    "<center><font size=\"4\">By Alexandros P. Pouroullis</font></center>"
   ]
  },
  {
   "cell_type": "markdown",
   "id": "8442a469",
   "metadata": {},
   "source": [
    "# Data Exploration"
   ]
  },
  {
   "cell_type": "code",
   "execution_count": 278,
   "id": "1febc6e9",
   "metadata": {},
   "outputs": [],
   "source": [
    "import numpy as np\n",
    "import pandas as pd"
   ]
  },
  {
   "cell_type": "code",
   "execution_count": 596,
   "id": "62ab45bb",
   "metadata": {
    "scrolled": true
   },
   "outputs": [
    {
     "name": "stdout",
     "output_type": "stream",
     "text": [
      "<class 'pandas.core.frame.DataFrame'>\n",
      "Int64Index: 25723 entries, 0 to 25722\n",
      "Data columns (total 7 columns):\n",
      " #   Column                         Non-Null Count  Dtype  \n",
      "---  ------                         --------------  -----  \n",
      " 0   country                        25723 non-null  object \n",
      " 1   crop_item                      25723 non-null  object \n",
      " 2   year                           25723 non-null  int64  \n",
      " 3   average_rain_fall_mm_per_year  25723 non-null  float64\n",
      " 4   pesticides_tonnes              25723 non-null  float64\n",
      " 5   avg_temp                       25723 non-null  float64\n",
      " 6   YIELD                          25723 non-null  int64  \n",
      "dtypes: float64(3), int64(2), object(2)\n",
      "memory usage: 1.6+ MB\n"
     ]
    }
   ],
   "source": [
    "# Gathering training and test data\n",
    "train_data_path = 'challengeB_data/2022challengeB_train.csv'\n",
    "test_data_path = 'challengeB_data/2022challengeB_test.csv'\n",
    "train_df = pd.read_csv(train_data_path, index_col=[0])\n",
    "test_df = pd.read_csv(test_data_path)\n",
    "\n",
    "train_df.info()"
   ]
  },
  {
   "cell_type": "markdown",
   "id": "eb8881f4",
   "metadata": {},
   "source": [
    "The data has 7 features, 1 of which is the target value, and a total of 25723 samples."
   ]
  },
  {
   "cell_type": "markdown",
   "id": "2c6012fc",
   "metadata": {},
   "source": [
    "Here, I make a table of the input features, their generic data types, categories, and how important I think they will be in determining crop yield.\n",
    "<table style=\"width:100%\">\n",
    "<thead>\n",
    "    <th>Feature</th>\n",
    "    <th>Generic Data Type</th>\n",
    "    <th>Category</th>\n",
    "    <th>Expected Importance</th>\n",
    "</thead>\n",
    "<tbody>\n",
    "    <tr>\n",
    "        <td>Country</td>\n",
    "        <td>Categorical</td>\n",
    "        <td>Geographical</td>\n",
    "        <td>Negligible</td>\n",
    "    </tr>\n",
    "    <tr>\n",
    "        <td>Crop Item</td>\n",
    "        <td>Categorical</td>\n",
    "        <td>Crop Information</td>\n",
    "        <td>High</td>\n",
    "    </tr>\n",
    "    <tr>\n",
    "        <td>Year</td>\n",
    "        <td>Numerical</td>\n",
    "        <td>Temporal</td>\n",
    "        <td>Little to Medium</td>\n",
    "    </tr>\n",
    "    <tr>\n",
    "        <td>Average Rainfall (mm/year)</td>\n",
    "        <td>Numerical</td>\n",
    "        <td>Climatic</td>\n",
    "        <td>High</td>\n",
    "    </tr>\n",
    "    <tr>\n",
    "        <td>Pesticide tonnes</td>\n",
    "        <td>Numerical</td>\n",
    "        <td>Field Management</td>\n",
    "        <td>High</td>\n",
    "    </tr>\n",
    "    <tr>\n",
    "        <td>Average Temperature</td>\n",
    "        <td>Numerical</td>\n",
    "        <td>Climatic</td>\n",
    "        <td>High</td>\n",
    "    </tr>\n",
    "</tbody>\n",
    "</table>"
   ]
  },
  {
   "cell_type": "markdown",
   "id": "3e96c8f2",
   "metadata": {},
   "source": [
    "<table style=\"width:100%\">\n",
    "    <thead>\n",
    "        <th style=\"text-align:center\">Target Value</th>\n",
    "        <th style=\"text-align:center\">Generic Data Type</th>\n",
    "    </thead>\n",
    "    <tbody>\n",
    "        <tr>\n",
    "            <td style=\"text-align:center\">Crop Yield (Hectograms/Hectare)</td>\n",
    "            <td style=\"text-align:center\">Numerical</td>\n",
    "        </tr>\n",
    "    </tbody>\n",
    "</table>"
   ]
  },
  {
   "cell_type": "markdown",
   "id": "f73136de",
   "metadata": {},
   "source": [
    "The data consist of a mixture of both continuous and nominal (categorical with no order) data. The nominal data will need to be encoded later on in the preprocessing phase so that it can be used along with the continuous data. It can also be seen that the value that the model will predict is continuous, meaning that the problem at hand is one of regression."
   ]
  },
  {
   "cell_type": "code",
   "execution_count": 118,
   "id": "bee53e40",
   "metadata": {},
   "outputs": [
    {
     "data": {
      "text/html": [
       "<div>\n",
       "<style scoped>\n",
       "    .dataframe tbody tr th:only-of-type {\n",
       "        vertical-align: middle;\n",
       "    }\n",
       "\n",
       "    .dataframe tbody tr th {\n",
       "        vertical-align: top;\n",
       "    }\n",
       "\n",
       "    .dataframe thead th {\n",
       "        text-align: right;\n",
       "    }\n",
       "</style>\n",
       "<table border=\"1\" class=\"dataframe\">\n",
       "  <thead>\n",
       "    <tr style=\"text-align: right;\">\n",
       "      <th></th>\n",
       "      <th>country</th>\n",
       "      <th>crop_item</th>\n",
       "      <th>year</th>\n",
       "      <th>average_rain_fall_mm_per_year</th>\n",
       "      <th>pesticides_tonnes</th>\n",
       "      <th>avg_temp</th>\n",
       "      <th>YIELD</th>\n",
       "    </tr>\n",
       "  </thead>\n",
       "  <tbody>\n",
       "    <tr>\n",
       "      <th>0</th>\n",
       "      <td>Albania</td>\n",
       "      <td>Maize</td>\n",
       "      <td>1990</td>\n",
       "      <td>1485.0</td>\n",
       "      <td>121.0</td>\n",
       "      <td>16.37</td>\n",
       "      <td>36613</td>\n",
       "    </tr>\n",
       "    <tr>\n",
       "      <th>1</th>\n",
       "      <td>Albania</td>\n",
       "      <td>Potatoes</td>\n",
       "      <td>1990</td>\n",
       "      <td>1485.0</td>\n",
       "      <td>121.0</td>\n",
       "      <td>16.37</td>\n",
       "      <td>66667</td>\n",
       "    </tr>\n",
       "    <tr>\n",
       "      <th>2</th>\n",
       "      <td>Albania</td>\n",
       "      <td>Rice, paddy</td>\n",
       "      <td>1990</td>\n",
       "      <td>1485.0</td>\n",
       "      <td>121.0</td>\n",
       "      <td>16.37</td>\n",
       "      <td>23333</td>\n",
       "    </tr>\n",
       "    <tr>\n",
       "      <th>3</th>\n",
       "      <td>Albania</td>\n",
       "      <td>Sorghum</td>\n",
       "      <td>1990</td>\n",
       "      <td>1485.0</td>\n",
       "      <td>121.0</td>\n",
       "      <td>16.37</td>\n",
       "      <td>12500</td>\n",
       "    </tr>\n",
       "    <tr>\n",
       "      <th>4</th>\n",
       "      <td>Albania</td>\n",
       "      <td>Soybeans</td>\n",
       "      <td>1990</td>\n",
       "      <td>1485.0</td>\n",
       "      <td>121.0</td>\n",
       "      <td>16.37</td>\n",
       "      <td>7000</td>\n",
       "    </tr>\n",
       "  </tbody>\n",
       "</table>\n",
       "</div>"
      ],
      "text/plain": [
       "   country    crop_item  year  average_rain_fall_mm_per_year  \\\n",
       "0  Albania        Maize  1990                         1485.0   \n",
       "1  Albania     Potatoes  1990                         1485.0   \n",
       "2  Albania  Rice, paddy  1990                         1485.0   \n",
       "3  Albania      Sorghum  1990                         1485.0   \n",
       "4  Albania     Soybeans  1990                         1485.0   \n",
       "\n",
       "   pesticides_tonnes  avg_temp  YIELD  \n",
       "0              121.0     16.37  36613  \n",
       "1              121.0     16.37  66667  \n",
       "2              121.0     16.37  23333  \n",
       "3              121.0     16.37  12500  \n",
       "4              121.0     16.37   7000  "
      ]
     },
     "execution_count": 118,
     "metadata": {},
     "output_type": "execute_result"
    }
   ],
   "source": [
    "train_df.head()"
   ]
  },
  {
   "cell_type": "code",
   "execution_count": 4,
   "id": "e199d8ed",
   "metadata": {
    "scrolled": true
   },
   "outputs": [
    {
     "data": {
      "text/html": [
       "<div>\n",
       "<style scoped>\n",
       "    .dataframe tbody tr th:only-of-type {\n",
       "        vertical-align: middle;\n",
       "    }\n",
       "\n",
       "    .dataframe tbody tr th {\n",
       "        vertical-align: top;\n",
       "    }\n",
       "\n",
       "    .dataframe thead th {\n",
       "        text-align: right;\n",
       "    }\n",
       "</style>\n",
       "<table border=\"1\" class=\"dataframe\">\n",
       "  <thead>\n",
       "    <tr style=\"text-align: right;\">\n",
       "      <th></th>\n",
       "      <th>country</th>\n",
       "      <th>crop_item</th>\n",
       "      <th>year</th>\n",
       "      <th>average_rain_fall_mm_per_year</th>\n",
       "      <th>pesticides_tonnes</th>\n",
       "      <th>avg_temp</th>\n",
       "      <th>YIELD</th>\n",
       "    </tr>\n",
       "  </thead>\n",
       "  <tbody>\n",
       "    <tr>\n",
       "      <th>25718</th>\n",
       "      <td>Zimbabwe</td>\n",
       "      <td>Rice, paddy</td>\n",
       "      <td>2011</td>\n",
       "      <td>657.0</td>\n",
       "      <td>3340.35</td>\n",
       "      <td>20.78</td>\n",
       "      <td>22704</td>\n",
       "    </tr>\n",
       "    <tr>\n",
       "      <th>25719</th>\n",
       "      <td>Zimbabwe</td>\n",
       "      <td>Sorghum</td>\n",
       "      <td>2011</td>\n",
       "      <td>657.0</td>\n",
       "      <td>3340.35</td>\n",
       "      <td>20.78</td>\n",
       "      <td>2267</td>\n",
       "    </tr>\n",
       "    <tr>\n",
       "      <th>25720</th>\n",
       "      <td>Zimbabwe</td>\n",
       "      <td>Soybeans</td>\n",
       "      <td>2011</td>\n",
       "      <td>657.0</td>\n",
       "      <td>3340.35</td>\n",
       "      <td>20.78</td>\n",
       "      <td>12054</td>\n",
       "    </tr>\n",
       "    <tr>\n",
       "      <th>25721</th>\n",
       "      <td>Zimbabwe</td>\n",
       "      <td>Sweet potatoes</td>\n",
       "      <td>2011</td>\n",
       "      <td>657.0</td>\n",
       "      <td>3340.35</td>\n",
       "      <td>20.78</td>\n",
       "      <td>21953</td>\n",
       "    </tr>\n",
       "    <tr>\n",
       "      <th>25722</th>\n",
       "      <td>Zimbabwe</td>\n",
       "      <td>Wheat</td>\n",
       "      <td>2011</td>\n",
       "      <td>657.0</td>\n",
       "      <td>3340.35</td>\n",
       "      <td>20.78</td>\n",
       "      <td>26274</td>\n",
       "    </tr>\n",
       "  </tbody>\n",
       "</table>\n",
       "</div>"
      ],
      "text/plain": [
       "        country       crop_item  year  average_rain_fall_mm_per_year  \\\n",
       "25718  Zimbabwe     Rice, paddy  2011                          657.0   \n",
       "25719  Zimbabwe         Sorghum  2011                          657.0   \n",
       "25720  Zimbabwe        Soybeans  2011                          657.0   \n",
       "25721  Zimbabwe  Sweet potatoes  2011                          657.0   \n",
       "25722  Zimbabwe           Wheat  2011                          657.0   \n",
       "\n",
       "       pesticides_tonnes  avg_temp  YIELD  \n",
       "25718            3340.35     20.78  22704  \n",
       "25719            3340.35     20.78   2267  \n",
       "25720            3340.35     20.78  12054  \n",
       "25721            3340.35     20.78  21953  \n",
       "25722            3340.35     20.78  26274  "
      ]
     },
     "execution_count": 4,
     "metadata": {},
     "output_type": "execute_result"
    }
   ],
   "source": [
    "train_df.tail()"
   ]
  },
  {
   "cell_type": "code",
   "execution_count": 7,
   "id": "491f5a42",
   "metadata": {
    "scrolled": true
   },
   "outputs": [
    {
     "data": {
      "text/html": [
       "<div>\n",
       "<style scoped>\n",
       "    .dataframe tbody tr th:only-of-type {\n",
       "        vertical-align: middle;\n",
       "    }\n",
       "\n",
       "    .dataframe tbody tr th {\n",
       "        vertical-align: top;\n",
       "    }\n",
       "\n",
       "    .dataframe thead th {\n",
       "        text-align: right;\n",
       "    }\n",
       "</style>\n",
       "<table border=\"1\" class=\"dataframe\">\n",
       "  <thead>\n",
       "    <tr style=\"text-align: right;\">\n",
       "      <th></th>\n",
       "      <th>count</th>\n",
       "      <th>mean</th>\n",
       "      <th>std</th>\n",
       "      <th>min</th>\n",
       "      <th>25%</th>\n",
       "      <th>50%</th>\n",
       "      <th>75%</th>\n",
       "      <th>max</th>\n",
       "    </tr>\n",
       "  </thead>\n",
       "  <tbody>\n",
       "    <tr>\n",
       "      <th>year</th>\n",
       "      <td>25723.0</td>\n",
       "      <td>2000.471446</td>\n",
       "      <td>6.455219</td>\n",
       "      <td>1990.00</td>\n",
       "      <td>1995.0</td>\n",
       "      <td>2000.0</td>\n",
       "      <td>2006.00</td>\n",
       "      <td>2011.00</td>\n",
       "    </tr>\n",
       "    <tr>\n",
       "      <th>average_rain_fall_mm_per_year</th>\n",
       "      <td>25723.0</td>\n",
       "      <td>1148.768145</td>\n",
       "      <td>709.957717</td>\n",
       "      <td>51.00</td>\n",
       "      <td>593.0</td>\n",
       "      <td>1083.0</td>\n",
       "      <td>1668.00</td>\n",
       "      <td>3240.00</td>\n",
       "    </tr>\n",
       "    <tr>\n",
       "      <th>pesticides_tonnes</th>\n",
       "      <td>25723.0</td>\n",
       "      <td>35558.519387</td>\n",
       "      <td>55396.265253</td>\n",
       "      <td>0.04</td>\n",
       "      <td>1753.2</td>\n",
       "      <td>17182.0</td>\n",
       "      <td>46195.00</td>\n",
       "      <td>345026.00</td>\n",
       "    </tr>\n",
       "    <tr>\n",
       "      <th>avg_temp</th>\n",
       "      <td>25723.0</td>\n",
       "      <td>20.516346</td>\n",
       "      <td>6.309580</td>\n",
       "      <td>1.30</td>\n",
       "      <td>16.7</td>\n",
       "      <td>21.5</td>\n",
       "      <td>25.97</td>\n",
       "      <td>30.32</td>\n",
       "    </tr>\n",
       "    <tr>\n",
       "      <th>YIELD</th>\n",
       "      <td>25723.0</td>\n",
       "      <td>75838.054348</td>\n",
       "      <td>83683.317016</td>\n",
       "      <td>50.00</td>\n",
       "      <td>19584.0</td>\n",
       "      <td>37418.0</td>\n",
       "      <td>104001.00</td>\n",
       "      <td>501412.00</td>\n",
       "    </tr>\n",
       "  </tbody>\n",
       "</table>\n",
       "</div>"
      ],
      "text/plain": [
       "                                 count          mean           std      min  \\\n",
       "year                           25723.0   2000.471446      6.455219  1990.00   \n",
       "average_rain_fall_mm_per_year  25723.0   1148.768145    709.957717    51.00   \n",
       "pesticides_tonnes              25723.0  35558.519387  55396.265253     0.04   \n",
       "avg_temp                       25723.0     20.516346      6.309580     1.30   \n",
       "YIELD                          25723.0  75838.054348  83683.317016    50.00   \n",
       "\n",
       "                                   25%      50%        75%        max  \n",
       "year                            1995.0   2000.0    2006.00    2011.00  \n",
       "average_rain_fall_mm_per_year    593.0   1083.0    1668.00    3240.00  \n",
       "pesticides_tonnes               1753.2  17182.0   46195.00  345026.00  \n",
       "avg_temp                          16.7     21.5      25.97      30.32  \n",
       "YIELD                          19584.0  37418.0  104001.00  501412.00  "
      ]
     },
     "execution_count": 7,
     "metadata": {},
     "output_type": "execute_result"
    }
   ],
   "source": [
    "train_df.describe().transpose()"
   ]
  },
  {
   "cell_type": "markdown",
   "id": "538cd9e5",
   "metadata": {},
   "source": [
    "The above table displays a summary of the continuous data. We can see that the first year present in the data is 1990 and the data ends in 2011. There's also incredibly high variance amongst the scales of the variables which will have to be addressed with scaling in the preprocessing phase."
   ]
  },
  {
   "cell_type": "code",
   "execution_count": 21,
   "id": "8fa87431",
   "metadata": {
    "scrolled": true
   },
   "outputs": [
    {
     "data": {
      "text/plain": [
       "country                          0\n",
       "crop_item                        0\n",
       "year                             0\n",
       "average_rain_fall_mm_per_year    0\n",
       "pesticides_tonnes                0\n",
       "avg_temp                         0\n",
       "YIELD                            0\n",
       "dtype: int64"
      ]
     },
     "execution_count": 21,
     "metadata": {},
     "output_type": "execute_result"
    }
   ],
   "source": [
    "train_df.isnull().sum()"
   ]
  },
  {
   "cell_type": "markdown",
   "id": "0e71dea0",
   "metadata": {},
   "source": [
    "None of the columns contain null values, so there's no need to perform any cleaning."
   ]
  },
  {
   "cell_type": "code",
   "execution_count": 37,
   "id": "2c186cb2",
   "metadata": {},
   "outputs": [
    {
     "name": "stdout",
     "output_type": "stream",
     "text": [
      "Cassava\n",
      "Maize\n",
      "Plantains and others\n",
      "Potatoes\n",
      "Rice, paddy\n",
      "Sorghum\n",
      "Soybeans\n",
      "Sweet potatoes\n",
      "Wheat\n",
      "Yams\n"
     ]
    }
   ],
   "source": [
    "npArray = np.array(train_df[\"crop_item\"])\n",
    "for crop in np.unique(npArray):\n",
    "    print(crop)"
   ]
  },
  {
   "cell_type": "code",
   "execution_count": 141,
   "id": "c174460f",
   "metadata": {},
   "outputs": [
    {
     "data": {
      "text/plain": [
       "crop_item\n",
       "Potatoes                3894\n",
       "Maize                   3753\n",
       "Wheat                   3515\n",
       "Rice, paddy             3088\n",
       "Soybeans                2936\n",
       "Sorghum                 2761\n",
       "Sweet potatoes          2634\n",
       "Cassava                 1867\n",
       "Yams                     769\n",
       "Plantains and others     506\n",
       "Name: crop_item, dtype: int64"
      ]
     },
     "execution_count": 141,
     "metadata": {},
     "output_type": "execute_result"
    }
   ],
   "source": [
    "train_df.groupby(\"crop_item\")[\"crop_item\"].count().sort_values(ascending=False)"
   ]
  },
  {
   "cell_type": "markdown",
   "id": "9e277dd2",
   "metadata": {},
   "source": [
    "Just as was the case with the countries, the different crops also have vastly different representations, which may result in further bias towards those crops that were represented better in the dataset. "
   ]
  },
  {
   "cell_type": "markdown",
   "id": "7205c4ed",
   "metadata": {},
   "source": [
    "## Visualising the Variables"
   ]
  },
  {
   "cell_type": "markdown",
   "id": "a3765f4e",
   "metadata": {},
   "source": [
    "In this next part, I explore each individual variable by visualising their frequencies, in the case of nominal data, or their distributions, in the case of continuous data."
   ]
  },
  {
   "cell_type": "code",
   "execution_count": 280,
   "id": "a06677d2",
   "metadata": {},
   "outputs": [],
   "source": [
    "import matplotlib.pyplot as plt\n",
    "import seaborn as sns\n",
    "%matplotlib inline"
   ]
  },
  {
   "cell_type": "code",
   "execution_count": 72,
   "id": "f73a048f",
   "metadata": {},
   "outputs": [],
   "source": [
    "plt.rcParams.update({'font.family': 'Arial'})"
   ]
  },
  {
   "cell_type": "code",
   "execution_count": 245,
   "id": "1a0a8b4b",
   "metadata": {
    "scrolled": false
   },
   "outputs": [
    {
     "name": "stderr",
     "output_type": "stream",
     "text": [
      "<ipython-input-245-909701a35774>:8: MatplotlibDeprecationWarning: Support for passing numbers through unit converters is deprecated since 3.5 and support will be removed two minor releases later; use Axis.convert_units instead.\n",
      "  ax.set_xticks([]);\n"
     ]
    },
    {
     "data": {
      "image/png": "[encoded data removed]",
      "text/plain": [
       "<Figure size 1800x720 with 1 Axes>"
      ]
     },
     "metadata": {
      "needs_background": "light"
     },
     "output_type": "display_data"
    }
   ],
   "source": [
    "fig, ax = plt.subplots(figsize=(25, 10))\n",
    "country_data = train_df.groupby(\"country\")[\"country\"].count().sort_values(ascending=False)\n",
    "ax.set_title(\"Bar Chart Showing Frequency of Appearance of Country in the Dataset\", pad=30, fontsize=40)\n",
    "ax.bar(country_data.index, country_data.values, color=\"b\")\n",
    "ax.set_xlabel(xlabel=\"Countries\", labelpad=20, fontsize=30)\n",
    "ax.set_ylabel(ylabel=\"Count\", labelpad=20, fontsize=30)\n",
    "ax.tick_params(axis=\"y\", labelsize=15)\n",
    "ax.set_xticks([]);"
   ]
  },
  {
   "cell_type": "markdown",
   "id": "dcbd7394",
   "metadata": {},
   "source": [
    "The above visual demonstrates the imbalance in representation of countries in the dataset."
   ]
  },
  {
   "cell_type": "code",
   "execution_count": 68,
   "id": "a9988652",
   "metadata": {},
   "outputs": [],
   "source": [
    "most_represented_countries = list(train_df.groupby(\"country\")[\"YIELD\"].sum().nlargest(5).keys())\n",
    "list_true_false = [country in most_represented_countries for country in train_df[\"country\"]]\n",
    "train_df2 = train_df[list_true_false]"
   ]
  },
  {
   "cell_type": "markdown",
   "id": "3d014457",
   "metadata": {},
   "source": [
    "Above, I create a new dataframe based off of the original dataframe, but that only contains the data for the 5 most represented countries, to make some visualisations easier to analyse."
   ]
  },
  {
   "cell_type": "code",
   "execution_count": 113,
   "id": "de21b4cb",
   "metadata": {
    "scrolled": true
   },
   "outputs": [
    {
     "data": {
      "image/png": "[encoded data removed]",
      "text/plain": [
       "<Figure size 432x288 with 1 Axes>"
      ]
     },
     "metadata": {
      "needs_background": "light"
     },
     "output_type": "display_data"
    }
   ],
   "source": [
    "sns.countplot(x=\"country\", data=train_df2, hue=\"crop_item\");"
   ]
  },
  {
   "cell_type": "markdown",
   "id": "b3aff2f5",
   "metadata": {},
   "source": [
    "It seems the representation of each crop for each country is, for the most part, equal though there are some cases where there's no data for particular crops, as can be seen with Japan in the above visual, or there's an imbalance. I checked the value counts of crops for each country and found this to be true majority of the time. This will make training a little bit easier, as no one crop will sway the results for each country. Though globally there is an imbalance in the representation of crops, demonstrated below, which may need to be addressed."
   ]
  },
  {
   "cell_type": "code",
   "execution_count": 110,
   "id": "d9daa079",
   "metadata": {
    "scrolled": false
   },
   "outputs": [
    {
     "data": {
      "image/png": "[encoded data removed]",
      "text/plain": [
       "<Figure size 432x288 with 1 Axes>"
      ]
     },
     "metadata": {},
     "output_type": "display_data"
    }
   ],
   "source": [
    "frequency_table = train_df[\"crop_item\"].value_counts()\n",
    "data = {\"crop_item\": frequency_table.index, \"count\": frequency_table}\n",
    "new_df = pd.DataFrame(data)\n",
    "new_df.reset_index(drop=True, inplace=True)\n",
    "\n",
    "plt.bar(new_df[\"crop_item\"], new_df[\"count\"], color=\"b\")\n",
    "plt.title(\"Frequency Plot for Crops\", fontsize=20, pad=15)\n",
    "plt.xlabel(\"Crop\", fontsize=17)\n",
    "plt.ylabel(\"Count\", fontsize=17, labelpad=15)\n",
    "plt.xticks(rotation=90, fontsize=14)\n",
    "plt.show()"
   ]
  },
  {
   "cell_type": "code",
   "execution_count": 221,
   "id": "27c798ff",
   "metadata": {},
   "outputs": [],
   "source": [
    "def scatter_plot(x, y, ax):\n",
    "    \"\"\"Produces a custom labeled scatter plot using matplotlib\"\"\"\n",
    "    ax.scatter(x, y, alpha=0.1)\n",
    "    return ax\n",
    "\n",
    "def histogram(x, ax, nbins):\n",
    "    \"\"\"Produces a custom labeled histogram using matplotlib\"\"\"\n",
    "    ax.hist(x, bins=nbins)\n",
    "    return ax\n",
    "\n",
    "def violinplot(x, ax):\n",
    "    \"\"\"Produces a horizontal box and whisker diagram using matplotlib\"\"\"\n",
    "    # setting vert to False produces a horizontal box and whisker diagram\n",
    "    ax.violinplot(x, vert=False, showmedians=True)\n",
    "    return ax"
   ]
  },
  {
   "cell_type": "code",
   "execution_count": 244,
   "id": "ba528b61",
   "metadata": {
    "scrolled": false
   },
   "outputs": [
    {
     "data": {
      "image/png": "[encoded data removed]",
      "text/plain": [
       "<Figure size 1080x504 with 4 Axes>"
      ]
     },
     "metadata": {
      "needs_background": "light"
     },
     "output_type": "display_data"
    }
   ],
   "source": [
    "fig, ax = plt.subplots(nrows=1, ncols=4, constrained_layout=True, figsize=(15, 7))\n",
    "fig.suptitle(\"Distributions of the Numerical Features\", fontsize=30)\n",
    "\n",
    "for axes in ax.flatten():\n",
    "    axes.tick_params(axis=\"x\", labelsize=10)\n",
    "    axes.tick_params(axis=\"y\", labelsize=10)\n",
    "\n",
    "nbins = 20\n",
    "\n",
    "ax[0].set_xlabel(\"Year\", labelpad=10, fontsize=15)\n",
    "ax[0].set_ylabel(\"Count\", labelpad=10, fontsize=15)\n",
    "histogram(train_df[\"year\"], ax[0], nbins=nbins)\n",
    "\n",
    "ax[1].set_xlabel(\"Average Rainfall\", labelpad=10, fontsize=15)\n",
    "histogram(train_df[\"average_rain_fall_mm_per_year\"], ax[1], nbins=nbins)\n",
    "\n",
    "ax[2].set_xlabel(\"Pesticides Tonnes\", labelpad=10, fontsize=15)\n",
    "histogram(train_df[\"pesticides_tonnes\"], ax[2], nbins=nbins)\n",
    "\n",
    "ax[3].set_xlabel(\"Average Temperature\", labelpad=10, fontsize=15)\n",
    "histogram(train_df[\"avg_temp\"], ax[3], nbins=nbins);"
   ]
  },
  {
   "cell_type": "markdown",
   "id": "01688080",
   "metadata": {},
   "source": [
    "Now, let's look at the target value and try to find some correlations with the input data."
   ]
  },
  {
   "cell_type": "code",
   "execution_count": 579,
   "id": "82cfd399",
   "metadata": {
    "scrolled": false
   },
   "outputs": [
    {
     "data": {
      "image/png": "[encoded data removed]",
      "text/plain": [
       "<Figure size 360x360 with 1 Axes>"
      ]
     },
     "metadata": {
      "needs_background": "light"
     },
     "output_type": "display_data"
    }
   ],
   "source": [
    "sns.displot(train_df[\"YIELD\"]);"
   ]
  },
  {
   "cell_type": "code",
   "execution_count": 247,
   "id": "bada10e2",
   "metadata": {},
   "outputs": [
    {
     "data": {
      "text/plain": [
       "count     25723.000000\n",
       "mean      75838.054348\n",
       "std       83683.317016\n",
       "min          50.000000\n",
       "25%       19584.000000\n",
       "50%       37418.000000\n",
       "75%      104001.000000\n",
       "max      501412.000000\n",
       "Name: YIELD, dtype: float64"
      ]
     },
     "execution_count": 247,
     "metadata": {},
     "output_type": "execute_result"
    }
   ],
   "source": [
    "train_df[\"YIELD\"].describe()"
   ]
  },
  {
   "cell_type": "markdown",
   "id": "90a4537f",
   "metadata": {},
   "source": [
    "A neat way to visualize correlations is by using heatmaps. I'll create one with the continuous input features to try and see if there's any linear relationship between them and the crop yield."
   ]
  },
  {
   "cell_type": "code",
   "execution_count": 277,
   "id": "b89e1b21",
   "metadata": {},
   "outputs": [
    {
     "data": {
      "text/plain": [
       "<AxesSubplot:>"
      ]
     },
     "execution_count": 277,
     "metadata": {},
     "output_type": "execute_result"
    },
    {
     "data": {
      "image/png": "[encoded data removed]",
      "text/plain": [
       "<Figure size 792x648 with 2 Axes>"
      ]
     },
     "metadata": {
      "needs_background": "light"
     },
     "output_type": "display_data"
    }
   ],
   "source": [
    "correlation_data = train_df.select_dtypes(include=[np.number]).corr()\n",
    "mask = np.zeros_like(correlation_data, dtype=bool)\n",
    "mask[np.triu_indices_from(mask)] = True\n",
    "\n",
    "f, ax = plt.subplots(figsize=(11, 9))\n",
    "\n",
    "cmap = sns.color_palette(\"vlag\")\n",
    "\n",
    "sns.heatmap(data=correlation_data, cmap=cmap, mask=mask, vmax=.3, center=0, square=True, linewidths=.5, cbar_kws={\"shrink\":.5})"
   ]
  },
  {
   "cell_type": "markdown",
   "id": "8c2a2a12",
   "metadata": {},
   "source": [
    "There's no meaningful correlation amongst the variables.<br>\n",
    "<br>\n",
    "There isn't much more that needs to be explored within the data, so I'll move on to comparing models."
   ]
  },
  {
   "cell_type": "markdown",
   "id": "16526bf1",
   "metadata": {},
   "source": [
    "# Data Preprocessing"
   ]
  },
  {
   "cell_type": "markdown",
   "id": "76aed3c1",
   "metadata": {},
   "source": [
    "<h3>Training Data</h3>"
   ]
  },
  {
   "cell_type": "code",
   "execution_count": 308,
   "id": "d44c4554",
   "metadata": {},
   "outputs": [],
   "source": [
    "from sklearn.preprocessing import MinMaxScaler"
   ]
  },
  {
   "cell_type": "code",
   "execution_count": 625,
   "id": "d3ec1ff9",
   "metadata": {
    "scrolled": true
   },
   "outputs": [
    {
     "data": {
      "text/html": [
       "<div>\n",
       "<style scoped>\n",
       "    .dataframe tbody tr th:only-of-type {\n",
       "        vertical-align: middle;\n",
       "    }\n",
       "\n",
       "    .dataframe tbody tr th {\n",
       "        vertical-align: top;\n",
       "    }\n",
       "\n",
       "    .dataframe thead th {\n",
       "        text-align: right;\n",
       "    }\n",
       "</style>\n",
       "<table border=\"1\" class=\"dataframe\">\n",
       "  <thead>\n",
       "    <tr style=\"text-align: right;\">\n",
       "      <th></th>\n",
       "      <th>country</th>\n",
       "      <th>crop_item</th>\n",
       "      <th>year</th>\n",
       "      <th>average_rain_fall_mm_per_year</th>\n",
       "      <th>pesticides_tonnes</th>\n",
       "      <th>avg_temp</th>\n",
       "      <th>YIELD</th>\n",
       "    </tr>\n",
       "  </thead>\n",
       "  <tbody>\n",
       "    <tr>\n",
       "      <th>0</th>\n",
       "      <td>Mauritania</td>\n",
       "      <td>Sorghum</td>\n",
       "      <td>2006</td>\n",
       "      <td>92.0</td>\n",
       "      <td>1.70</td>\n",
       "      <td>27.82</td>\n",
       "      <td>4037</td>\n",
       "    </tr>\n",
       "    <tr>\n",
       "      <th>1</th>\n",
       "      <td>Denmark</td>\n",
       "      <td>Potatoes</td>\n",
       "      <td>2002</td>\n",
       "      <td>703.0</td>\n",
       "      <td>2868.00</td>\n",
       "      <td>9.54</td>\n",
       "      <td>399066</td>\n",
       "    </tr>\n",
       "    <tr>\n",
       "      <th>2</th>\n",
       "      <td>South Africa</td>\n",
       "      <td>Sorghum</td>\n",
       "      <td>1992</td>\n",
       "      <td>495.0</td>\n",
       "      <td>16582.00</td>\n",
       "      <td>16.48</td>\n",
       "      <td>6178</td>\n",
       "    </tr>\n",
       "    <tr>\n",
       "      <th>3</th>\n",
       "      <td>Mali</td>\n",
       "      <td>Soybeans</td>\n",
       "      <td>2008</td>\n",
       "      <td>282.0</td>\n",
       "      <td>9.99</td>\n",
       "      <td>27.62</td>\n",
       "      <td>6214</td>\n",
       "    </tr>\n",
       "    <tr>\n",
       "      <th>4</th>\n",
       "      <td>Romania</td>\n",
       "      <td>Maize</td>\n",
       "      <td>2008</td>\n",
       "      <td>637.0</td>\n",
       "      <td>7193.70</td>\n",
       "      <td>12.50</td>\n",
       "      <td>32271</td>\n",
       "    </tr>\n",
       "  </tbody>\n",
       "</table>\n",
       "</div>"
      ],
      "text/plain": [
       "        country crop_item  year  average_rain_fall_mm_per_year  \\\n",
       "0    Mauritania   Sorghum  2006                           92.0   \n",
       "1       Denmark  Potatoes  2002                          703.0   \n",
       "2  South Africa   Sorghum  1992                          495.0   \n",
       "3          Mali  Soybeans  2008                          282.0   \n",
       "4       Romania     Maize  2008                          637.0   \n",
       "\n",
       "   pesticides_tonnes  avg_temp   YIELD  \n",
       "0               1.70     27.82    4037  \n",
       "1            2868.00      9.54  399066  \n",
       "2           16582.00     16.48    6178  \n",
       "3               9.99     27.62    6214  \n",
       "4            7193.70     12.50   32271  "
      ]
     },
     "execution_count": 625,
     "metadata": {},
     "output_type": "execute_result"
    }
   ],
   "source": [
    "shuffled_train_df = train_df.sample(frac=1).reset_index(drop=True)\n",
    "shuffled_train_df.head()"
   ]
  },
  {
   "cell_type": "markdown",
   "id": "338b3805",
   "metadata": {},
   "source": [
    "I shuffled the training dataframe so that the countries' data no longer appear in contiguous blocks. This is important to do before training so that the distribution of data in each batch is somewhat similar to the distribution of the data in the full dataset."
   ]
  },
  {
   "cell_type": "code",
   "execution_count": 626,
   "id": "986e8bcf",
   "metadata": {},
   "outputs": [
    {
     "data": {
      "text/html": [
       "<div>\n",
       "<style scoped>\n",
       "    .dataframe tbody tr th:only-of-type {\n",
       "        vertical-align: middle;\n",
       "    }\n",
       "\n",
       "    .dataframe tbody tr th {\n",
       "        vertical-align: top;\n",
       "    }\n",
       "\n",
       "    .dataframe thead th {\n",
       "        text-align: right;\n",
       "    }\n",
       "</style>\n",
       "<table border=\"1\" class=\"dataframe\">\n",
       "  <thead>\n",
       "    <tr style=\"text-align: right;\">\n",
       "      <th></th>\n",
       "      <th>year</th>\n",
       "      <th>average_rain_fall_mm_per_year</th>\n",
       "      <th>pesticides_tonnes</th>\n",
       "      <th>avg_temp</th>\n",
       "      <th>Country_Albania</th>\n",
       "      <th>Country_Algeria</th>\n",
       "      <th>Country_Angola</th>\n",
       "      <th>Country_Argentina</th>\n",
       "      <th>Country_Armenia</th>\n",
       "      <th>Country_Australia</th>\n",
       "      <th>...</th>\n",
       "      <th>Crop_Item_Cassava</th>\n",
       "      <th>Crop_Item_Maize</th>\n",
       "      <th>Crop_Item_Plantains and others</th>\n",
       "      <th>Crop_Item_Potatoes</th>\n",
       "      <th>Crop_Item_Rice, paddy</th>\n",
       "      <th>Crop_Item_Sorghum</th>\n",
       "      <th>Crop_Item_Soybeans</th>\n",
       "      <th>Crop_Item_Sweet potatoes</th>\n",
       "      <th>Crop_Item_Wheat</th>\n",
       "      <th>Crop_Item_Yams</th>\n",
       "    </tr>\n",
       "  </thead>\n",
       "  <tbody>\n",
       "    <tr>\n",
       "      <th>0</th>\n",
       "      <td>2006</td>\n",
       "      <td>92.0</td>\n",
       "      <td>1.70</td>\n",
       "      <td>27.82</td>\n",
       "      <td>0</td>\n",
       "      <td>0</td>\n",
       "      <td>0</td>\n",
       "      <td>0</td>\n",
       "      <td>0</td>\n",
       "      <td>0</td>\n",
       "      <td>...</td>\n",
       "      <td>0</td>\n",
       "      <td>0</td>\n",
       "      <td>0</td>\n",
       "      <td>0</td>\n",
       "      <td>0</td>\n",
       "      <td>1</td>\n",
       "      <td>0</td>\n",
       "      <td>0</td>\n",
       "      <td>0</td>\n",
       "      <td>0</td>\n",
       "    </tr>\n",
       "    <tr>\n",
       "      <th>1</th>\n",
       "      <td>2002</td>\n",
       "      <td>703.0</td>\n",
       "      <td>2868.00</td>\n",
       "      <td>9.54</td>\n",
       "      <td>0</td>\n",
       "      <td>0</td>\n",
       "      <td>0</td>\n",
       "      <td>0</td>\n",
       "      <td>0</td>\n",
       "      <td>0</td>\n",
       "      <td>...</td>\n",
       "      <td>0</td>\n",
       "      <td>0</td>\n",
       "      <td>0</td>\n",
       "      <td>1</td>\n",
       "      <td>0</td>\n",
       "      <td>0</td>\n",
       "      <td>0</td>\n",
       "      <td>0</td>\n",
       "      <td>0</td>\n",
       "      <td>0</td>\n",
       "    </tr>\n",
       "    <tr>\n",
       "      <th>2</th>\n",
       "      <td>1992</td>\n",
       "      <td>495.0</td>\n",
       "      <td>16582.00</td>\n",
       "      <td>16.48</td>\n",
       "      <td>0</td>\n",
       "      <td>0</td>\n",
       "      <td>0</td>\n",
       "      <td>0</td>\n",
       "      <td>0</td>\n",
       "      <td>0</td>\n",
       "      <td>...</td>\n",
       "      <td>0</td>\n",
       "      <td>0</td>\n",
       "      <td>0</td>\n",
       "      <td>0</td>\n",
       "      <td>0</td>\n",
       "      <td>1</td>\n",
       "      <td>0</td>\n",
       "      <td>0</td>\n",
       "      <td>0</td>\n",
       "      <td>0</td>\n",
       "    </tr>\n",
       "    <tr>\n",
       "      <th>3</th>\n",
       "      <td>2008</td>\n",
       "      <td>282.0</td>\n",
       "      <td>9.99</td>\n",
       "      <td>27.62</td>\n",
       "      <td>0</td>\n",
       "      <td>0</td>\n",
       "      <td>0</td>\n",
       "      <td>0</td>\n",
       "      <td>0</td>\n",
       "      <td>0</td>\n",
       "      <td>...</td>\n",
       "      <td>0</td>\n",
       "      <td>0</td>\n",
       "      <td>0</td>\n",
       "      <td>0</td>\n",
       "      <td>0</td>\n",
       "      <td>0</td>\n",
       "      <td>1</td>\n",
       "      <td>0</td>\n",
       "      <td>0</td>\n",
       "      <td>0</td>\n",
       "    </tr>\n",
       "    <tr>\n",
       "      <th>4</th>\n",
       "      <td>2008</td>\n",
       "      <td>637.0</td>\n",
       "      <td>7193.70</td>\n",
       "      <td>12.50</td>\n",
       "      <td>0</td>\n",
       "      <td>0</td>\n",
       "      <td>0</td>\n",
       "      <td>0</td>\n",
       "      <td>0</td>\n",
       "      <td>0</td>\n",
       "      <td>...</td>\n",
       "      <td>0</td>\n",
       "      <td>1</td>\n",
       "      <td>0</td>\n",
       "      <td>0</td>\n",
       "      <td>0</td>\n",
       "      <td>0</td>\n",
       "      <td>0</td>\n",
       "      <td>0</td>\n",
       "      <td>0</td>\n",
       "      <td>0</td>\n",
       "    </tr>\n",
       "  </tbody>\n",
       "</table>\n",
       "<p>5 rows × 114 columns</p>\n",
       "</div>"
      ],
      "text/plain": [
       "   year  average_rain_fall_mm_per_year  pesticides_tonnes  avg_temp  \\\n",
       "0  2006                           92.0               1.70     27.82   \n",
       "1  2002                          703.0            2868.00      9.54   \n",
       "2  1992                          495.0           16582.00     16.48   \n",
       "3  2008                          282.0               9.99     27.62   \n",
       "4  2008                          637.0            7193.70     12.50   \n",
       "\n",
       "   Country_Albania  Country_Algeria  Country_Angola  Country_Argentina  \\\n",
       "0                0                0               0                  0   \n",
       "1                0                0               0                  0   \n",
       "2                0                0               0                  0   \n",
       "3                0                0               0                  0   \n",
       "4                0                0               0                  0   \n",
       "\n",
       "   Country_Armenia  Country_Australia  ...  Crop_Item_Cassava  \\\n",
       "0                0                  0  ...                  0   \n",
       "1                0                  0  ...                  0   \n",
       "2                0                  0  ...                  0   \n",
       "3                0                  0  ...                  0   \n",
       "4                0                  0  ...                  0   \n",
       "\n",
       "   Crop_Item_Maize  Crop_Item_Plantains and others  Crop_Item_Potatoes  \\\n",
       "0                0                               0                   0   \n",
       "1                0                               0                   1   \n",
       "2                0                               0                   0   \n",
       "3                0                               0                   0   \n",
       "4                1                               0                   0   \n",
       "\n",
       "   Crop_Item_Rice, paddy  Crop_Item_Sorghum  Crop_Item_Soybeans  \\\n",
       "0                      0                  1                   0   \n",
       "1                      0                  0                   0   \n",
       "2                      0                  1                   0   \n",
       "3                      0                  0                   1   \n",
       "4                      0                  0                   0   \n",
       "\n",
       "   Crop_Item_Sweet potatoes  Crop_Item_Wheat  Crop_Item_Yams  \n",
       "0                         0                0               0  \n",
       "1                         0                0               0  \n",
       "2                         0                0               0  \n",
       "3                         0                0               0  \n",
       "4                         0                0               0  \n",
       "\n",
       "[5 rows x 114 columns]"
      ]
     },
     "execution_count": 626,
     "metadata": {},
     "output_type": "execute_result"
    }
   ],
   "source": [
    "train_df_onehot = pd.get_dummies(shuffled_train_df, columns=[\"country\", \"crop_item\"], prefix=[\"Country\", \"Crop_Item\"])\n",
    "train_input_features = train_df_onehot.loc[:, train_df_onehot.columns != \"YIELD\"]\n",
    "# single features must be reshaped to be 2 dimensional for sklearn, where each row is\n",
    "# is a sample and the column is the feature.\n",
    "train_target = shuffled_train_df[\"YIELD\"].to_numpy().reshape(-1, 1)\n",
    "\n",
    "train_input_features.head()"
   ]
  },
  {
   "cell_type": "markdown",
   "id": "0070b315",
   "metadata": {},
   "source": [
    "Some machine learning algorithms can't deal with categorical data, so they must be encoded into numbers in order to be fed as input into the algorithm. I use one-hot encoding as opposed to something like integer encoding (where the categorical data is encoded into integers in ascending order), because the former doesn't assume some order in the categorical data. Country and crop item are not ordinal data, and, therefore, should not be encoded into numbers that assume an order, hence why one-hot encoding is used. "
   ]
  },
  {
   "cell_type": "code",
   "execution_count": 627,
   "id": "03da1c73",
   "metadata": {},
   "outputs": [],
   "source": [
    "# general scaler that doesn't need to be reaccessed after scaling.\n",
    "scaler = MinMaxScaler()\n",
    "\n",
    "target_scaler = MinMaxScaler()\n",
    "\n",
    "scaled_train_input_features = scaler.fit_transform(train_input_features)\n",
    "scaled_train_target = target_scaler.fit_transform(train_target)"
   ]
  },
  {
   "cell_type": "markdown",
   "id": "cd3bec81",
   "metadata": {},
   "source": [
    "The scaling I use is simple min-max scaling. The formula is as follows:<br>\n",
    "<center>$x_{scaled}=\\frac{x-x_{min}}{x_{max}-x_{min}}$</center>\n",
    "This translates all the data into the range [0, 1] which is important for some algorithms, because some of them show bias towards data with greater magnitudes. And this is especially important in this dataset's case, as there's great variance in the scales of the features, as was demonstrated earlier.<br>\n",
    "<br>\n",
    "I create two scalers: one general-purpose scaler and one for the target feature. The reason I do this is because the scalers are objects that store the range of the features that were passed into them. Later on, I'll invert the transform for the target value to provide a more meaningful root-mean-squared error value, but the only way for the scaler to invert the transform correctly is for it to retain the minimum and maximum values of the feature that was passed into it. "
   ]
  },
  {
   "cell_type": "code",
   "execution_count": 628,
   "id": "1e8350e0",
   "metadata": {},
   "outputs": [
    {
     "data": {
      "text/plain": [
       "array([[7.61904762e-01, 1.28566949e-02, 4.81123218e-06, ...,\n",
       "        0.00000000e+00, 0.00000000e+00, 0.00000000e+00],\n",
       "       [5.71428571e-01, 2.04452807e-01, 8.31230207e-03, ...,\n",
       "        0.00000000e+00, 0.00000000e+00, 0.00000000e+00],\n",
       "       [9.52380952e-02, 1.39228598e-01, 4.80600358e-02, ...,\n",
       "        0.00000000e+00, 0.00000000e+00, 0.00000000e+00],\n",
       "       ...,\n",
       "       [3.80952381e-01, 5.07055503e-01, 2.31348215e-01, ...,\n",
       "        0.00000000e+00, 0.00000000e+00, 1.00000000e+00],\n",
       "       [4.28571429e-01, 2.21699592e-01, 9.99023088e-02, ...,\n",
       "        1.00000000e+00, 0.00000000e+00, 0.00000000e+00],\n",
       "       [5.71428571e-01, 2.18563813e-01, 1.14281256e-04, ...,\n",
       "        0.00000000e+00, 0.00000000e+00, 0.00000000e+00]])"
      ]
     },
     "execution_count": 628,
     "metadata": {},
     "output_type": "execute_result"
    }
   ],
   "source": [
    "scaled_train_input_features"
   ]
  },
  {
   "cell_type": "markdown",
   "id": "fb0fb725",
   "metadata": {},
   "source": [
    "We can see that the data, now represented as a numpy ndarray, is all within the range [0, 1]"
   ]
  },
  {
   "cell_type": "markdown",
   "id": "7562809b",
   "metadata": {},
   "source": [
    "<h3>Testing Data</h3>"
   ]
  },
  {
   "cell_type": "code",
   "execution_count": 601,
   "id": "927bf2de",
   "metadata": {},
   "outputs": [
    {
     "data": {
      "text/html": [
       "<div>\n",
       "<style scoped>\n",
       "    .dataframe tbody tr th:only-of-type {\n",
       "        vertical-align: middle;\n",
       "    }\n",
       "\n",
       "    .dataframe tbody tr th {\n",
       "        vertical-align: top;\n",
       "    }\n",
       "\n",
       "    .dataframe thead th {\n",
       "        text-align: right;\n",
       "    }\n",
       "</style>\n",
       "<table border=\"1\" class=\"dataframe\">\n",
       "  <thead>\n",
       "    <tr style=\"text-align: right;\">\n",
       "      <th></th>\n",
       "      <th>Unnamed: 0</th>\n",
       "      <th>country</th>\n",
       "      <th>crop_item</th>\n",
       "      <th>year</th>\n",
       "      <th>average_rain_fall_mm_per_year</th>\n",
       "      <th>pesticides_tonnes</th>\n",
       "      <th>avg_temp</th>\n",
       "      <th>predicted_YIELD</th>\n",
       "    </tr>\n",
       "  </thead>\n",
       "  <tbody>\n",
       "    <tr>\n",
       "      <th>0</th>\n",
       "      <td>0</td>\n",
       "      <td>Albania</td>\n",
       "      <td>Maize</td>\n",
       "      <td>2012</td>\n",
       "      <td>1485.0</td>\n",
       "      <td>766.25</td>\n",
       "      <td>16.70</td>\n",
       "      <td>NaN</td>\n",
       "    </tr>\n",
       "    <tr>\n",
       "      <th>1</th>\n",
       "      <td>1</td>\n",
       "      <td>Albania</td>\n",
       "      <td>Potatoes</td>\n",
       "      <td>2012</td>\n",
       "      <td>1485.0</td>\n",
       "      <td>766.25</td>\n",
       "      <td>16.70</td>\n",
       "      <td>NaN</td>\n",
       "    </tr>\n",
       "    <tr>\n",
       "      <th>2</th>\n",
       "      <td>2</td>\n",
       "      <td>Albania</td>\n",
       "      <td>Soybeans</td>\n",
       "      <td>2012</td>\n",
       "      <td>1485.0</td>\n",
       "      <td>766.25</td>\n",
       "      <td>16.70</td>\n",
       "      <td>NaN</td>\n",
       "    </tr>\n",
       "    <tr>\n",
       "      <th>3</th>\n",
       "      <td>3</td>\n",
       "      <td>Albania</td>\n",
       "      <td>Wheat</td>\n",
       "      <td>2012</td>\n",
       "      <td>1485.0</td>\n",
       "      <td>766.25</td>\n",
       "      <td>16.70</td>\n",
       "      <td>NaN</td>\n",
       "    </tr>\n",
       "    <tr>\n",
       "      <th>4</th>\n",
       "      <td>4</td>\n",
       "      <td>Albania</td>\n",
       "      <td>Maize</td>\n",
       "      <td>2013</td>\n",
       "      <td>1485.0</td>\n",
       "      <td>982.32</td>\n",
       "      <td>17.41</td>\n",
       "      <td>NaN</td>\n",
       "    </tr>\n",
       "  </tbody>\n",
       "</table>\n",
       "</div>"
      ],
      "text/plain": [
       "   Unnamed: 0  country crop_item  year  average_rain_fall_mm_per_year  \\\n",
       "0           0  Albania     Maize  2012                         1485.0   \n",
       "1           1  Albania  Potatoes  2012                         1485.0   \n",
       "2           2  Albania  Soybeans  2012                         1485.0   \n",
       "3           3  Albania     Wheat  2012                         1485.0   \n",
       "4           4  Albania     Maize  2013                         1485.0   \n",
       "\n",
       "   pesticides_tonnes  avg_temp  predicted_YIELD  \n",
       "0             766.25     16.70              NaN  \n",
       "1             766.25     16.70              NaN  \n",
       "2             766.25     16.70              NaN  \n",
       "3             766.25     16.70              NaN  \n",
       "4             982.32     17.41              NaN  "
      ]
     },
     "execution_count": 601,
     "metadata": {},
     "output_type": "execute_result"
    }
   ],
   "source": [
    "test_df.head()"
   ]
  },
  {
   "cell_type": "markdown",
   "id": "a5be1247",
   "metadata": {},
   "source": [
    "The test dataframe contains an unnecessary column: 'Unnamed: 0'. I'll remove this column before proceeding."
   ]
  },
  {
   "cell_type": "code",
   "execution_count": 602,
   "id": "76f0f564",
   "metadata": {},
   "outputs": [
    {
     "data": {
      "text/html": [
       "<div>\n",
       "<style scoped>\n",
       "    .dataframe tbody tr th:only-of-type {\n",
       "        vertical-align: middle;\n",
       "    }\n",
       "\n",
       "    .dataframe tbody tr th {\n",
       "        vertical-align: top;\n",
       "    }\n",
       "\n",
       "    .dataframe thead th {\n",
       "        text-align: right;\n",
       "    }\n",
       "</style>\n",
       "<table border=\"1\" class=\"dataframe\">\n",
       "  <thead>\n",
       "    <tr style=\"text-align: right;\">\n",
       "      <th></th>\n",
       "      <th>country</th>\n",
       "      <th>crop_item</th>\n",
       "      <th>year</th>\n",
       "      <th>average_rain_fall_mm_per_year</th>\n",
       "      <th>pesticides_tonnes</th>\n",
       "      <th>avg_temp</th>\n",
       "      <th>predicted_YIELD</th>\n",
       "    </tr>\n",
       "  </thead>\n",
       "  <tbody>\n",
       "    <tr>\n",
       "      <th>0</th>\n",
       "      <td>Albania</td>\n",
       "      <td>Maize</td>\n",
       "      <td>2012</td>\n",
       "      <td>1485.0</td>\n",
       "      <td>766.25</td>\n",
       "      <td>16.70</td>\n",
       "      <td>NaN</td>\n",
       "    </tr>\n",
       "    <tr>\n",
       "      <th>1</th>\n",
       "      <td>Albania</td>\n",
       "      <td>Potatoes</td>\n",
       "      <td>2012</td>\n",
       "      <td>1485.0</td>\n",
       "      <td>766.25</td>\n",
       "      <td>16.70</td>\n",
       "      <td>NaN</td>\n",
       "    </tr>\n",
       "    <tr>\n",
       "      <th>2</th>\n",
       "      <td>Albania</td>\n",
       "      <td>Soybeans</td>\n",
       "      <td>2012</td>\n",
       "      <td>1485.0</td>\n",
       "      <td>766.25</td>\n",
       "      <td>16.70</td>\n",
       "      <td>NaN</td>\n",
       "    </tr>\n",
       "    <tr>\n",
       "      <th>3</th>\n",
       "      <td>Albania</td>\n",
       "      <td>Wheat</td>\n",
       "      <td>2012</td>\n",
       "      <td>1485.0</td>\n",
       "      <td>766.25</td>\n",
       "      <td>16.70</td>\n",
       "      <td>NaN</td>\n",
       "    </tr>\n",
       "    <tr>\n",
       "      <th>4</th>\n",
       "      <td>Albania</td>\n",
       "      <td>Maize</td>\n",
       "      <td>2013</td>\n",
       "      <td>1485.0</td>\n",
       "      <td>982.32</td>\n",
       "      <td>17.41</td>\n",
       "      <td>NaN</td>\n",
       "    </tr>\n",
       "  </tbody>\n",
       "</table>\n",
       "</div>"
      ],
      "text/plain": [
       "   country crop_item  year  average_rain_fall_mm_per_year  pesticides_tonnes  \\\n",
       "0  Albania     Maize  2012                         1485.0             766.25   \n",
       "1  Albania  Potatoes  2012                         1485.0             766.25   \n",
       "2  Albania  Soybeans  2012                         1485.0             766.25   \n",
       "3  Albania     Wheat  2012                         1485.0             766.25   \n",
       "4  Albania     Maize  2013                         1485.0             982.32   \n",
       "\n",
       "   avg_temp  predicted_YIELD  \n",
       "0     16.70              NaN  \n",
       "1     16.70              NaN  \n",
       "2     16.70              NaN  \n",
       "3     16.70              NaN  \n",
       "4     17.41              NaN  "
      ]
     },
     "execution_count": 602,
     "metadata": {},
     "output_type": "execute_result"
    }
   ],
   "source": [
    "# Setting axis=1 removes a column; axis=0 removes a row.\n",
    "test_df = test_df.drop(columns=[\"Unnamed: 0\"], axis=1)\n",
    "test_df.head()"
   ]
  },
  {
   "cell_type": "markdown",
   "id": "934dbd07",
   "metadata": {},
   "source": [
    "Just as I did with the training data set, I'll one-hot encode the categorical data in the test dataset."
   ]
  },
  {
   "cell_type": "code",
   "execution_count": 603,
   "id": "2226344c",
   "metadata": {},
   "outputs": [],
   "source": [
    "test_df_onehot = pd.get_dummies(test_df, columns=[\"country\", \"crop_item\"], prefix=[\"Country\", \"Crop_Item\"])\n",
    "test_input_features = test_df_onehot.loc[:, test_df_onehot.columns != \"predicted_YIELD\"]"
   ]
  },
  {
   "cell_type": "code",
   "execution_count": 604,
   "id": "98af3cf8",
   "metadata": {},
   "outputs": [
    {
     "name": "stdout",
     "output_type": "stream",
     "text": [
      "Number of features in the training data set: 114\n",
      "Number of features in the testing data set: 115\n"
     ]
    }
   ],
   "source": [
    "print(\"Number of features in the training data set:\", train_input_features.shape[1])\n",
    "print(\"Number of features in the testing data set:\", test_input_features.shape[1])"
   ]
  },
  {
   "cell_type": "markdown",
   "id": "52757a32",
   "metadata": {},
   "source": [
    "What I notice with this dataframe is that it contains one more feature than the training dataset. I suspect that it has to do with there being one more category in either the country or crop item category, which, after being one-hot encoded, would've resulted in one more column being made to account for the extra category. I'll check both these columns to verify this."
   ]
  },
  {
   "cell_type": "code",
   "execution_count": 605,
   "id": "787ca0d4",
   "metadata": {},
   "outputs": [
    {
     "name": "stdout",
     "output_type": "stream",
     "text": [
      "Number of unique crop items in the training data set: 10\n",
      "Number of unique crop items in the testing data set: 10\n",
      "\n",
      "Number of unique countries in the training data set: 100\n",
      "Number of unique countries in the testing data set: 101\n"
     ]
    }
   ],
   "source": [
    "num_crop_items_train = len(train_df[\"crop_item\"].unique())\n",
    "num_crop_items_test = len(test_df[\"crop_item\"].unique())\n",
    "num_countries_train = len(train_df[\"country\"].unique())\n",
    "num_countries_test = len(test_df[\"country\"].unique())\n",
    "                          \n",
    "print(\"Number of unique crop items in the training data set:\", num_crop_items_train)\n",
    "print(\"Number of unique crop items in the testing data set:\", num_crop_items_test)\n",
    "print()\n",
    "print(\"Number of unique countries in the training data set:\", num_countries_train)\n",
    "print(\"Number of unique countries in the testing data set:\", num_countries_test)"
   ]
  },
  {
   "cell_type": "markdown",
   "id": "ece92778",
   "metadata": {},
   "source": [
    "My suspicions were correct: there is one more country in the testing data set. I'll find the country by checking the difference between the unique countries of the training and testing data sets."
   ]
  },
  {
   "cell_type": "code",
   "execution_count": 606,
   "id": "1b375b2a",
   "metadata": {},
   "outputs": [
    {
     "data": {
      "text/plain": [
       "{'Sudan'}"
      ]
     },
     "execution_count": 606,
     "metadata": {},
     "output_type": "execute_result"
    }
   ],
   "source": [
    "# Python's set data container can be used to store unique data. It provides the useful\n",
    "# method of being able to find the difference between two sets using the difference() method.\n",
    "ls_countries_train = set(train_df[\"country\"].unique())\n",
    "ls_countries_test = set(test_df[\"country\"].unique())\n",
    "ls_countries_test.difference(ls_countries_train)"
   ]
  },
  {
   "cell_type": "markdown",
   "id": "33333e74",
   "metadata": {},
   "source": [
    "It appears that Sudan is the one country that the testing data set has that the training data set does not."
   ]
  },
  {
   "cell_type": "markdown",
   "id": "7df8bfbc",
   "metadata": {},
   "source": [
    "This poses an issue, because after one-hot encoding, the data sets have a differing number of features, which makes it impossible to use the model fitted to the training data to be tested on the testing data.<br>\n",
    "<br>\n",
    "There are a number of ways that this can be dealt with. One option is to add an additional country column to the training data named *Country_Sudan* and then set all the values in that column to 0, because, of course, there's no instance in the training data set in which the country is Sudan. <br>\n",
    "<br>\n",
    "Alternatively, a more generalizable solution would be to get a list of all the countries in the world and then add columns for each country. This would be a much better improvement on the previous option, because then the model could be generalized to any country.<br>\n",
    "<br>\n",
    "But the solution is likely far more simple than these aforementioned ones. As was determined at the beginning of the project, the expected importance of the country in determining crop yields was minimal, if not negligible. This should be intuitive, because the country has no inherent information about what the yield for a crop will be – that's moreso the role of the climatic data. So, instead, what I'll do is simply create a new dataframe from the original dataframe, drop the *country* column, and then one-hot encode the *crop_item* column. This also reduces the number of features by 100, which will significantly reduce training time.<br>\n",
    "<br>\n",
    "I'll still keep the data containing the one-hot encoded countries so that I can compare the performance of the model fitted to that and the model fitted to the data without considering countries."
   ]
  },
  {
   "cell_type": "markdown",
   "id": "6feb4efc",
   "metadata": {},
   "source": [
    "<h3>Creating training and testing data sets without the country column</h3>"
   ]
  },
  {
   "cell_type": "code",
   "execution_count": 653,
   "id": "42da03fe",
   "metadata": {},
   "outputs": [],
   "source": [
    "# Training data\n",
    "shuffled_train_df2 = shuffled_train_df.drop(columns=[\"country\"], axis=1)\n",
    "train_df2_onehot = pd.get_dummies(shuffled_train_df2, columns=[\"crop_item\"], \n",
    "                                  prefix=[\"Crop_Item\"])\n",
    "train_input_features2 = train_df2_onehot.loc[:, train_df2_onehot.columns != \"YIELD\"]\n",
    "scaled_train_input_features2 = scaler.fit_transform(train_input_features2)\n",
    "# I don't need to create another array for the target, as the ordering of \n",
    "# scaled_train_input_features2 corresponds with the order of scaled_train_target\n",
    "\n",
    "# Testing data\n",
    "test_df2 = test_df.drop(columns=[\"country\"], axis=1)\n",
    "test_df2_onehot = pd.get_dummies(test_df2, columns=[\"crop_item\"], prefix=[\"Crop_Item\"])\n",
    "test_input_features = test_df2_onehot.loc[:, test_df2_onehot.columns != \"predicted_YIELD\"]\n",
    "scaled_test_input_features = scaler.fit_transform(test_input_features)"
   ]
  },
  {
   "cell_type": "markdown",
   "id": "8965b81a",
   "metadata": {},
   "source": [
    "<h3>Testing if the country has neglibible effect in determining the crop yield</h3>"
   ]
  },
  {
   "cell_type": "code",
   "execution_count": 670,
   "id": "180def59",
   "metadata": {},
   "outputs": [],
   "source": [
    "from sklearn.ensemble import RandomForestRegressor\n",
    "from sklearn.model_selection import KFold, cross_val_score"
   ]
  },
  {
   "cell_type": "code",
   "execution_count": 666,
   "id": "77ea25a4",
   "metadata": {},
   "outputs": [],
   "source": [
    "x = scaled_train_input_features\n",
    "x_without_country = scaled_train_input_features2\n",
    "y = scaled_train_target\n",
    "kfold = KFold(n_splits=10, shuffle=True, random_state=44)\n",
    "x_train, x_val, y_train, y_val = train_test_split(X, y, test_size=0.2)"
   ]
  },
  {
   "cell_type": "code",
   "execution_count": 668,
   "id": "a7457b21",
   "metadata": {},
   "outputs": [
    {
     "name": "stderr",
     "output_type": "stream",
     "text": [
      "[Parallel(n_jobs=-1)]: Using backend LokyBackend with 8 concurrent workers.\n",
      "[Parallel(n_jobs=-1)]: Done   6 out of  10 | elapsed:   33.5s remaining:   22.4s\n",
      "[Parallel(n_jobs=-1)]: Done  10 out of  10 | elapsed:   47.6s finished\n",
      "[Parallel(n_jobs=-1)]: Using backend LokyBackend with 8 concurrent workers.\n",
      "[Parallel(n_jobs=-1)]: Done   6 out of  10 | elapsed:   11.3s remaining:    7.6s\n",
      "[Parallel(n_jobs=-1)]: Done  10 out of  10 | elapsed:   17.8s finished\n"
     ]
    }
   ],
   "source": [
    "rf = RandomForestRegressor()\n",
    "score_with_all_features = cross_val_score(rf, x, \n",
    "                                     y.ravel(), \n",
    "                                     cv=kfold, \n",
    "                                     scoring=\"neg_mean_squared_error\",  \n",
    "                                     n_jobs=-1,     \n",
    "                                     verbose=1)\n",
    "score_without_country = cross_val_score(rf, x_without_country, \n",
    "                                        y.ravel(), \n",
    "                                        cv=kfold, \n",
    "                                        scoring=\"neg_mean_squared_error\", \n",
    "                                        n_jobs=-1, \n",
    "                                        verbose=1)"
   ]
  },
  {
   "cell_type": "code",
   "execution_count": 669,
   "id": "5298f386",
   "metadata": {},
   "outputs": [
    {
     "name": "stdout",
     "output_type": "stream",
     "text": [
      "Average RMSE for data with all features: [[198.7653169]]\n",
      "Average RMSE for data without country: [[256.82319789]]\n"
     ]
    }
   ],
   "source": [
    "average_rmse_with_all_features = np.array(-score_with_all_features.mean()).reshape(-1, 1)\n",
    "average_rmse_without_country = np.array(-score_without_country.mean()).reshape(-1, 1)\n",
    "average_rmse_with_all_features = target_scaler.inverse_transform(average_rmse_with_all_features)\n",
    "average_rmse_without_country = target_scaler.inverse_transform(average_rmse_without_country)\n",
    "print(\"Average RMSE for data with all features:\", average_rmse_with_country)\n",
    "print(\"Average RMSE for data without country:\", average_rmse_without_country)"
   ]
  },
  {
   "cell_type": "markdown",
   "id": "36155e70",
   "metadata": {},
   "source": [
    "My hypothesis that the country has negligible impact in determining crop yield was somewhat proven wrong. We can see that when the data included the country, the values predicted by the model were, on average, 50 hectograms/hectare closer to the true value. A simple tradeoff must now be made: is the slightly small loss in accuracy worth the reduced training time? I suppose it depends. I prefer to get as close as possible to the true values, regardless of the cost, so I'll stick to including the country. But in order to do so, the number of features that the model was fitted on must match the number of features that the test model has. What I will do is get a list of all the countries in the world and then add the countries not already present as a column to the dataframe."
   ]
  },
  {
   "cell_type": "code",
   "execution_count": 680,
   "id": "667ac386",
   "metadata": {},
   "outputs": [
    {
     "data": {
      "text/html": [
       "<div>\n",
       "<style scoped>\n",
       "    .dataframe tbody tr th:only-of-type {\n",
       "        vertical-align: middle;\n",
       "    }\n",
       "\n",
       "    .dataframe tbody tr th {\n",
       "        vertical-align: top;\n",
       "    }\n",
       "\n",
       "    .dataframe thead th {\n",
       "        text-align: right;\n",
       "    }\n",
       "</style>\n",
       "<table border=\"1\" class=\"dataframe\">\n",
       "  <thead>\n",
       "    <tr style=\"text-align: right;\">\n",
       "      <th></th>\n",
       "      <th>country</th>\n",
       "      <th>pop2022</th>\n",
       "    </tr>\n",
       "  </thead>\n",
       "  <tbody>\n",
       "    <tr>\n",
       "      <th>0</th>\n",
       "      <td>Vatican City</td>\n",
       "      <td>0.799</td>\n",
       "    </tr>\n",
       "    <tr>\n",
       "      <th>1</th>\n",
       "      <td>Niue</td>\n",
       "      <td>1.622</td>\n",
       "    </tr>\n",
       "    <tr>\n",
       "      <th>2</th>\n",
       "      <td>Nauru</td>\n",
       "      <td>10.903</td>\n",
       "    </tr>\n",
       "    <tr>\n",
       "      <th>3</th>\n",
       "      <td>Tuvalu</td>\n",
       "      <td>12.066</td>\n",
       "    </tr>\n",
       "    <tr>\n",
       "      <th>4</th>\n",
       "      <td>Cook Islands</td>\n",
       "      <td>17.571</td>\n",
       "    </tr>\n",
       "  </tbody>\n",
       "</table>\n",
       "</div>"
      ],
      "text/plain": [
       "        country  pop2022\n",
       "0  Vatican City    0.799\n",
       "1          Niue    1.622\n",
       "2         Nauru   10.903\n",
       "3        Tuvalu   12.066\n",
       "4  Cook Islands   17.571"
      ]
     },
     "execution_count": 680,
     "metadata": {},
     "output_type": "execute_result"
    }
   ],
   "source": [
    "countries_df = pd.read_csv(\"countries.csv\")\n",
    "countries_df.head()"
   ]
  },
  {
   "cell_type": "code",
   "execution_count": 682,
   "id": "85a0cf12",
   "metadata": {},
   "outputs": [
    {
     "data": {
      "text/plain": [
       "0       Vatican City\n",
       "1               Niue\n",
       "2              Nauru\n",
       "3             Tuvalu\n",
       "4       Cook Islands\n",
       "           ...      \n",
       "191         Pakistan\n",
       "192        Indonesia\n",
       "193    United States\n",
       "194            India\n",
       "195            China\n",
       "Name: country, Length: 196, dtype: object"
      ]
     },
     "execution_count": 682,
     "metadata": {},
     "output_type": "execute_result"
    }
   ],
   "source": [
    "countries = countries_df[\"country\"]\n",
    "countries"
   ]
  },
  {
   "cell_type": "markdown",
   "id": "08735658",
   "metadata": {},
   "source": [
    "I downloaded a csv file containing the names of all countries in the world: 193 a part of the United Nations and the 2 non-member observer states, namely the Holy See and the State of Palestine. I loaded it into a pandas dataframe and then created a pandas series of just the names of the countries. I'll now create columns in the "
   ]
  },
  {
   "cell_type": "code",
   "execution_count": 713,
   "id": "3040d962",
   "metadata": {},
   "outputs": [
    {
     "data": {
      "text/html": [
       "<div>\n",
       "<style scoped>\n",
       "    .dataframe tbody tr th:only-of-type {\n",
       "        vertical-align: middle;\n",
       "    }\n",
       "\n",
       "    .dataframe tbody tr th {\n",
       "        vertical-align: top;\n",
       "    }\n",
       "\n",
       "    .dataframe thead th {\n",
       "        text-align: right;\n",
       "    }\n",
       "</style>\n",
       "<table border=\"1\" class=\"dataframe\">\n",
       "  <thead>\n",
       "    <tr style=\"text-align: right;\">\n",
       "      <th></th>\n",
       "      <th>year</th>\n",
       "      <th>average_rain_fall_mm_per_year</th>\n",
       "      <th>pesticides_tonnes</th>\n",
       "      <th>avg_temp</th>\n",
       "      <th>YIELD</th>\n",
       "      <th>Country_Albania</th>\n",
       "      <th>Country_Algeria</th>\n",
       "      <th>Country_Angola</th>\n",
       "      <th>Country_Argentina</th>\n",
       "      <th>Country_Armenia</th>\n",
       "      <th>...</th>\n",
       "      <th>Country_Tanzania</th>\n",
       "      <th>Country_Iran</th>\n",
       "      <th>Country_DR Congo</th>\n",
       "      <th>Country_Vietnam</th>\n",
       "      <th>Country_Philippines</th>\n",
       "      <th>Country_Ethiopia</th>\n",
       "      <th>Country_Russia</th>\n",
       "      <th>Country_Nigeria</th>\n",
       "      <th>Country_United States</th>\n",
       "      <th>Country_China</th>\n",
       "    </tr>\n",
       "  </thead>\n",
       "  <tbody>\n",
       "    <tr>\n",
       "      <th>0</th>\n",
       "      <td>2006</td>\n",
       "      <td>92.0</td>\n",
       "      <td>1.70</td>\n",
       "      <td>27.82</td>\n",
       "      <td>4037</td>\n",
       "      <td>0</td>\n",
       "      <td>0</td>\n",
       "      <td>0</td>\n",
       "      <td>0</td>\n",
       "      <td>0</td>\n",
       "      <td>...</td>\n",
       "      <td>0.0</td>\n",
       "      <td>0.0</td>\n",
       "      <td>0.0</td>\n",
       "      <td>0.0</td>\n",
       "      <td>0.0</td>\n",
       "      <td>0.0</td>\n",
       "      <td>0.0</td>\n",
       "      <td>0.0</td>\n",
       "      <td>0.0</td>\n",
       "      <td>0.0</td>\n",
       "    </tr>\n",
       "    <tr>\n",
       "      <th>1</th>\n",
       "      <td>2002</td>\n",
       "      <td>703.0</td>\n",
       "      <td>2868.00</td>\n",
       "      <td>9.54</td>\n",
       "      <td>399066</td>\n",
       "      <td>0</td>\n",
       "      <td>0</td>\n",
       "      <td>0</td>\n",
       "      <td>0</td>\n",
       "      <td>0</td>\n",
       "      <td>...</td>\n",
       "      <td>0.0</td>\n",
       "      <td>0.0</td>\n",
       "      <td>0.0</td>\n",
       "      <td>0.0</td>\n",
       "      <td>0.0</td>\n",
       "      <td>0.0</td>\n",
       "      <td>0.0</td>\n",
       "      <td>0.0</td>\n",
       "      <td>0.0</td>\n",
       "      <td>0.0</td>\n",
       "    </tr>\n",
       "    <tr>\n",
       "      <th>2</th>\n",
       "      <td>1992</td>\n",
       "      <td>495.0</td>\n",
       "      <td>16582.00</td>\n",
       "      <td>16.48</td>\n",
       "      <td>6178</td>\n",
       "      <td>0</td>\n",
       "      <td>0</td>\n",
       "      <td>0</td>\n",
       "      <td>0</td>\n",
       "      <td>0</td>\n",
       "      <td>...</td>\n",
       "      <td>0.0</td>\n",
       "      <td>0.0</td>\n",
       "      <td>0.0</td>\n",
       "      <td>0.0</td>\n",
       "      <td>0.0</td>\n",
       "      <td>0.0</td>\n",
       "      <td>0.0</td>\n",
       "      <td>0.0</td>\n",
       "      <td>0.0</td>\n",
       "      <td>0.0</td>\n",
       "    </tr>\n",
       "    <tr>\n",
       "      <th>3</th>\n",
       "      <td>2008</td>\n",
       "      <td>282.0</td>\n",
       "      <td>9.99</td>\n",
       "      <td>27.62</td>\n",
       "      <td>6214</td>\n",
       "      <td>0</td>\n",
       "      <td>0</td>\n",
       "      <td>0</td>\n",
       "      <td>0</td>\n",
       "      <td>0</td>\n",
       "      <td>...</td>\n",
       "      <td>0.0</td>\n",
       "      <td>0.0</td>\n",
       "      <td>0.0</td>\n",
       "      <td>0.0</td>\n",
       "      <td>0.0</td>\n",
       "      <td>0.0</td>\n",
       "      <td>0.0</td>\n",
       "      <td>0.0</td>\n",
       "      <td>0.0</td>\n",
       "      <td>0.0</td>\n",
       "    </tr>\n",
       "    <tr>\n",
       "      <th>4</th>\n",
       "      <td>2008</td>\n",
       "      <td>637.0</td>\n",
       "      <td>7193.70</td>\n",
       "      <td>12.50</td>\n",
       "      <td>32271</td>\n",
       "      <td>0</td>\n",
       "      <td>0</td>\n",
       "      <td>0</td>\n",
       "      <td>0</td>\n",
       "      <td>0</td>\n",
       "      <td>...</td>\n",
       "      <td>0.0</td>\n",
       "      <td>0.0</td>\n",
       "      <td>0.0</td>\n",
       "      <td>0.0</td>\n",
       "      <td>0.0</td>\n",
       "      <td>0.0</td>\n",
       "      <td>0.0</td>\n",
       "      <td>0.0</td>\n",
       "      <td>0.0</td>\n",
       "      <td>0.0</td>\n",
       "    </tr>\n",
       "  </tbody>\n",
       "</table>\n",
       "<p>5 rows × 212 columns</p>\n",
       "</div>"
      ],
      "text/plain": [
       "   year  average_rain_fall_mm_per_year  pesticides_tonnes  avg_temp   YIELD  \\\n",
       "0  2006                           92.0               1.70     27.82    4037   \n",
       "1  2002                          703.0            2868.00      9.54  399066   \n",
       "2  1992                          495.0           16582.00     16.48    6178   \n",
       "3  2008                          282.0               9.99     27.62    6214   \n",
       "4  2008                          637.0            7193.70     12.50   32271   \n",
       "\n",
       "   Country_Albania  Country_Algeria  Country_Angola  Country_Argentina  \\\n",
       "0                0                0               0                  0   \n",
       "1                0                0               0                  0   \n",
       "2                0                0               0                  0   \n",
       "3                0                0               0                  0   \n",
       "4                0                0               0                  0   \n",
       "\n",
       "   Country_Armenia  ...  Country_Tanzania  Country_Iran  Country_DR Congo  \\\n",
       "0                0  ...               0.0           0.0               0.0   \n",
       "1                0  ...               0.0           0.0               0.0   \n",
       "2                0  ...               0.0           0.0               0.0   \n",
       "3                0  ...               0.0           0.0               0.0   \n",
       "4                0  ...               0.0           0.0               0.0   \n",
       "\n",
       "   Country_Vietnam  Country_Philippines  Country_Ethiopia  Country_Russia  \\\n",
       "0              0.0                  0.0               0.0             0.0   \n",
       "1              0.0                  0.0               0.0             0.0   \n",
       "2              0.0                  0.0               0.0             0.0   \n",
       "3              0.0                  0.0               0.0             0.0   \n",
       "4              0.0                  0.0               0.0             0.0   \n",
       "\n",
       "   Country_Nigeria  Country_United States  Country_China  \n",
       "0              0.0                    0.0            0.0  \n",
       "1              0.0                    0.0            0.0  \n",
       "2              0.0                    0.0            0.0  \n",
       "3              0.0                    0.0            0.0  \n",
       "4              0.0                    0.0            0.0  \n",
       "\n",
       "[5 rows x 212 columns]"
      ]
     },
     "execution_count": 713,
     "metadata": {},
     "output_type": "execute_result"
    }
   ],
   "source": [
    "countries_in_train_df = train_df[\"country\"].unique()\n",
    "num_rows = len(train_df_onehot.index)\n",
    "for country in countries:\n",
    "    if country not in countries_in_train_df:\n",
    "        new_country = \"Country_\" + country\n",
    "        train_df_onehot[new_country] = np.zeros(num_rows)\n",
    "\n",
    "train_df_onehot.head()"
   ]
  },
  {
   "cell_type": "code",
   "execution_count": null,
   "id": "131515b3",
   "metadata": {},
   "outputs": [],
   "source": [
    "list_of_models = [RandomForestRegressor(), LinearRegressor(), SVR()]\n",
    "type(list_of_models[0])\n",
    "# reg = model.fit(x_train, y_train)\n",
    "# reg.score(x_test, y_test)"
   ]
  },
  {
   "cell_type": "code",
   "execution_count": null,
   "id": "2dfc577c",
   "metadata": {},
   "outputs": [],
   "source": []
  }
 ],
 "metadata": {
  "kernelspec": {
   "display_name": "LoopQPrize",
   "language": "python",
   "name": "loopqprize"
  },
  "language_info": {
   "codemirror_mode": {
    "name": "ipython",
    "version": 3
   },
   "file_extension": ".py",
   "mimetype": "text/x-python",
   "name": "python",
   "nbconvert_exporter": "python",
   "pygments_lexer": "ipython3",
   "version": "3.8.13"
  }
 },
 "nbformat": 4,
 "nbformat_minor": 5
}
