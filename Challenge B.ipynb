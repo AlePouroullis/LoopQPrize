{
 "cells": [
  {
   "cell_type": "markdown",
   "id": "f76752be",
   "metadata": {},
   "source": [
    "<div align=\"center\">\n",
    "<h1><font size=\"7\">Loop Q Prize</font></h1>\n",
    "<h2><font size=\"5\">Challenge B: Crop Yield Prediction</font></h2>\n",
    "<font size=\"4\">Alexandros P. Pouroullis</font>\n",
    "</div>"
   ]
  },
  {
   "cell_type": "markdown",
   "id": "8442a469",
   "metadata": {},
   "source": [
    "# Data Exploration"
   ]
  },
  {
   "cell_type": "code",
   "execution_count": 436,
   "id": "1febc6e9",
   "metadata": {},
   "outputs": [],
   "source": [
    "import numpy as np\n",
    "import pandas as pd"
   ]
  },
  {
   "cell_type": "code",
   "execution_count": 437,
   "id": "62ab45bb",
   "metadata": {
    "scrolled": true
   },
   "outputs": [
    {
     "data": {
      "text/html": [
       "<div>\n",
       "<style scoped>\n",
       "    .dataframe tbody tr th:only-of-type {\n",
       "        vertical-align: middle;\n",
       "    }\n",
       "\n",
       "    .dataframe tbody tr th {\n",
       "        vertical-align: top;\n",
       "    }\n",
       "\n",
       "    .dataframe thead th {\n",
       "        text-align: right;\n",
       "    }\n",
       "</style>\n",
       "<table border=\"1\" class=\"dataframe\">\n",
       "  <thead>\n",
       "    <tr style=\"text-align: right;\">\n",
       "      <th></th>\n",
       "      <th>country</th>\n",
       "      <th>crop_item</th>\n",
       "      <th>year</th>\n",
       "      <th>average_rain_fall_mm_per_year</th>\n",
       "      <th>pesticides_tonnes</th>\n",
       "      <th>avg_temp</th>\n",
       "      <th>YIELD</th>\n",
       "    </tr>\n",
       "  </thead>\n",
       "  <tbody>\n",
       "    <tr>\n",
       "      <th>0</th>\n",
       "      <td>India</td>\n",
       "      <td>Rice, paddy</td>\n",
       "      <td>2005</td>\n",
       "      <td>1083.0</td>\n",
       "      <td>35342.00</td>\n",
       "      <td>25.82</td>\n",
       "      <td>31537</td>\n",
       "    </tr>\n",
       "    <tr>\n",
       "      <th>1</th>\n",
       "      <td>Mexico</td>\n",
       "      <td>Wheat</td>\n",
       "      <td>2009</td>\n",
       "      <td>758.0</td>\n",
       "      <td>61690.08</td>\n",
       "      <td>17.03</td>\n",
       "      <td>49688</td>\n",
       "    </tr>\n",
       "    <tr>\n",
       "      <th>2</th>\n",
       "      <td>Greece</td>\n",
       "      <td>Rice, paddy</td>\n",
       "      <td>2004</td>\n",
       "      <td>652.0</td>\n",
       "      <td>11594.00</td>\n",
       "      <td>18.07</td>\n",
       "      <td>71038</td>\n",
       "    </tr>\n",
       "    <tr>\n",
       "      <th>3</th>\n",
       "      <td>Canada</td>\n",
       "      <td>Soybeans</td>\n",
       "      <td>2009</td>\n",
       "      <td>537.0</td>\n",
       "      <td>54529.40</td>\n",
       "      <td>7.12</td>\n",
       "      <td>25371</td>\n",
       "    </tr>\n",
       "    <tr>\n",
       "      <th>4</th>\n",
       "      <td>India</td>\n",
       "      <td>Sweet potatoes</td>\n",
       "      <td>2001</td>\n",
       "      <td>1083.0</td>\n",
       "      <td>43720.04</td>\n",
       "      <td>26.90</td>\n",
       "      <td>88368</td>\n",
       "    </tr>\n",
       "  </tbody>\n",
       "</table>\n",
       "</div>"
      ],
      "text/plain": [
       "  country       crop_item  year  average_rain_fall_mm_per_year  \\\n",
       "0   India     Rice, paddy  2005                         1083.0   \n",
       "1  Mexico           Wheat  2009                          758.0   \n",
       "2  Greece     Rice, paddy  2004                          652.0   \n",
       "3  Canada        Soybeans  2009                          537.0   \n",
       "4   India  Sweet potatoes  2001                         1083.0   \n",
       "\n",
       "   pesticides_tonnes  avg_temp  YIELD  \n",
       "0           35342.00     25.82  31537  \n",
       "1           61690.08     17.03  49688  \n",
       "2           11594.00     18.07  71038  \n",
       "3           54529.40      7.12  25371  \n",
       "4           43720.04     26.90  88368  "
      ]
     },
     "execution_count": 437,
     "metadata": {},
     "output_type": "execute_result"
    }
   ],
   "source": [
    "# Gathering training and test data\n",
    "train_data_path = 'challengeB_data/2022challengeB_train.csv'\n",
    "test_data_path = 'challengeB_data/2022challengeB_test.csv'\n",
    "train_df = pd.read_csv(train_data_path, index_col=[0])\n",
    "# Shuffling the data frame\n",
    "train_df = train_df.sample(frac=1).reset_index(drop=True)\n",
    "test_df = pd.read_csv(test_data_path, index_col=[0])\n",
    "\n",
    "train_df.head()"
   ]
  },
  {
   "cell_type": "markdown",
   "id": "e6b0ae33",
   "metadata": {},
   "source": [
    "<font size=3>I shuffled the training data frame so that the countries' data no longer appear in contiguous blocks. This is important to do before training so that the distribution of data in each batch is somewhat similar to the distribution of the data in the full dataset.</font>"
   ]
  },
  {
   "cell_type": "code",
   "execution_count": 44,
   "id": "c692b377",
   "metadata": {},
   "outputs": [
    {
     "name": "stdout",
     "output_type": "stream",
     "text": [
      "<class 'pandas.core.frame.DataFrame'>\n",
      "RangeIndex: 25723 entries, 0 to 25722\n",
      "Data columns (total 7 columns):\n",
      " #   Column                         Non-Null Count  Dtype  \n",
      "---  ------                         --------------  -----  \n",
      " 0   country                        25723 non-null  object \n",
      " 1   crop_item                      25723 non-null  object \n",
      " 2   year                           25723 non-null  int64  \n",
      " 3   average_rain_fall_mm_per_year  25723 non-null  float64\n",
      " 4   pesticides_tonnes              25723 non-null  float64\n",
      " 5   avg_temp                       25723 non-null  float64\n",
      " 6   YIELD                          25723 non-null  int64  \n",
      "dtypes: float64(3), int64(2), object(2)\n",
      "memory usage: 1.4+ MB\n"
     ]
    }
   ],
   "source": [
    "train_df.info()"
   ]
  },
  {
   "cell_type": "markdown",
   "id": "eb8881f4",
   "metadata": {},
   "source": [
    "<font size=3>The data has 6 features, 1 target value, and a total of 25723 samples.</font>"
   ]
  },
  {
   "cell_type": "markdown",
   "id": "3e96c8f2",
   "metadata": {},
   "source": [
    "<table style=\"width:100%\">\n",
    "    <thead>\n",
    "        <th style=\"text-align:center\">Target Value</th>\n",
    "        <th style=\"text-align:center\">Generic Data Type</th>\n",
    "    </thead>\n",
    "    <tbody>\n",
    "        <tr>\n",
    "            <td style=\"text-align:center\">Crop Yield (Hectograms/Hectare)</td>\n",
    "            <td style=\"text-align:center\">Numerical</td>\n",
    "        </tr>\n",
    "    </tbody>\n",
    "</table>"
   ]
  },
  {
   "cell_type": "markdown",
   "id": "f73136de",
   "metadata": {},
   "source": [
    "<font size=3>The data consist of a mixture of both continuous and nominal (categorical with no order) data. The nominal data will need to be encoded later on in the preprocessing phase so that it can be used along with the continuous data. It can also be seen that the value that the model will predict is continuous, meaning that the problem at hand is one of regression.</font>"
   ]
  },
  {
   "cell_type": "code",
   "execution_count": 7,
   "id": "491f5a42",
   "metadata": {
    "scrolled": true
   },
   "outputs": [
    {
     "data": {
      "text/html": [
       "<div>\n",
       "<style scoped>\n",
       "    .dataframe tbody tr th:only-of-type {\n",
       "        vertical-align: middle;\n",
       "    }\n",
       "\n",
       "    .dataframe tbody tr th {\n",
       "        vertical-align: top;\n",
       "    }\n",
       "\n",
       "    .dataframe thead th {\n",
       "        text-align: right;\n",
       "    }\n",
       "</style>\n",
       "<table border=\"1\" class=\"dataframe\">\n",
       "  <thead>\n",
       "    <tr style=\"text-align: right;\">\n",
       "      <th></th>\n",
       "      <th>count</th>\n",
       "      <th>mean</th>\n",
       "      <th>std</th>\n",
       "      <th>min</th>\n",
       "      <th>25%</th>\n",
       "      <th>50%</th>\n",
       "      <th>75%</th>\n",
       "      <th>max</th>\n",
       "    </tr>\n",
       "  </thead>\n",
       "  <tbody>\n",
       "    <tr>\n",
       "      <th>year</th>\n",
       "      <td>25723.0</td>\n",
       "      <td>2000.471446</td>\n",
       "      <td>6.455219</td>\n",
       "      <td>1990.00</td>\n",
       "      <td>1995.0</td>\n",
       "      <td>2000.0</td>\n",
       "      <td>2006.00</td>\n",
       "      <td>2011.00</td>\n",
       "    </tr>\n",
       "    <tr>\n",
       "      <th>average_rain_fall_mm_per_year</th>\n",
       "      <td>25723.0</td>\n",
       "      <td>1148.768145</td>\n",
       "      <td>709.957717</td>\n",
       "      <td>51.00</td>\n",
       "      <td>593.0</td>\n",
       "      <td>1083.0</td>\n",
       "      <td>1668.00</td>\n",
       "      <td>3240.00</td>\n",
       "    </tr>\n",
       "    <tr>\n",
       "      <th>pesticides_tonnes</th>\n",
       "      <td>25723.0</td>\n",
       "      <td>35558.519387</td>\n",
       "      <td>55396.265253</td>\n",
       "      <td>0.04</td>\n",
       "      <td>1753.2</td>\n",
       "      <td>17182.0</td>\n",
       "      <td>46195.00</td>\n",
       "      <td>345026.00</td>\n",
       "    </tr>\n",
       "    <tr>\n",
       "      <th>avg_temp</th>\n",
       "      <td>25723.0</td>\n",
       "      <td>20.516346</td>\n",
       "      <td>6.309580</td>\n",
       "      <td>1.30</td>\n",
       "      <td>16.7</td>\n",
       "      <td>21.5</td>\n",
       "      <td>25.97</td>\n",
       "      <td>30.32</td>\n",
       "    </tr>\n",
       "    <tr>\n",
       "      <th>YIELD</th>\n",
       "      <td>25723.0</td>\n",
       "      <td>75838.054348</td>\n",
       "      <td>83683.317016</td>\n",
       "      <td>50.00</td>\n",
       "      <td>19584.0</td>\n",
       "      <td>37418.0</td>\n",
       "      <td>104001.00</td>\n",
       "      <td>501412.00</td>\n",
       "    </tr>\n",
       "  </tbody>\n",
       "</table>\n",
       "</div>"
      ],
      "text/plain": [
       "                                 count          mean           std      min  \\\n",
       "year                           25723.0   2000.471446      6.455219  1990.00   \n",
       "average_rain_fall_mm_per_year  25723.0   1148.768145    709.957717    51.00   \n",
       "pesticides_tonnes              25723.0  35558.519387  55396.265253     0.04   \n",
       "avg_temp                       25723.0     20.516346      6.309580     1.30   \n",
       "YIELD                          25723.0  75838.054348  83683.317016    50.00   \n",
       "\n",
       "                                   25%      50%        75%        max  \n",
       "year                            1995.0   2000.0    2006.00    2011.00  \n",
       "average_rain_fall_mm_per_year    593.0   1083.0    1668.00    3240.00  \n",
       "pesticides_tonnes               1753.2  17182.0   46195.00  345026.00  \n",
       "avg_temp                          16.7     21.5      25.97      30.32  \n",
       "YIELD                          19584.0  37418.0  104001.00  501412.00  "
      ]
     },
     "execution_count": 7,
     "metadata": {},
     "output_type": "execute_result"
    }
   ],
   "source": [
    "train_df.describe().transpose()"
   ]
  },
  {
   "cell_type": "markdown",
   "id": "538cd9e5",
   "metadata": {},
   "source": [
    "<font size=3>The above table displays a summary of the continuous data. We can see that the first year present in the data is 1990 and the data ends in 2011. There's also incredibly high variance amongst the scales of the variables which will have to be addressed with scaling in the preprocessing phase.</font>"
   ]
  },
  {
   "cell_type": "code",
   "execution_count": 21,
   "id": "8fa87431",
   "metadata": {
    "scrolled": true
   },
   "outputs": [
    {
     "data": {
      "text/plain": [
       "country                          0\n",
       "crop_item                        0\n",
       "year                             0\n",
       "average_rain_fall_mm_per_year    0\n",
       "pesticides_tonnes                0\n",
       "avg_temp                         0\n",
       "YIELD                            0\n",
       "dtype: int64"
      ]
     },
     "execution_count": 21,
     "metadata": {},
     "output_type": "execute_result"
    }
   ],
   "source": [
    "train_df.isnull().sum()"
   ]
  },
  {
   "cell_type": "markdown",
   "id": "0e71dea0",
   "metadata": {},
   "source": [
    "<font size=3>None of the columns contain null values, so there's no need to perform any cleaning.</font>"
   ]
  },
  {
   "cell_type": "code",
   "execution_count": 37,
   "id": "2c186cb2",
   "metadata": {},
   "outputs": [
    {
     "name": "stdout",
     "output_type": "stream",
     "text": [
      "Cassava\n",
      "Maize\n",
      "Plantains and others\n",
      "Potatoes\n",
      "Rice, paddy\n",
      "Sorghum\n",
      "Soybeans\n",
      "Sweet potatoes\n",
      "Wheat\n",
      "Yams\n"
     ]
    }
   ],
   "source": [
    "npArray = np.array(train_df[\"crop_item\"])\n",
    "for crop in np.unique(npArray):\n",
    "    print(crop)"
   ]
  },
  {
   "cell_type": "code",
   "execution_count": 141,
   "id": "c174460f",
   "metadata": {},
   "outputs": [
    {
     "data": {
      "text/plain": [
       "crop_item\n",
       "Potatoes                3894\n",
       "Maize                   3753\n",
       "Wheat                   3515\n",
       "Rice, paddy             3088\n",
       "Soybeans                2936\n",
       "Sorghum                 2761\n",
       "Sweet potatoes          2634\n",
       "Cassava                 1867\n",
       "Yams                     769\n",
       "Plantains and others     506\n",
       "Name: crop_item, dtype: int64"
      ]
     },
     "execution_count": 141,
     "metadata": {},
     "output_type": "execute_result"
    }
   ],
   "source": [
    "train_df.groupby(\"crop_item\")[\"crop_item\"].count().sort_values(ascending=False)"
   ]
  },
  {
   "cell_type": "markdown",
   "id": "9e277dd2",
   "metadata": {},
   "source": [
    "<font size=3>Just as was the case with the countries, the different crops also have vastly different representations, which may result in further bias towards those crops that were represented better in the dataset. </font>"
   ]
  },
  {
   "cell_type": "markdown",
   "id": "7205c4ed",
   "metadata": {},
   "source": [
    "## Visualising the Variables"
   ]
  },
  {
   "cell_type": "markdown",
   "id": "a3765f4e",
   "metadata": {},
   "source": [
    "<font size=3>In this next part, I explore each individual variable by visualising their frequencies, in the case of nominal data, or their distributions, in the case of continuous data.</font>"
   ]
  },
  {
   "cell_type": "code",
   "execution_count": 280,
   "id": "a06677d2",
   "metadata": {},
   "outputs": [],
   "source": [
    "import matplotlib.pyplot as plt\n",
    "import seaborn as sns\n",
    "%matplotlib inline"
   ]
  },
  {
   "cell_type": "code",
   "execution_count": 72,
   "id": "f73a048f",
   "metadata": {},
   "outputs": [],
   "source": [
    "plt.rcParams.update({'font.family': 'Arial'})"
   ]
  },
  {
   "cell_type": "code",
   "execution_count": 245,
   "id": "1a0a8b4b",
   "metadata": {
    "scrolled": false
   },
   "outputs": [
    {
     "name": "stderr",
     "output_type": "stream",
     "text": [
      "<ipython-input-245-909701a35774>:8: MatplotlibDeprecationWarning: Support for passing numbers through unit converters is deprecated since 3.5 and support will be removed two minor releases later; use Axis.convert_units instead.\n",
      "  ax.set_xticks([]);\n"
     ]
    },
    {
     "data": {
      "image/png": "[encoded data removed]",
      "text/plain": [
       "<Figure size 1800x720 with 1 Axes>"
      ]
     },
     "metadata": {
      "needs_background": "light"
     },
     "output_type": "display_data"
    }
   ],
   "source": [
    "fig, ax = plt.subplots(figsize=(25, 10))\n",
    "country_data = train_df.groupby(\"country\")[\"country\"].count().sort_values(ascending=False)\n",
    "ax.set_title(\"Bar Chart Showing Frequency of Appearance of Country in the Dataset\", pad=30, fontsize=40)\n",
    "ax.bar(country_data.index, country_data.values, color=\"b\")\n",
    "ax.set_xlabel(xlabel=\"Countries\", labelpad=20, fontsize=30)\n",
    "ax.set_ylabel(ylabel=\"Count\", labelpad=20, fontsize=30)\n",
    "ax.tick_params(axis=\"y\", labelsize=15)\n",
    "ax.set_xticks([]);"
   ]
  },
  {
   "cell_type": "markdown",
   "id": "dcbd7394",
   "metadata": {},
   "source": [
    "<font size=3>The above visual demonstrates the imbalance in representation of countries in the dataset.</font>"
   ]
  },
  {
   "cell_type": "code",
   "execution_count": 68,
   "id": "a9988652",
   "metadata": {},
   "outputs": [],
   "source": [
    "most_represented_countries = list(train_df.groupby(\"country\")[\"YIELD\"].sum().nlargest(5).keys())\n",
    "list_true_false = [country in most_represented_countries for country in train_df[\"country\"]]\n",
    "train_df2 = train_df[list_true_false]"
   ]
  },
  {
   "cell_type": "markdown",
   "id": "3d014457",
   "metadata": {},
   "source": [
    "<font size=3>Above, I create a new data frame based off of the original data frame, but that only contains the data for the 5 most represented countries, to make some visualisations easier to analyse.</font>"
   ]
  },
  {
   "cell_type": "code",
   "execution_count": 113,
   "id": "de21b4cb",
   "metadata": {
    "scrolled": true
   },
   "outputs": [
    {
     "data": {
      "image/png": "[encoded data removed]",
      "text/plain": [
       "<Figure size 432x288 with 1 Axes>"
      ]
     },
     "metadata": {
      "needs_background": "light"
     },
     "output_type": "display_data"
    }
   ],
   "source": [
    "sns.countplot(x=\"country\", data=train_df2, hue=\"crop_item\");"
   ]
  },
  {
   "cell_type": "markdown",
   "id": "b3aff2f5",
   "metadata": {},
   "source": [
    "<font size=3>It seems the representation of each crop for each country is, for the most part, equal though there are some cases where there's no data for particular crops, as can be seen with Japan in the above visual, or there's an imbalance. I checked the value counts of crops for each country and found this to be true majority of the time. This will make training a little bit easier, as no one crop will sway the results for each country. Though globally there is an imbalance in the representation of crops, demonstrated below, which may need to be addressed.</font>"
   ]
  },
  {
   "cell_type": "code",
   "execution_count": 110,
   "id": "d9daa079",
   "metadata": {
    "scrolled": false
   },
   "outputs": [
    {
     "data": {
      "image/png": "[encoded data removed]",
      "text/plain": [
       "<Figure size 432x288 with 1 Axes>"
      ]
     },
     "metadata": {},
     "output_type": "display_data"
    }
   ],
   "source": [
    "frequency_table = train_df[\"crop_item\"].value_counts()\n",
    "data = {\"crop_item\": frequency_table.index, \"count\": frequency_table}\n",
    "new_df = pd.DataFrame(data)\n",
    "new_df.reset_index(drop=True, inplace=True)\n",
    "\n",
    "plt.bar(new_df[\"crop_item\"], new_df[\"count\"], color=\"b\")\n",
    "plt.title(\"Frequency Plot for Crops\", fontsize=20, pad=15)\n",
    "plt.xlabel(\"Crop\", fontsize=17)\n",
    "plt.ylabel(\"Count\", fontsize=17, labelpad=15)\n",
    "plt.xticks(rotation=90, fontsize=14)\n",
    "plt.show()"
   ]
  },
  {
   "cell_type": "code",
   "execution_count": 221,
   "id": "27c798ff",
   "metadata": {},
   "outputs": [],
   "source": [
    "def scatter_plot(x, y, ax):\n",
    "    \"\"\"Produces a custom labeled scatter plot using matplotlib\"\"\"\n",
    "    ax.scatter(x, y, alpha=0.1)\n",
    "    return ax\n",
    "\n",
    "def histogram(x, ax, nbins):\n",
    "    \"\"\"Produces a custom labeled histogram using matplotlib\"\"\"\n",
    "    ax.hist(x, bins=nbins)\n",
    "    return ax\n",
    "\n",
    "def violinplot(x, ax):\n",
    "    \"\"\"Produces a horizontal box and whisker diagram using matplotlib\"\"\"\n",
    "    # setting vert to False produces a horizontal box and whisker diagram\n",
    "    ax.violinplot(x, vert=False, showmedians=True)\n",
    "    return ax"
   ]
  },
  {
   "cell_type": "code",
   "execution_count": 244,
   "id": "ba528b61",
   "metadata": {
    "scrolled": false
   },
   "outputs": [
    {
     "data": {
      "image/png": "[encoded data removed]",
      "text/plain": [
       "<Figure size 1080x504 with 4 Axes>"
      ]
     },
     "metadata": {
      "needs_background": "light"
     },
     "output_type": "display_data"
    }
   ],
   "source": [
    "fig, ax = plt.subplots(nrows=1, ncols=4, constrained_layout=True, figsize=(15, 7))\n",
    "fig.suptitle(\"Distributions of the Numerical Features\", fontsize=30)\n",
    "\n",
    "for axes in ax.flatten():\n",
    "    axes.tick_params(axis=\"x\", labelsize=10)\n",
    "    axes.tick_params(axis=\"y\", labelsize=10)\n",
    "\n",
    "nbins = 20\n",
    "\n",
    "ax[0].set_xlabel(\"Year\", labelpad=10, fontsize=15)\n",
    "ax[0].set_ylabel(\"Count\", labelpad=10, fontsize=15)\n",
    "histogram(train_df[\"year\"], ax[0], nbins=nbins)\n",
    "\n",
    "ax[1].set_xlabel(\"Average Rainfall\", labelpad=10, fontsize=15)\n",
    "histogram(train_df[\"average_rain_fall_mm_per_year\"], ax[1], nbins=nbins)\n",
    "\n",
    "ax[2].set_xlabel(\"Pesticides Tonnes\", labelpad=10, fontsize=15)\n",
    "histogram(train_df[\"pesticides_tonnes\"], ax[2], nbins=nbins)\n",
    "\n",
    "ax[3].set_xlabel(\"Average Temperature\", labelpad=10, fontsize=15)\n",
    "histogram(train_df[\"avg_temp\"], ax[3], nbins=nbins);"
   ]
  },
  {
   "cell_type": "markdown",
   "id": "01688080",
   "metadata": {},
   "source": [
    "<font size=3>Now, let's look at the target value and try to find some correlations with the input data.</font>"
   ]
  },
  {
   "cell_type": "code",
   "execution_count": 579,
   "id": "82cfd399",
   "metadata": {
    "scrolled": false
   },
   "outputs": [
    {
     "data": {
      "image/png": "[encoded data removed]",
      "text/plain": [
       "<Figure size 360x360 with 1 Axes>"
      ]
     },
     "metadata": {
      "needs_background": "light"
     },
     "output_type": "display_data"
    }
   ],
   "source": [
    "sns.displot(train_df[\"YIELD\"]);"
   ]
  },
  {
   "cell_type": "code",
   "execution_count": 247,
   "id": "bada10e2",
   "metadata": {},
   "outputs": [
    {
     "data": {
      "text/plain": [
       "count     25723.000000\n",
       "mean      75838.054348\n",
       "std       83683.317016\n",
       "min          50.000000\n",
       "25%       19584.000000\n",
       "50%       37418.000000\n",
       "75%      104001.000000\n",
       "max      501412.000000\n",
       "Name: YIELD, dtype: float64"
      ]
     },
     "execution_count": 247,
     "metadata": {},
     "output_type": "execute_result"
    }
   ],
   "source": [
    "train_df[\"YIELD\"].describe()"
   ]
  },
  {
   "cell_type": "markdown",
   "id": "90a4537f",
   "metadata": {},
   "source": [
    "<font size=3>A neat way to visualize correlations is by using heatmaps. I'll create one with the continuous input features to try and see if there's any linear relationship between them and the crop yield.</font>"
   ]
  },
  {
   "cell_type": "code",
   "execution_count": 277,
   "id": "b89e1b21",
   "metadata": {},
   "outputs": [
    {
     "data": {
      "text/plain": [
       "<AxesSubplot:>"
      ]
     },
     "execution_count": 277,
     "metadata": {},
     "output_type": "execute_result"
    },
    {
     "data": {
      "image/png": "[encoded data removed]",
      "text/plain": [
       "<Figure size 792x648 with 2 Axes>"
      ]
     },
     "metadata": {
      "needs_background": "light"
     },
     "output_type": "display_data"
    }
   ],
   "source": [
    "correlation_data = train_df.select_dtypes(include=[np.number]).corr()\n",
    "mask = np.zeros_like(correlation_data, dtype=bool)\n",
    "mask[np.triu_indices_from(mask)] = True\n",
    "\n",
    "f, ax = plt.subplots(figsize=(11, 9))\n",
    "\n",
    "cmap = sns.color_palette(\"vlag\")\n",
    "\n",
    "sns.heatmap(data=correlation_data, cmap=cmap, mask=mask, vmax=.3, center=0, square=True, linewidths=.5, cbar_kws={\"shrink\":.5})"
   ]
  },
  {
   "cell_type": "markdown",
   "id": "8c2a2a12",
   "metadata": {},
   "source": [
    "<font size=3>There's no meaningful correlation amongst the variables.<br>\n",
    "<br>\n",
    "There isn't much more that needs to be explored within the data, so I'll move on to comparing models.</font>"
   ]
  },
  {
   "cell_type": "markdown",
   "id": "16526bf1",
   "metadata": {},
   "source": [
    "# Data Preprocessing"
   ]
  },
  {
   "cell_type": "markdown",
   "id": "76aed3c1",
   "metadata": {},
   "source": [
    "<h3>Training Data</h3>"
   ]
  },
  {
   "cell_type": "code",
   "execution_count": 438,
   "id": "d44c4554",
   "metadata": {},
   "outputs": [],
   "source": [
    "from sklearn.preprocessing import MinMaxScaler\n",
    "import tensorflow as tf\n",
    "from tensorflow import keras\n",
    "from keras import layers"
   ]
  },
  {
   "cell_type": "code",
   "execution_count": 439,
   "id": "986e8bcf",
   "metadata": {},
   "outputs": [
    {
     "data": {
      "text/html": [
       "<div>\n",
       "<style scoped>\n",
       "    .dataframe tbody tr th:only-of-type {\n",
       "        vertical-align: middle;\n",
       "    }\n",
       "\n",
       "    .dataframe tbody tr th {\n",
       "        vertical-align: top;\n",
       "    }\n",
       "\n",
       "    .dataframe thead th {\n",
       "        text-align: right;\n",
       "    }\n",
       "</style>\n",
       "<table border=\"1\" class=\"dataframe\">\n",
       "  <thead>\n",
       "    <tr style=\"text-align: right;\">\n",
       "      <th></th>\n",
       "      <th>year</th>\n",
       "      <th>average_rain_fall_mm_per_year</th>\n",
       "      <th>pesticides_tonnes</th>\n",
       "      <th>avg_temp</th>\n",
       "      <th>Country_Albania</th>\n",
       "      <th>Country_Algeria</th>\n",
       "      <th>Country_Angola</th>\n",
       "      <th>Country_Argentina</th>\n",
       "      <th>Country_Armenia</th>\n",
       "      <th>Country_Australia</th>\n",
       "      <th>...</th>\n",
       "      <th>Crop_Item_Cassava</th>\n",
       "      <th>Crop_Item_Maize</th>\n",
       "      <th>Crop_Item_Plantains and others</th>\n",
       "      <th>Crop_Item_Potatoes</th>\n",
       "      <th>Crop_Item_Rice, paddy</th>\n",
       "      <th>Crop_Item_Sorghum</th>\n",
       "      <th>Crop_Item_Soybeans</th>\n",
       "      <th>Crop_Item_Sweet potatoes</th>\n",
       "      <th>Crop_Item_Wheat</th>\n",
       "      <th>Crop_Item_Yams</th>\n",
       "    </tr>\n",
       "  </thead>\n",
       "  <tbody>\n",
       "    <tr>\n",
       "      <th>0</th>\n",
       "      <td>2005</td>\n",
       "      <td>1083.0</td>\n",
       "      <td>35342.00</td>\n",
       "      <td>25.82</td>\n",
       "      <td>0</td>\n",
       "      <td>0</td>\n",
       "      <td>0</td>\n",
       "      <td>0</td>\n",
       "      <td>0</td>\n",
       "      <td>0</td>\n",
       "      <td>...</td>\n",
       "      <td>0</td>\n",
       "      <td>0</td>\n",
       "      <td>0</td>\n",
       "      <td>0</td>\n",
       "      <td>1</td>\n",
       "      <td>0</td>\n",
       "      <td>0</td>\n",
       "      <td>0</td>\n",
       "      <td>0</td>\n",
       "      <td>0</td>\n",
       "    </tr>\n",
       "    <tr>\n",
       "      <th>1</th>\n",
       "      <td>2009</td>\n",
       "      <td>758.0</td>\n",
       "      <td>61690.08</td>\n",
       "      <td>17.03</td>\n",
       "      <td>0</td>\n",
       "      <td>0</td>\n",
       "      <td>0</td>\n",
       "      <td>0</td>\n",
       "      <td>0</td>\n",
       "      <td>0</td>\n",
       "      <td>...</td>\n",
       "      <td>0</td>\n",
       "      <td>0</td>\n",
       "      <td>0</td>\n",
       "      <td>0</td>\n",
       "      <td>0</td>\n",
       "      <td>0</td>\n",
       "      <td>0</td>\n",
       "      <td>0</td>\n",
       "      <td>1</td>\n",
       "      <td>0</td>\n",
       "    </tr>\n",
       "    <tr>\n",
       "      <th>2</th>\n",
       "      <td>2004</td>\n",
       "      <td>652.0</td>\n",
       "      <td>11594.00</td>\n",
       "      <td>18.07</td>\n",
       "      <td>0</td>\n",
       "      <td>0</td>\n",
       "      <td>0</td>\n",
       "      <td>0</td>\n",
       "      <td>0</td>\n",
       "      <td>0</td>\n",
       "      <td>...</td>\n",
       "      <td>0</td>\n",
       "      <td>0</td>\n",
       "      <td>0</td>\n",
       "      <td>0</td>\n",
       "      <td>1</td>\n",
       "      <td>0</td>\n",
       "      <td>0</td>\n",
       "      <td>0</td>\n",
       "      <td>0</td>\n",
       "      <td>0</td>\n",
       "    </tr>\n",
       "    <tr>\n",
       "      <th>3</th>\n",
       "      <td>2009</td>\n",
       "      <td>537.0</td>\n",
       "      <td>54529.40</td>\n",
       "      <td>7.12</td>\n",
       "      <td>0</td>\n",
       "      <td>0</td>\n",
       "      <td>0</td>\n",
       "      <td>0</td>\n",
       "      <td>0</td>\n",
       "      <td>0</td>\n",
       "      <td>...</td>\n",
       "      <td>0</td>\n",
       "      <td>0</td>\n",
       "      <td>0</td>\n",
       "      <td>0</td>\n",
       "      <td>0</td>\n",
       "      <td>0</td>\n",
       "      <td>1</td>\n",
       "      <td>0</td>\n",
       "      <td>0</td>\n",
       "      <td>0</td>\n",
       "    </tr>\n",
       "    <tr>\n",
       "      <th>4</th>\n",
       "      <td>2001</td>\n",
       "      <td>1083.0</td>\n",
       "      <td>43720.04</td>\n",
       "      <td>26.90</td>\n",
       "      <td>0</td>\n",
       "      <td>0</td>\n",
       "      <td>0</td>\n",
       "      <td>0</td>\n",
       "      <td>0</td>\n",
       "      <td>0</td>\n",
       "      <td>...</td>\n",
       "      <td>0</td>\n",
       "      <td>0</td>\n",
       "      <td>0</td>\n",
       "      <td>0</td>\n",
       "      <td>0</td>\n",
       "      <td>0</td>\n",
       "      <td>0</td>\n",
       "      <td>1</td>\n",
       "      <td>0</td>\n",
       "      <td>0</td>\n",
       "    </tr>\n",
       "  </tbody>\n",
       "</table>\n",
       "<p>5 rows × 114 columns</p>\n",
       "</div>"
      ],
      "text/plain": [
       "   year  average_rain_fall_mm_per_year  pesticides_tonnes  avg_temp  \\\n",
       "0  2005                         1083.0           35342.00     25.82   \n",
       "1  2009                          758.0           61690.08     17.03   \n",
       "2  2004                          652.0           11594.00     18.07   \n",
       "3  2009                          537.0           54529.40      7.12   \n",
       "4  2001                         1083.0           43720.04     26.90   \n",
       "\n",
       "   Country_Albania  Country_Algeria  Country_Angola  Country_Argentina  \\\n",
       "0                0                0               0                  0   \n",
       "1                0                0               0                  0   \n",
       "2                0                0               0                  0   \n",
       "3                0                0               0                  0   \n",
       "4                0                0               0                  0   \n",
       "\n",
       "   Country_Armenia  Country_Australia  ...  Crop_Item_Cassava  \\\n",
       "0                0                  0  ...                  0   \n",
       "1                0                  0  ...                  0   \n",
       "2                0                  0  ...                  0   \n",
       "3                0                  0  ...                  0   \n",
       "4                0                  0  ...                  0   \n",
       "\n",
       "   Crop_Item_Maize  Crop_Item_Plantains and others  Crop_Item_Potatoes  \\\n",
       "0                0                               0                   0   \n",
       "1                0                               0                   0   \n",
       "2                0                               0                   0   \n",
       "3                0                               0                   0   \n",
       "4                0                               0                   0   \n",
       "\n",
       "   Crop_Item_Rice, paddy  Crop_Item_Sorghum  Crop_Item_Soybeans  \\\n",
       "0                      1                  0                   0   \n",
       "1                      0                  0                   0   \n",
       "2                      1                  0                   0   \n",
       "3                      0                  0                   1   \n",
       "4                      0                  0                   0   \n",
       "\n",
       "   Crop_Item_Sweet potatoes  Crop_Item_Wheat  Crop_Item_Yams  \n",
       "0                         0                0               0  \n",
       "1                         0                1               0  \n",
       "2                         0                0               0  \n",
       "3                         0                0               0  \n",
       "4                         1                0               0  \n",
       "\n",
       "[5 rows x 114 columns]"
      ]
     },
     "execution_count": 439,
     "metadata": {},
     "output_type": "execute_result"
    }
   ],
   "source": [
    "train_df_onehot = pd.get_dummies(train_df, columns=[\"country\", \"crop_item\"], prefix=[\"Country\", \"Crop_Item\"])\n",
    "train_target = train_df_onehot.pop(\"YIELD\")\n",
    "train_features = train_df_onehot\n",
    "\n",
    "train_features.head()"
   ]
  },
  {
   "cell_type": "markdown",
   "id": "0070b315",
   "metadata": {},
   "source": [
    "<font size=3>Some machine learning algorithms can't deal with categorical data, so they must be encoded into numbers in order to be fed as input into the algorithm. I use one-hot encoding as opposed to something like integer encoding (where the categorical data is encoded into integers in ascending order), because the former doesn't assume some order in the categorical data. Country and crop item are not ordinal data, and, therefore, should not be encoded into numbers that assume an order, hence why one-hot encoding is used.</font>"
   ]
  },
  {
   "cell_type": "code",
   "execution_count": 440,
   "id": "03da1c73",
   "metadata": {},
   "outputs": [],
   "source": [
    "# general scaler that doesn't need to be reaccessed after scaling.\n",
    "scaler = MinMaxScaler()\n",
    "\n",
    "# This normalizer will be used at the beginning of the keras.Sequential() model, which removes the inconvenience\n",
    "# of having to scale the data before passing it into the model.\n",
    "normalizer = layers.Normalization(axis=-1)\n",
    "normalizer.adapt(np.array(train_features))\n",
    "\n",
    "scaled_train_features = scaler.fit_transform(train_features)"
   ]
  },
  {
   "cell_type": "markdown",
   "id": "cd3bec81",
   "metadata": {},
   "source": [
    "<font size=3>The scaling I use is simple min-max scaling. The formula is as follows:</font><br>\n",
    "<div align=\"center\"><font size=4>$x_{scaled}=\\frac{x-x_{min}}{x_{max}-x_{min}}$</font></div>\n",
    "<font size=3>\n",
    "This translates all the data into the range [0, 1] which is important for some algorithms, because some of them show bias towards data with greater magnitudes. And this is especially important in this dataset's case, as there's great variance in the scales of the features, as was demonstrated earlier.\n",
    "</font>"
   ]
  },
  {
   "cell_type": "code",
   "execution_count": 262,
   "id": "1e8350e0",
   "metadata": {},
   "outputs": [
    {
     "data": {
      "text/plain": [
       "array([[0.04761905, 0.1392286 , 0.04806004, ..., 0.        , 1.        ,\n",
       "        0.        ],\n",
       "       [0.19047619, 0.32361242, 0.17783288, ..., 1.        , 0.        ,\n",
       "        0.        ],\n",
       "       [0.04761905, 0.32361242, 0.20906531, ..., 1.        , 0.        ,\n",
       "        0.        ],\n",
       "       ...,\n",
       "       [0.0952381 , 0.13891502, 0.01599288, ..., 1.        , 0.        ,\n",
       "        0.        ],\n",
       "       [1.        , 0.69896519, 0.01429461, ..., 0.        , 0.        ,\n",
       "        0.        ],\n",
       "       [0.33333333, 0.62715585, 0.00263653, ..., 0.        , 0.        ,\n",
       "        0.        ]])"
      ]
     },
     "execution_count": 262,
     "metadata": {},
     "output_type": "execute_result"
    }
   ],
   "source": [
    "scaled_train_features"
   ]
  },
  {
   "cell_type": "markdown",
   "id": "fb0fb725",
   "metadata": {},
   "source": [
    "<font size=3>We can see that the data, now represented as a numpy ndarray, is all within the range [0, 1]</font>"
   ]
  },
  {
   "cell_type": "markdown",
   "id": "7562809b",
   "metadata": {},
   "source": [
    "<h3>Testing Data</h3>"
   ]
  },
  {
   "cell_type": "code",
   "execution_count": 263,
   "id": "927bf2de",
   "metadata": {
    "scrolled": true
   },
   "outputs": [
    {
     "data": {
      "text/html": [
       "<div>\n",
       "<style scoped>\n",
       "    .dataframe tbody tr th:only-of-type {\n",
       "        vertical-align: middle;\n",
       "    }\n",
       "\n",
       "    .dataframe tbody tr th {\n",
       "        vertical-align: top;\n",
       "    }\n",
       "\n",
       "    .dataframe thead th {\n",
       "        text-align: right;\n",
       "    }\n",
       "</style>\n",
       "<table border=\"1\" class=\"dataframe\">\n",
       "  <thead>\n",
       "    <tr style=\"text-align: right;\">\n",
       "      <th></th>\n",
       "      <th>country</th>\n",
       "      <th>crop_item</th>\n",
       "      <th>year</th>\n",
       "      <th>average_rain_fall_mm_per_year</th>\n",
       "      <th>pesticides_tonnes</th>\n",
       "      <th>avg_temp</th>\n",
       "      <th>predicted_YIELD</th>\n",
       "    </tr>\n",
       "  </thead>\n",
       "  <tbody>\n",
       "    <tr>\n",
       "      <th>0</th>\n",
       "      <td>Albania</td>\n",
       "      <td>Maize</td>\n",
       "      <td>2012</td>\n",
       "      <td>1485.0</td>\n",
       "      <td>766.25</td>\n",
       "      <td>16.70</td>\n",
       "      <td>NaN</td>\n",
       "    </tr>\n",
       "    <tr>\n",
       "      <th>1</th>\n",
       "      <td>Albania</td>\n",
       "      <td>Potatoes</td>\n",
       "      <td>2012</td>\n",
       "      <td>1485.0</td>\n",
       "      <td>766.25</td>\n",
       "      <td>16.70</td>\n",
       "      <td>NaN</td>\n",
       "    </tr>\n",
       "    <tr>\n",
       "      <th>2</th>\n",
       "      <td>Albania</td>\n",
       "      <td>Soybeans</td>\n",
       "      <td>2012</td>\n",
       "      <td>1485.0</td>\n",
       "      <td>766.25</td>\n",
       "      <td>16.70</td>\n",
       "      <td>NaN</td>\n",
       "    </tr>\n",
       "    <tr>\n",
       "      <th>3</th>\n",
       "      <td>Albania</td>\n",
       "      <td>Wheat</td>\n",
       "      <td>2012</td>\n",
       "      <td>1485.0</td>\n",
       "      <td>766.25</td>\n",
       "      <td>16.70</td>\n",
       "      <td>NaN</td>\n",
       "    </tr>\n",
       "    <tr>\n",
       "      <th>4</th>\n",
       "      <td>Albania</td>\n",
       "      <td>Maize</td>\n",
       "      <td>2013</td>\n",
       "      <td>1485.0</td>\n",
       "      <td>982.32</td>\n",
       "      <td>17.41</td>\n",
       "      <td>NaN</td>\n",
       "    </tr>\n",
       "  </tbody>\n",
       "</table>\n",
       "</div>"
      ],
      "text/plain": [
       "   country crop_item  year  average_rain_fall_mm_per_year  pesticides_tonnes  \\\n",
       "0  Albania     Maize  2012                         1485.0             766.25   \n",
       "1  Albania  Potatoes  2012                         1485.0             766.25   \n",
       "2  Albania  Soybeans  2012                         1485.0             766.25   \n",
       "3  Albania     Wheat  2012                         1485.0             766.25   \n",
       "4  Albania     Maize  2013                         1485.0             982.32   \n",
       "\n",
       "   avg_temp  predicted_YIELD  \n",
       "0     16.70              NaN  \n",
       "1     16.70              NaN  \n",
       "2     16.70              NaN  \n",
       "3     16.70              NaN  \n",
       "4     17.41              NaN  "
      ]
     },
     "execution_count": 263,
     "metadata": {},
     "output_type": "execute_result"
    }
   ],
   "source": [
    "test_df.head()"
   ]
  },
  {
   "cell_type": "markdown",
   "id": "934dbd07",
   "metadata": {},
   "source": [
    "<font size=3>Just as I did with the training data set, I'll one-hot encode the categorical data in the test dataset.</font>"
   ]
  },
  {
   "cell_type": "code",
   "execution_count": 441,
   "id": "2226344c",
   "metadata": {},
   "outputs": [],
   "source": [
    "test_df_onehot = pd.get_dummies(test_df, columns=[\"country\", \"crop_item\"], prefix=[\"Country\", \"Crop_Item\"])\n",
    "test_features = test_df_onehot.loc[:, test_df_onehot.columns != \"predicted_YIELD\"]"
   ]
  },
  {
   "cell_type": "code",
   "execution_count": 178,
   "id": "98af3cf8",
   "metadata": {},
   "outputs": [
    {
     "name": "stdout",
     "output_type": "stream",
     "text": [
      "Number of features in the training data set: 114\n",
      "Number of features in the testing data set: 115\n"
     ]
    }
   ],
   "source": [
    "print(\"Number of features in the training data set:\", train_features.shape[1])\n",
    "print(\"Number of features in the testing data set:\", test_features.shape[1])"
   ]
  },
  {
   "cell_type": "markdown",
   "id": "52757a32",
   "metadata": {},
   "source": [
    "<font size=3>What I notice with this dataframe is that it contains one more feature than the training dataset. I suspect that it has to do with there being one more category in either the countries or crop items, which, after being one-hot encoded, would've resulted in one more column being made to account for the extra category. I'll check both these features to verify this.</font>"
   ]
  },
  {
   "cell_type": "code",
   "execution_count": 179,
   "id": "787ca0d4",
   "metadata": {},
   "outputs": [
    {
     "name": "stdout",
     "output_type": "stream",
     "text": [
      "Number of unique crop items in the training data set: 10\n",
      "Number of unique crop items in the testing data set: 10\n",
      "\n",
      "Number of unique countries in the training data set: 100\n",
      "Number of unique countries in the testing data set: 101\n"
     ]
    }
   ],
   "source": [
    "num_crop_items_train = len(train_df[\"crop_item\"].unique())\n",
    "num_countries_train = len(train_df[\"country\"].unique())\n",
    "num_crop_items_test = len(test_df[\"crop_item\"].unique())\n",
    "num_countries_test = len(test_df[\"country\"].unique())\n",
    "                          \n",
    "print(\"Number of unique crop items in the training data set:\", num_crop_items_train)\n",
    "print(\"Number of unique crop items in the testing data set:\", num_crop_items_test)\n",
    "print()\n",
    "print(\"Number of unique countries in the training data set:\", num_countries_train)\n",
    "print(\"Number of unique countries in the testing data set:\", num_countries_test)"
   ]
  },
  {
   "cell_type": "markdown",
   "id": "ece92778",
   "metadata": {},
   "source": [
    "<font size=3>My suspicions were correct: there is one more country in the testing data set. I'll find the country by checking the difference between the unique countries of the training and testing data sets.</font>"
   ]
  },
  {
   "cell_type": "code",
   "execution_count": 61,
   "id": "1b375b2a",
   "metadata": {},
   "outputs": [
    {
     "data": {
      "text/plain": [
       "{'Sudan'}"
      ]
     },
     "execution_count": 61,
     "metadata": {},
     "output_type": "execute_result"
    }
   ],
   "source": [
    "# Python's set data container can be used to store unique data. It provides the useful\n",
    "# method of being able to find the difference between two sets using the difference() method.\n",
    "ls_countries_train = set(train_df[\"country\"].unique())\n",
    "ls_countries_test = set(test_df[\"country\"].unique())\n",
    "ls_countries_test.difference(ls_countries_train)"
   ]
  },
  {
   "cell_type": "markdown",
   "id": "33333e74",
   "metadata": {},
   "source": [
    "<font size=3>It appears that Sudan is the one country that the testing data set has that the training data set does not.</font>"
   ]
  },
  {
   "cell_type": "markdown",
   "id": "7df8bfbc",
   "metadata": {},
   "source": [
    "<font size=3>This poses an issue, because after one-hot encoding, the data sets have a differing number of features, which makes it impossible to use the model fitted to the training data to be tested on the testing data.<br>\n",
    "<br>\n",
    "There are a number of ways that this can be dealt with. One option is to add an additional country column to the training data named *Country_Sudan* and then set all the values in that column to 0, because, of course, there's no instance in the training data set in which the country is Sudan. <br>\n",
    "<br>\n",
    "Alternatively, one might think that a more generalizable solution would be to get a list of all the countries in the world and then add columns for each country. This would be a much better improvement on the previous option, because then the model could be generalized to any country. However, this would just present the algorithm with many meaningless features. And in any case, it wouldn't make sense to add these new features, as the model would be fitted to data not containing instances in which any of the newly added countries are present. Thus, in the real world, one would have to retrain the network on data with new countries before making predictions on the new countries.<br>\n",
    "<br>\n",
    "Or perhaps the problem can be made much simpler: why not just remove the country as a feature entirely? I made a (questionably) educated guess at the beginning of this document that the country would have minimal significance in determining crop yields. This would also then reduce the feature space after one-hot encoding substantially. However, my presumption may be unfounded, and I'd rather not go on training algorithms on it. So I'll instead perform an experiment and empirically determine if the country is indeed trivial in making predicitions of crop yields."
   ]
  },
  {
   "cell_type": "markdown",
   "id": "6feb4efc",
   "metadata": {},
   "source": [
    "<h3>Creating a training data set without the country feature to determine if it is truly negligible</h3>"
   ]
  },
  {
   "cell_type": "code",
   "execution_count": 372,
   "id": "26e9eb36",
   "metadata": {},
   "outputs": [
    {
     "data": {
      "text/plain": [
       "(25723, 14)"
      ]
     },
     "execution_count": 372,
     "metadata": {},
     "output_type": "execute_result"
    }
   ],
   "source": [
    "country_columns = [column for column in train_features.columns if \"Country\" in column]\n",
    "train_features_without_country = train_features.drop(country_columns, axis=1)\n",
    "\n",
    "scaled_train_features_without_country = scaler.fit_transform(train_features_without_country)\n",
    "normalizer_without_country = layers.Normalization(axis=-1)\n",
    "normalizer_without_country.adapt(np.array(train_features_without_country))\n",
    "\n",
    "train_features_without_country.shape"
   ]
  },
  {
   "cell_type": "markdown",
   "id": "09ebd067",
   "metadata": {},
   "source": [
    "The number of features is now 14, indicating that the countries were successfully removed from the *train_features*."
   ]
  },
  {
   "cell_type": "markdown",
   "id": "8965b81a",
   "metadata": {},
   "source": [
    "<h2>Testing if the country has neglibible effect in determining crop yields</h2>"
   ]
  },
  {
   "cell_type": "code",
   "execution_count": 442,
   "id": "180def59",
   "metadata": {},
   "outputs": [],
   "source": [
    "from sklearn.linear_model import LinearRegression\n",
    "from sklearn.ensemble import RandomForestRegressor\n",
    "from sklearn.model_selection import KFold, cross_val_score"
   ]
  },
  {
   "cell_type": "code",
   "execution_count": 373,
   "id": "77ea25a4",
   "metadata": {},
   "outputs": [],
   "source": [
    "x = scaled_train_features\n",
    "x_without_country = scaled_train_features_without_country\n",
    "y = train_target\n",
    "\n",
    "num_folds = 10\n",
    "kfold = KFold(n_splits=num_folds, shuffle=True, random_state=42)"
   ]
  },
  {
   "cell_type": "code",
   "execution_count": 220,
   "id": "a7457b21",
   "metadata": {},
   "outputs": [
    {
     "name": "stderr",
     "output_type": "stream",
     "text": [
      "[Parallel(n_jobs=-1)]: Using backend LokyBackend with 8 concurrent workers.\n",
      "[Parallel(n_jobs=-1)]: Done   6 out of  10 | elapsed:   30.5s remaining:   20.3s\n",
      "[Parallel(n_jobs=-1)]: Done  10 out of  10 | elapsed:   43.4s finished\n",
      "[Parallel(n_jobs=-1)]: Using backend LokyBackend with 8 concurrent workers.\n",
      "[Parallel(n_jobs=-1)]: Done   6 out of  10 | elapsed:    9.7s remaining:    6.5s\n",
      "[Parallel(n_jobs=-1)]: Done  10 out of  10 | elapsed:   16.2s finished\n"
     ]
    }
   ],
   "source": [
    "rf = RandomForestRegressor(random_state=42)\n",
    "rf_score_with_all_features = cross_val_score(rf, x, \n",
    "                                     y, \n",
    "                                     cv=kfold, \n",
    "                                     scoring=\"neg_root_mean_squared_error\",  \n",
    "                                     n_jobs=-1,\n",
    "                                     verbose=1)\n",
    "\n",
    "rf_score_without_country = cross_val_score(rf, x_without_country, \n",
    "                                        y, \n",
    "                                        cv=kfold, \n",
    "                                        scoring=\"neg_root_mean_squared_error\", \n",
    "                                        n_jobs=-1,\n",
    "                                        verbose=1)"
   ]
  },
  {
   "cell_type": "code",
   "execution_count": 374,
   "id": "86f896b9",
   "metadata": {},
   "outputs": [],
   "source": [
    "def get_rmse(rmse_arr):\n",
    "    average_rmse = round(-rmse_arr.mean())\n",
    "    \n",
    "    return average_rmse"
   ]
  },
  {
   "cell_type": "code",
   "execution_count": 221,
   "id": "5298f386",
   "metadata": {
    "scrolled": true
   },
   "outputs": [
    {
     "name": "stdout",
     "output_type": "stream",
     "text": [
      "Random Forest Regressor\n",
      "------------------------------\n",
      "RMSE with all features: 8648\n",
      "RMSE without the countries: 9994\n"
     ]
    }
   ],
   "source": [
    "rf_rmse_with_all_features = get_rmse(rf_score_with_all_features)\n",
    "rf_rmse_without_country = get_rmse(rf_score_without_country)\n",
    "\n",
    "\n",
    "print(\"Random Forest Regressor\")\n",
    "print('-'*30)\n",
    "print(\"RMSE with all features:\", rf_rmse_with_all_features)\n",
    "print(\"RMSE without the countries:\", rf_rmse_without_country)"
   ]
  },
  {
   "cell_type": "code",
   "execution_count": 375,
   "id": "f95155f5",
   "metadata": {},
   "outputs": [
    {
     "name": "stderr",
     "output_type": "stream",
     "text": [
      "[Parallel(n_jobs=-1)]: Using backend LokyBackend with 8 concurrent workers.\n",
      "[Parallel(n_jobs=-1)]: Done   6 out of  10 | elapsed:    2.9s remaining:    1.9s\n",
      "[Parallel(n_jobs=-1)]: Done  10 out of  10 | elapsed:    3.2s finished\n",
      "[Parallel(n_jobs=-1)]: Using backend LokyBackend with 8 concurrent workers.\n",
      "[Parallel(n_jobs=-1)]: Done   6 out of  10 | elapsed:    0.0s remaining:    0.0s\n",
      "[Parallel(n_jobs=-1)]: Done  10 out of  10 | elapsed:    0.1s finished\n"
     ]
    }
   ],
   "source": [
    "lr = LinearRegression()\n",
    "lr_score_with_all_features = cross_val_score(lr, x, y, cv=kfold, \n",
    "                                             scoring=\"neg_root_mean_squared_error\", n_jobs=-1, verbose=1)\n",
    "lr_score_without_country = cross_val_score(lr, x_without_country, y, cv=kfold, \n",
    "                                           scoring=\"neg_root_mean_squared_error\", n_jobs=-1, verbose=1)"
   ]
  },
  {
   "cell_type": "code",
   "execution_count": 376,
   "id": "5ec2b703",
   "metadata": {},
   "outputs": [
    {
     "name": "stdout",
     "output_type": "stream",
     "text": [
      "Linear Regression\n",
      "------------------------------\n",
      "RMSE with all features: 41215\n",
      "RMSE without country: 49743\n"
     ]
    }
   ],
   "source": [
    "lr_rmse_with_all_features = get_rmse(lr_score_with_all_features)\n",
    "lr_rmse_without_country = get_rmse(lr_score_without_country)\n",
    "\n",
    "print(\"Linear Regression\")\n",
    "print('-'*30)\n",
    "print(\"RMSE with all features:\", lr_rmse_with_all_features)\n",
    "print(\"RMSE without country:\", lr_rmse_without_country)"
   ]
  },
  {
   "cell_type": "markdown",
   "id": "36155e70",
   "metadata": {},
   "source": [
    "<font size=3>My hypothesis that the country has negligible impact in determining crop yields was clearly proven wrong. We can see that when the data excluded the country, the root-mean-squared error was higher by a somewhat significant margin. I will include country as a feature, but in order to do so, the number of features that the model will be fitted on must match the number of features that the model will be tested on.<br>\n",
    "So, what I will do is append Sudan as a column and set the values for each case to be 0 for it, because, of course, there's no instance in the dataset in which Sudan is present.\n",
    "</font>"
   ]
  },
  {
   "cell_type": "markdown",
   "id": "83d8b044",
   "metadata": {},
   "source": [
    "<h3>Adding only Sudan to the training data</h3>"
   ]
  },
  {
   "cell_type": "code",
   "execution_count": 443,
   "id": "d07ae52b",
   "metadata": {},
   "outputs": [
    {
     "data": {
      "text/plain": [
       "(25723, 115)"
      ]
     },
     "execution_count": 443,
     "metadata": {},
     "output_type": "execute_result"
    }
   ],
   "source": [
    "train_features[\"Country_Sudan\"] = np.zeros(len(train_features.index), dtype=np.uint8)\n",
    "train_features.shape"
   ]
  },
  {
   "cell_type": "code",
   "execution_count": 444,
   "id": "5f2321a6",
   "metadata": {},
   "outputs": [],
   "source": [
    "scaled_train_features = scaler.fit_transform(train_features)\n",
    "\n",
    "normalizer = layers.Normalization(axis=-1)\n",
    "normalizer.adapt(train_features)"
   ]
  },
  {
   "cell_type": "code",
   "execution_count": 229,
   "id": "5b389287",
   "metadata": {},
   "outputs": [
    {
     "name": "stderr",
     "output_type": "stream",
     "text": [
      "[Parallel(n_jobs=-1)]: Using backend LokyBackend with 8 concurrent workers.\n",
      "[Parallel(n_jobs=-1)]: Done   6 out of  10 | elapsed:   31.0s remaining:   20.7s\n",
      "[Parallel(n_jobs=-1)]: Done  10 out of  10 | elapsed:   44.7s finished\n"
     ]
    }
   ],
   "source": [
    "score = cross_val_score(rf, \n",
    "                        scaled_train_features, \n",
    "                         y, \n",
    "                         cv=kfold, \n",
    "                         scoring=\"neg_root_mean_squared_error\",  \n",
    "                         n_jobs=-1,\n",
    "                         verbose=1)"
   ]
  },
  {
   "cell_type": "code",
   "execution_count": 231,
   "id": "5ff1aeca",
   "metadata": {},
   "outputs": [
    {
     "name": "stdout",
     "output_type": "stream",
     "text": [
      "RMSE after adding Sudan as a category: 8660\n"
     ]
    }
   ],
   "source": [
    "print(\"RMSE after adding Sudan as a category:\", get_rmse(score))"
   ]
  },
  {
   "cell_type": "markdown",
   "id": "5ba344eb",
   "metadata": {},
   "source": [
    "<font size=3>Interestingly, adding Sudan as a category very slightly adversely affected the performance of the model.</font>"
   ]
  },
  {
   "cell_type": "markdown",
   "id": "a86a1033",
   "metadata": {},
   "source": [
    "<h1>Comparing Models</h1>"
   ]
  },
  {
   "cell_type": "code",
   "execution_count": 445,
   "id": "6f7a4c33",
   "metadata": {},
   "outputs": [],
   "source": [
    "from sklearn.neighbors import KNeighborsRegressor\n",
    "from sklearn.svm import SVR\n",
    "from sklearn.ensemble import GradientBoostingRegressor, AdaBoostRegressor\n",
    "from xgboost import XGBRegressor"
   ]
  },
  {
   "cell_type": "code",
   "execution_count": 446,
   "id": "360ee98a",
   "metadata": {},
   "outputs": [],
   "source": [
    "import tensorflow_docs as tfdocs\n",
    "import tensorflow_docs.modeling\n",
    "import tensorflow_docs.plots"
   ]
  },
  {
   "cell_type": "code",
   "execution_count": 447,
   "id": "ef0fc999",
   "metadata": {},
   "outputs": [],
   "source": [
    "full_model_names = {\"RF\": \"Random Forest\",\n",
    "                      \"LR\": \"Linear Regression\",\n",
    "                      \"SVM\":\"Support Vector Machine\",\n",
    "                      \"KNN\": \"K-Nearest Neighbours\",\n",
    "                      \"GB\":\"Gradient Boosting\",\n",
    "                      \"XGB\":\"XGBoost\",\n",
    "                      \"ADA\": \"AdaBoost\",\n",
    "                      \"DNN\":\"Deep Neural Network\"}\n",
    "\n",
    "def train_models_and_get_results(models, X, y, scoring):\n",
    "    \"\"\"Trains models passed and returns the results for them as a dictionary.\n",
    "    Parameters: \n",
    "        models - dictionary of machine learning algorithms; key=algorithm name, value=model\n",
    "        X - 2d array of features\n",
    "        y - 1d array representing target values\n",
    "        scoring - The scoring metric as defined by the sklearn documentation.\n",
    "    \"\"\"\n",
    "    \n",
    "    model_results = {}\n",
    "    for name, model in models.items():\n",
    "        # k-fold cross-validation with 10 folds.\n",
    "        kfold = KFold(n_splits=10)\n",
    "        \n",
    "        print(f\"Training {full_model_names[name]}...\")\n",
    "        cv_results = cross_val_score(model, X, y, cv=kfold, n_jobs=-1, scoring=scoring)\n",
    "        print(\"Training complete\")\n",
    "        \n",
    "        model_results[name] = get_rmse(cv_results)\n",
    "        \n",
    "        print(f\"RMSE: {model_results[name]}\\n\")\n",
    "        \n",
    "    \n",
    "    return model_results\n",
    "\n",
    "def plot_results(model_results):\n",
    "    model_results = dict(sorted(model_results.items(), key=lambda x: x[1]))\n",
    "    \n",
    "    width = 0 \n",
    "    for name in model_results.keys():\n",
    "        model_name = full_model_names[name] + f\" ({name})\"\n",
    "        width = max(width, len(model_name))\n",
    "    \n",
    "    print(\"Model Results (RMSE)\")\n",
    "    print('-'*30)\n",
    "    for name, score in model_results.items():\n",
    "        model_name = full_model_names[name] + f\" ({name})\"\n",
    "        results = \"{model_name:<{width}}: {score}\".format(model_name=model_name, width=width, score=score)\n",
    "        print(results)\n",
    "    \n",
    "    \n",
    "    fig, ax = plt.subplots(figsize=(5, 5))\n",
    "    model_names = list(model_results.keys())\n",
    "    model_scores = list(model_results.values())\n",
    "    data = {\"names\": model_names, \"scores\": model_scores}\n",
    "    sns.barplot(x=\"names\", y=\"scores\", data=data, ax=ax, palette=sns.color_palette(\"mako\", len(model_results)))\n",
    "    ax.set_title(\"Model Results Comparison\", fontsize=20)\n",
    "    ax.set_xticklabels(model_results.keys())\n",
    "    ax.set_xlabel(\"Models\", fontsize=15)\n",
    "    ax.set_ylabel(\"RMSE (Hectograms/Hectare)\", fontsize=15)\n",
    "    ax.tick_params(axis='x', labelsize=10)\n",
    "    ax.tick_params(axis='y', labelsize=10);"
   ]
  },
  {
   "cell_type": "code",
   "execution_count": 410,
   "id": "fcfd18f8",
   "metadata": {},
   "outputs": [
    {
     "name": "stdout",
     "output_type": "stream",
     "text": [
      "Training Random Forest...\n",
      "Training complete\n",
      "RMSE: 8687\n",
      "\n",
      "Training Linear Regression...\n",
      "Training complete\n",
      "RMSE: 41200\n",
      "\n",
      "Training Support Vector Machine...\n",
      "Training complete\n",
      "RMSE: 91660\n",
      "\n",
      "Training Gradient Boosting...\n",
      "Training complete\n",
      "RMSE: 29476\n",
      "\n",
      "Training K-Nearest Neighbours...\n",
      "Training complete\n",
      "RMSE: 9157\n",
      "\n",
      "Training XGBoost...\n",
      "Training complete\n",
      "RMSE: 12890\n",
      "\n",
      "Training AdaBoost...\n",
      "Training complete\n",
      "RMSE: 62136\n",
      "\n"
     ]
    }
   ],
   "source": [
    "models = {}\n",
    "models[\"RF\"] = RandomForestRegressor(n_jobs=-1)\n",
    "models[\"LR\"] = LinearRegression()\n",
    "models[\"SVM\"] = SVR()\n",
    "models[\"GB\"] = GradientBoostingRegressor()\n",
    "models[\"KNN\"] = KNeighborsRegressor()\n",
    "models[\"XGB\"] = XGBRegressor(n_jobs=-1)\n",
    "models[\"ADA\"] = AdaBoostRegressor()\n",
    "\n",
    "model_results = train_models_and_get_results(models, scaled_train_features, train_target, scoring=\"neg_root_mean_squared_error\")"
   ]
  },
  {
   "cell_type": "code",
   "execution_count": 427,
   "id": "6762fec9",
   "metadata": {},
   "outputs": [],
   "source": [
    "def build_and_compile_model():\n",
    "    model = keras.Sequential([\n",
    "        normalizer,\n",
    "        layers.Dense(128, activation=\"relu\"),\n",
    "        layers.Dense(128, activation=\"relu\"),\n",
    "        layers.Dense(1)\n",
    "    ])\n",
    "    \n",
    "    lr_schedule = keras.optimizers.schedules.ExponentialDecay(\n",
    "            initial_learning_rate=0.1,\n",
    "            decay_steps=100,\n",
    "            decay_rate=0.98\n",
    "    )\n",
    "    \n",
    "    model.compile(optimizer=keras.optimizers.Adam(0.1),\n",
    "                 loss=\"mean_squared_error\",\n",
    "                 metrics=keras.metrics.RootMeanSquaredError())\n",
    "    \n",
    "    model.summary()\n",
    "    \n",
    "    return model\n",
    "\n",
    "def fit_model(model):\n",
    "    num_epochs = 50\n",
    "    print(f\"Training neural network for {num_epochs} epochs...\")\n",
    "    history = model.fit(train_features,\n",
    "                       train_target,\n",
    "                       epochs=num_epochs,\n",
    "                       validation_split=0.2,\n",
    "                       verbose=0)\n",
    "    print(\"Training complete\")\n",
    "    \n",
    "    error_arr = np.array(history.history[\"val_root_mean_squared_error\"])\n",
    "    min_elements = np.array([])\n",
    "    for index in error_arr.argsort()[:3]:\n",
    "        min_elements = np.append(min_elements, error_arr[index])\n",
    "    rmse = round(min_elements.mean())\n",
    "    print(f\"RMSE: {rmse}\")\n",
    "    \n",
    "    print(np.array)\n",
    "    return history"
   ]
  },
  {
   "cell_type": "code",
   "execution_count": 419,
   "id": "65bdcf57",
   "metadata": {},
   "outputs": [
    {
     "name": "stdout",
     "output_type": "stream",
     "text": [
      "Model: \"sequential_14\"\n",
      "_________________________________________________________________\n",
      " Layer (type)                Output Shape              Param #   \n",
      "=================================================================\n",
      " normalization_12 (Normaliza  (None, 115)              231       \n",
      " tion)                                                           \n",
      "                                                                 \n",
      " dense_34 (Dense)            (None, 128)               14848     \n",
      "                                                                 \n",
      " dense_35 (Dense)            (None, 128)               16512     \n",
      "                                                                 \n",
      " dense_36 (Dense)            (None, 1)                 129       \n",
      "                                                                 \n",
      "=================================================================\n",
      "Total params: 31,720\n",
      "Trainable params: 31,489\n",
      "Non-trainable params: 231\n",
      "_________________________________________________________________\n"
     ]
    }
   ],
   "source": [
    "model = build_and_compile_model()"
   ]
  },
  {
   "cell_type": "code",
   "execution_count": 428,
   "id": "2362eea2",
   "metadata": {
    "scrolled": true
   },
   "outputs": [
    {
     "name": "stdout",
     "output_type": "stream",
     "text": [
      "Training neural network for 50 epochs...\n",
      "Training complete\n",
      "RMSE: 9370\n",
      "<built-in function array>\n"
     ]
    }
   ],
   "source": [
    "dnn_history = fit_model(model)"
   ]
  },
  {
   "cell_type": "code",
   "execution_count": 433,
   "id": "821d796e",
   "metadata": {},
   "outputs": [],
   "source": [
    "error_arr = np.array(dnn_history.history[\"val_root_mean_squared_error\"])\n",
    "min_elements = np.array([])\n",
    "for index in error_arr.argsort()[:3]:\n",
    "    min_elements = np.append(min_elements, error_arr[index])\n",
    "rmse = round(min_elements.mean())\n",
    "model_results[\"DNN\"] = rmse"
   ]
  },
  {
   "cell_type": "code",
   "execution_count": 448,
   "id": "37d4d951",
   "metadata": {},
   "outputs": [
    {
     "name": "stdout",
     "output_type": "stream",
     "text": [
      "Model Results (RMSE)\n",
      "------------------------------\n",
      "Random Forest (RF)          : 8687\n",
      "K-Nearest Neighbours (KNN)  : 9157\n",
      "Deep Neural Network (DNN)   : 9370\n",
      "XGBoost (XGB)               : 12890\n",
      "Gradient Boosting (GB)      : 29476\n",
      "Linear Regression (LR)      : 41200\n",
      "AdaBoost (ADA)              : 62136\n",
      "Support Vector Machine (SVM): 91660\n"
     ]
    },
    {
     "data": {
      "image/png": "[encoded data removed]",
      "text/plain": [
       "<Figure size 360x360 with 1 Axes>"
      ]
     },
     "metadata": {
      "needs_background": "light"
     },
     "output_type": "display_data"
    }
   ],
   "source": [
    "plot_results(model_results)"
   ]
  },
  {
   "cell_type": "markdown",
   "id": "8814ebe3",
   "metadata": {},
   "source": [
    "<font size=3>The 3 algorithms that performed best were, from best to worst, the random forest, k-nearest neighbors, and deep neural network. They were all tested in their default implementation or in a simple state, so I will try tune them all further and see how they perform in their most optimal form.<br>\n",
    "<br>\n",
    "Since the pool of models I'm now comparing has diminished, I will validate each model more thoroughly by using repeated k-fold cross-validation for the sklearn models and training the neural network over more epochs.</font>"
   ]
  },
  {
   "cell_type": "markdown",
   "id": "d5ce53f6",
   "metadata": {},
   "source": [
    "<h1>Fine-Tuning the Best Models</h1>"
   ]
  },
  {
   "cell_type": "code",
   "execution_count": 592,
   "id": "bcee1bf2",
   "metadata": {},
   "outputs": [],
   "source": [
    "from sklearn.model_selection import RandomizedSearchCV, train_test_split"
   ]
  },
  {
   "cell_type": "code",
   "execution_count": 604,
   "id": "5a192b9c",
   "metadata": {},
   "outputs": [],
   "source": [
    "num_folds = 10\n",
    "def get_score(estimator):\n",
    "    \"\"\"Returns a numpy array containing the rmse achieved by an estimator for each iteration \n",
    "    of cross-validation.\"\"\"\n",
    "    kfold = KFold(n_splits=num_folds, random_state=42, shuffle=True)\n",
    "    return cross_val_score(estimator, \n",
    "                           scaled_train_features,\n",
    "                           train_target,\n",
    "                           cv=kfold,\n",
    "                           scoring=\"neg_root_mean_squared_error\",\n",
    "                           n_jobs=-1)"
   ]
  },
  {
   "cell_type": "markdown",
   "id": "fe2ef5ad",
   "metadata": {},
   "source": [
    "<h2>Random Forest</h2>"
   ]
  },
  {
   "cell_type": "markdown",
   "id": "bc15912b",
   "metadata": {},
   "source": [
    "<font size=3>The approach I usually employ when tuning the hyperparameters of sklearn models is that I perform some number of evaluations of randomized combinations of hyperparameters and save the combination that performed best.</font>"
   ]
  },
  {
   "cell_type": "code",
   "execution_count": 455,
   "id": "c7130ce2",
   "metadata": {},
   "outputs": [
    {
     "data": {
      "text/plain": [
       "{'bootstrap': True,\n",
       " 'ccp_alpha': 0.0,\n",
       " 'criterion': 'squared_error',\n",
       " 'max_depth': None,\n",
       " 'max_features': 'auto',\n",
       " 'max_leaf_nodes': None,\n",
       " 'max_samples': None,\n",
       " 'min_impurity_decrease': 0.0,\n",
       " 'min_samples_leaf': 1,\n",
       " 'min_samples_split': 2,\n",
       " 'min_weight_fraction_leaf': 0.0,\n",
       " 'n_estimators': 100,\n",
       " 'n_jobs': None,\n",
       " 'oob_score': False,\n",
       " 'random_state': None,\n",
       " 'verbose': 0,\n",
       " 'warm_start': False}"
      ]
     },
     "execution_count": 455,
     "metadata": {},
     "output_type": "execute_result"
    }
   ],
   "source": [
    "rf.get_params()"
   ]
  },
  {
   "cell_type": "markdown",
   "id": "dbbd1017",
   "metadata": {},
   "source": [
    "<font size=3>The above output shows the hyperparameters of the random forest as well as their default values. I referenced this article to discern how each parameter affects performance: https://www.analyticsvidhya.com/blog/2020/03/beginners-guide-random-forest-hyperparameter-tuning/<br>\n",
    "<br>\n",
    "Below I collect the scores of the model trained on differing values of hyperparameters with all other hyperparameters held constant, so that I can find the most optimal values of them to implement in the final model. An alternative would be to run an exhaustive search, but that method would take too much time, so instead, I use some a priori knowledge to speed up the process.</font>"
   ]
  },
  {
   "cell_type": "markdown",
   "id": "47617fd6",
   "metadata": {},
   "source": [
    "<h3>Number of estimators</h3>"
   ]
  },
  {
   "cell_type": "code",
   "execution_count": 558,
   "id": "11e6b8bb",
   "metadata": {},
   "outputs": [
    {
     "name": "stdout",
     "output_type": "stream",
     "text": [
      "Training random forest with 100 estimators...\n",
      "RMSE: 10709.0241193724\n",
      "Completed\n",
      "\n",
      "Training random forest with 200 estimators...\n",
      "RMSE: 10591.293991088261\n",
      "Completed\n",
      "\n",
      "Training random forest with 300 estimators...\n",
      "RMSE: 10661.15360321313\n",
      "Completed\n",
      "\n",
      "Training random forest with 400 estimators...\n",
      "RMSE: 10613.013445668737\n",
      "Completed\n",
      "\n",
      "Training random forest with 500 estimators...\n",
      "RMSE: 10632.344731892055\n",
      "Completed\n",
      "\n",
      "Training random forest with 600 estimators...\n",
      "RMSE: 10601.030434280921\n",
      "Completed\n",
      "\n",
      "Training random forest with 700 estimators...\n",
      "RMSE: 10611.118968633436\n",
      "Completed\n",
      "\n",
      "Training random forest with 800 estimators...\n",
      "RMSE: 10607.362427464323\n",
      "Completed\n",
      "\n",
      "Training random forest with 900 estimators...\n",
      "RMSE: 10647.183917778731\n",
      "Completed\n",
      "\n"
     ]
    }
   ],
   "source": [
    "n_estimators_scores = {}\n",
    "for num_estimators in range(100, 1000, 100):\n",
    "    print(f\"Training random forest with {num_estimators} estimators...\")\n",
    "    \n",
    "    rf = RandomForestRegressor(n_estimators=num_estimators)\n",
    "    scores = get_score(rf)\n",
    "    \n",
    "    n_estimators_scores[num_estimators] = -scores.mean()\n",
    "    print(\"RMSE:\", -scores.mean())\n",
    "    \n",
    "    print(\"Completed\\n\")"
   ]
  },
  {
   "cell_type": "markdown",
   "id": "f9dc1767",
   "metadata": {},
   "source": [
    "<h3>Max depth</h3>"
   ]
  },
  {
   "cell_type": "code",
   "execution_count": 481,
   "id": "bee1b7cd",
   "metadata": {},
   "outputs": [
    {
     "name": "stdout",
     "output_type": "stream",
     "text": [
      "Training random forest with a max depth of 10...\n",
      "Completed\n",
      "\n",
      "Training random forest with a max depth of 15...\n",
      "Completed\n",
      "\n",
      "Training random forest with a max depth of 20...\n",
      "Completed\n",
      "\n",
      "Training random forest with a max depth of 25...\n",
      "Completed\n",
      "\n",
      "Training random forest with a max depth of 30...\n",
      "Completed\n",
      "\n",
      "Training random forest with a max depth of 35...\n",
      "Completed\n",
      "\n",
      "Training random forest with a max depth of 40...\n",
      "Completed\n",
      "\n",
      "Training random forest with a max depth of 45...\n",
      "Completed\n",
      "\n",
      "Training random forest with a max depth of 50...\n",
      "Completed\n",
      "\n",
      "Training random forest with a max depth of 55...\n",
      "Completed\n",
      "\n",
      "Training random forest with a max depth of 60...\n",
      "Completed\n",
      "\n",
      "Training random forest with a max depth of 65...\n",
      "Completed\n",
      "\n",
      "Training random forest with a max depth of 70...\n",
      "Completed\n",
      "\n",
      "Training random forest with a max depth of 75...\n",
      "Completed\n",
      "\n"
     ]
    }
   ],
   "source": [
    "max_depth_scores = {}\n",
    "for depth in range(10, 80, 5):\n",
    "    print(f\"Training random forest with a max depth of {depth}...\")\n",
    "    \n",
    "    rf = RandomForestRegressor(max_depth=depth)\n",
    "    scores = get_score(rf)\n",
    "    \n",
    "    max_depth_scores[depth] = -scores.mean()\n",
    "    \n",
    "    print(\"Completed\\n\")"
   ]
  },
  {
   "cell_type": "markdown",
   "id": "537140d9",
   "metadata": {},
   "source": [
    "<h3>Bootstrap state</h3>"
   ]
  },
  {
   "cell_type": "code",
   "execution_count": 506,
   "id": "df4b1974",
   "metadata": {},
   "outputs": [
    {
     "name": "stdout",
     "output_type": "stream",
     "text": [
      "Training random forest with boostrapping...\n",
      "9161.75046000036\n",
      "Completed\n",
      "\n",
      "Training random forest without boostrapping...\n",
      "9181.048651768015\n",
      "Completed\n",
      "\n"
     ]
    }
   ],
   "source": [
    "bootstrap_scores = {}\n",
    "bootstrap_states = [True, False]\n",
    "for bootstrap_state in bootstrap_states:\n",
    "    print(\"Training random forest \" + (\"with\" if bootstrap_state == True else \"without\") + \" boostrapping...\") \n",
    "    \n",
    "    rf = RandomForestRegressor(bootstrap=bootrstrap_state)\n",
    "    scores = get_score(rf)\n",
    "    \n",
    "    bootstrap_scores[bootstrap_state] = -scores.mean()\n",
    "    print(\"RMSE:\", -scores.mean())\n",
    "    \n",
    "    print(\"Completed\\n\")\n",
    "    "
   ]
  },
  {
   "cell_type": "markdown",
   "id": "d19509cb",
   "metadata": {},
   "source": [
    "<h3>Minimum samples for split</h3>"
   ]
  },
  {
   "cell_type": "code",
   "execution_count": 511,
   "id": "56b55fbe",
   "metadata": {},
   "outputs": [
    {
     "name": "stdout",
     "output_type": "stream",
     "text": [
      "Training random forest with a minimum sample split of 2...\n",
      "RMSE: 9165.928784535665\n",
      "Completed\n",
      "\n",
      "Training random forest with a minimum sample split of 3...\n",
      "RMSE: 9231.677853808\n",
      "Completed\n",
      "\n",
      "Training random forest with a minimum sample split of 4...\n",
      "RMSE: 9277.191597553947\n",
      "Completed\n",
      "\n",
      "Training random forest with a minimum sample split of 5...\n",
      "RMSE: 9347.786067836609\n",
      "Completed\n",
      "\n",
      "Training random forest with a minimum sample split of 6...\n",
      "RMSE: 9500.827181242083\n",
      "Completed\n",
      "\n",
      "Training random forest with a minimum sample split of 7...\n",
      "RMSE: 9564.63647349709\n",
      "Completed\n",
      "\n",
      "Training random forest with a minimum sample split of 8...\n",
      "RMSE: 9771.372855053642\n",
      "Completed\n",
      "\n",
      "Training random forest with a minimum sample split of 9...\n",
      "RMSE: 10117.69765697028\n",
      "Completed\n",
      "\n"
     ]
    }
   ],
   "source": [
    "min_samples_split_scores = {}\n",
    "for min_samples_split in range(2, 10, 1):\n",
    "    print(f\"Training random forest with a minimum sample split of {min_samples_split}...\")\n",
    "    \n",
    "    rf = RandomForestRegressor(min_samples_split=min_samples_split)\n",
    "    scores = get_score(rf)\n",
    "    print(\"RMSE:\", -scores.mean())\n",
    "    min_samples_split_scores[min_samples_split] = -scores.mean()\n",
    "    \n",
    "    print(\"Completed\\n\")"
   ]
  },
  {
   "cell_type": "markdown",
   "id": "cafb5840",
   "metadata": {},
   "source": [
    "<h3>Minimum samples for leaf</h3>"
   ]
  },
  {
   "cell_type": "code",
   "execution_count": 516,
   "id": "70543416",
   "metadata": {},
   "outputs": [
    {
     "name": "stdout",
     "output_type": "stream",
     "text": [
      "Training random forest with a minimum samples per leaf of 1...\n",
      "RMSE: 10641.987161108918\n",
      "Completed\n",
      "\n",
      "Training random forest with a minimum samples per leaf of 3...\n",
      "RMSE: 12348.54886224027\n",
      "Completed\n",
      "\n",
      "Training random forest with a minimum samples per leaf of 5...\n",
      "RMSE: 14356.351069368722\n",
      "Completed\n",
      "\n",
      "Training random forest with a minimum samples per leaf of 7...\n",
      "RMSE: 15895.345937187476\n",
      "Completed\n",
      "\n",
      "Training random forest with a minimum samples per leaf of 9...\n",
      "RMSE: 17451.277509902684\n",
      "Completed\n",
      "\n",
      "Training random forest with a minimum samples per leaf of 11...\n",
      "RMSE: 19038.213981616216\n",
      "Completed\n",
      "\n",
      "Training random forest with a minimum samples per leaf of 13...\n",
      "RMSE: 19930.55804562859\n",
      "Completed\n",
      "\n",
      "Training random forest with a minimum samples per leaf of 15...\n",
      "RMSE: 20743.100574908487\n",
      "Completed\n",
      "\n",
      "Training random forest with a minimum samples per leaf of 17...\n",
      "RMSE: 21763.632890586567\n",
      "Completed\n",
      "\n",
      "Training random forest with a minimum samples per leaf of 19...\n",
      "RMSE: 22614.32353598391\n",
      "Completed\n",
      "\n"
     ]
    }
   ],
   "source": [
    "min_samples_leaf_scores = {}\n",
    "for min_samples_leaf in range(1, 20, 2):\n",
    "    print(f\"Training random forest with a minimum samples per leaf of {min_samples_leaf}...\")\n",
    "    \n",
    "    rf = RandomForestRegressor(min_samples_leaf=min_samples_leaf)\n",
    "    scores = get_score(rf)\n",
    "    print(\"RMSE:\", -scores.mean())\n",
    "    min_samples_leaf_scores[min_samples_leaf] = -scores.mean()\n",
    "    \n",
    "    print(\"Completed\\n\")"
   ]
  },
  {
   "cell_type": "markdown",
   "id": "75424350",
   "metadata": {},
   "source": [
    "<h3>Maximum number of features to consider at split</h3>"
   ]
  },
  {
   "cell_type": "code",
   "execution_count": 554,
   "id": "59dac040",
   "metadata": {},
   "outputs": [
    {
     "name": "stdout",
     "output_type": "stream",
     "text": [
      "Training random forest with the maximum number of features considered at each split set to None...\n",
      "RMSE: 10601.743959694864\n",
      "Completed\n",
      "\n",
      "Training random forest with the maximum number of features considered at each split set to sqrt...\n",
      "RMSE: 11212.906484635641\n",
      "Completed\n",
      "\n"
     ]
    }
   ],
   "source": [
    "max_features_modes_scores = {}\n",
    "# None for all features\n",
    "max_features_modes = [None, 'sqrt']\n",
    "for max_features_mode in max_features_modes:\n",
    "    print(f\"Training random forest with the maximum number of features considered at each split set to {max_features_mode}...\")\n",
    "    \n",
    "    rf = RandomForestRegressor(max_features=max_features_mode, random_state=42)\n",
    "    scores = get_score(rf)\n",
    "    max_features_modes_scores[max_features_mode] = -scores.mean()\n",
    "    print(\"RMSE:\", -scores.mean())\n",
    "    \n",
    "    print(\"Completed\\n\")"
   ]
  },
  {
   "cell_type": "markdown",
   "id": "71afe3d2",
   "metadata": {},
   "source": [
    "<h3>Plotting the results</h3>"
   ]
  },
  {
   "cell_type": "code",
   "execution_count": 561,
   "id": "ff7e047c",
   "metadata": {},
   "outputs": [
    {
     "data": {
      "image/png": "[encoded data removed]",
      "text/plain": [
       "<Figure size 720x504 with 6 Axes>"
      ]
     },
     "metadata": {
      "needs_background": "light"
     },
     "output_type": "display_data"
    }
   ],
   "source": [
    "fig = plt.figure(figsize=(10, 7), constrained_layout=True)\n",
    "fig.suptitle(\"Effects of Random Forest Hyperparameters on Performance (RMSE on y-axis)\", fontsize=20)\n",
    "\n",
    "rows = 2\n",
    "cols = 3\n",
    "\n",
    "# Number of estimators\n",
    "ax = fig.add_subplot(rows, cols, 1)\n",
    "x = list(n_estimators_scores.keys())\n",
    "y = list(n_estimators_scores.values())\n",
    "ax.plot(x, y)\n",
    "ax.set_ylim([0, max(y) + 1000])\n",
    "ax.set_xlabel(\"Number of estimators\")\n",
    "\n",
    "\n",
    "# Max depth\n",
    "ax = fig.add_subplot(rows, cols, 2)\n",
    "x = list(max_depth_scores.keys())\n",
    "y = list(max_depth_scores.values())\n",
    "ax.set_ylim([0, max(y) + 1000])\n",
    "ax.set_xlabel(\"Max depth\")\n",
    "ax.plot(x, y)\n",
    "\n",
    "# Bootstrapping\n",
    "ax = fig.add_subplot(rows, cols, 3)\n",
    "x = [str(state) for state in list(bootstrap_scores.keys())]\n",
    "y = list(bootstrap_scores.values())\n",
    "ax.bar(x, y, color=[\"Green\", \"Red\"])\n",
    "ax.set_xlabel(\"Bootstrap state\")\n",
    "\n",
    "# Min samples split\n",
    "ax = fig.add_subplot(rows, cols, 4)\n",
    "x = list(min_samples_split_scores.keys())\n",
    "y = list(min_samples_split_scores.values())\n",
    "ax.set_ylim([0, max(y) + 1000])\n",
    "ax.plot(x, y)\n",
    "ax.set_xlabel(\"Min samples for split\")\n",
    "\n",
    "# Min samples per leaf\n",
    "ax = fig.add_subplot(rows, cols, 5)\n",
    "x = list(min_samples_leaf_scores.keys())\n",
    "y = list(min_samples_leaf_scores.values())\n",
    "ax.set_ylim([0, max(y) + 1000])\n",
    "ax.plot(x, y)\n",
    "ax.set_xlabel(\"Min samples per leaf\")\n",
    "\n",
    "# Max features mode\n",
    "ax = fig.add_subplot(rows, cols, 6)\n",
    "x = []\n",
    "for max_features_mode in max_features_modes_scores.keys():\n",
    "    if max_features_mode == None:\n",
    "        x.append(\"All features\")\n",
    "    else:\n",
    "        x.append(max_features_mode)\n",
    "y = list(max_features_modes_scores.values())\n",
    "ax.bar(x, y, color=[\"blue\", \"purple\"])\n",
    "ax.set_xlabel(\"Max Features to Select from at each Split\");"
   ]
  },
  {
   "cell_type": "markdown",
   "id": "1feac194",
   "metadata": {},
   "source": [
    "<font size=3>The above plots show how the different hyperparameters affect the performance of the random forest. I'll use a combination of all the best hyperparameter values to implement in the final model.</font>"
   ]
  },
  {
   "cell_type": "code",
   "execution_count": 563,
   "id": "71b9149f",
   "metadata": {
    "scrolled": true
   },
   "outputs": [
    {
     "name": "stdout",
     "output_type": "stream",
     "text": [
      "Training tuned random forest...\n",
      "Training completed\n",
      "\n",
      "Training default random forest...\n",
      "Training completed\n",
      "\n",
      "Tuned random forest score (RMSE): 8635.666665857916\n",
      "Default random forest score (RMSE): 8599.512860161138\n"
     ]
    }
   ],
   "source": [
    "tuned_rf = RandomForestRegressor(n_estimators=200, \n",
    "                                 max_depth=25, \n",
    "                               bootstrap=True, \n",
    "                               min_samples_split=2,\n",
    "                               min_samples_leaf=1,\n",
    "                               max_features=1.0, \n",
    "                               random_state=42)\n",
    "print(\"Training tuned random forest...\")\n",
    "tuned_rf_score = get_score(tuned_rf)\n",
    "print(\"Training completed\\n\")\n",
    "\n",
    "\n",
    "default_rf = RandomForestRegressor()\n",
    "print(\"Training default random forest...\")\n",
    "default_rf_score = get_score(default_rf)\n",
    "print(\"Training completed\\n\")\n",
    "\n",
    "print(\"Tuned random forest score (RMSE):\", -tuned_rf_score.mean())\n",
    "print(\"Default random forest score (RMSE):\", -default_rf_score.mean())"
   ]
  },
  {
   "cell_type": "markdown",
   "id": "1ab70c85",
   "metadata": {},
   "source": [
    "<font size=3>Tuning had no noticeable effect on performance. It seems Occam's razor prevails once again.</font>"
   ]
  },
  {
   "cell_type": "markdown",
   "id": "f27f31b6",
   "metadata": {},
   "source": [
    "<h2>K-Nearest Neighbours</h2>"
   ]
  },
  {
   "cell_type": "code",
   "execution_count": 598,
   "id": "ed7b9cf7",
   "metadata": {},
   "outputs": [
    {
     "data": {
      "text/plain": [
       "{'algorithm': 'auto',\n",
       " 'leaf_size': 30,\n",
       " 'metric': 'minkowski',\n",
       " 'metric_params': None,\n",
       " 'n_jobs': None,\n",
       " 'n_neighbors': 5,\n",
       " 'p': 2,\n",
       " 'weights': 'uniform'}"
      ]
     },
     "execution_count": 598,
     "metadata": {},
     "output_type": "execute_result"
    }
   ],
   "source": [
    "knn = KNeighborsRegressor()\n",
    "knn.get_params()"
   ]
  },
  {
   "cell_type": "markdown",
   "id": "71d9b607",
   "metadata": {},
   "source": [
    "<h3>Distance metrics</h3>"
   ]
  },
  {
   "cell_type": "code",
   "execution_count": 600,
   "id": "68844be2",
   "metadata": {},
   "outputs": [
    {
     "name": "stdout",
     "output_type": "stream",
     "text": [
      "Training KNN using the manhattan distance metric...\n",
      "RMSE: 8874.65111089197\n",
      "Completed\n",
      "\n",
      "Training KNN using the euclidean distance metric...\n",
      "RMSE: 9154.190116464673\n",
      "Completed\n",
      "\n",
      "Training KNN using the minkowski distance metric...\n",
      "RMSE: 9232.55531261475\n",
      "Completed\n",
      "\n"
     ]
    }
   ],
   "source": [
    "# The 'p' argument specifies the distance metric used. The default (p = 2) is the euclidean distance.\n",
    "# p = 1 is the manhattan distance. Any arbitrary p value > 3 is used for the minkowski distance.\n",
    "\n",
    "distance_metrics_scores = {}\n",
    "distance_metrics = {1: \"manhattan\", 2:\"euclidean\", 3:\"minkowski\"}\n",
    "\n",
    "# The default distance metric in the sklearn implementation of the k-nearest neighbours algorithm\n",
    "# is the euclidean distance.\n",
    "for i in range(1, 3+1):\n",
    "    print(f\"Training KNN using the {distance_metrics[i]} distance metric...\")\n",
    "    \n",
    "    knn = KNeighborsRegressor(p=i, n_jobs=-1)\n",
    "    score = get_score(knn, 10)\n",
    "    \n",
    "    distance_metrics_scores[distance_metrics[i]] = -score.mean()\n",
    "    print(\"RMSE:\", -score.mean())\n",
    "    \n",
    "    print(\"Completed\\n\")"
   ]
  },
  {
   "cell_type": "markdown",
   "id": "697d5380",
   "metadata": {},
   "source": [
    "<h3>Weights</h3>"
   ]
  },
  {
   "cell_type": "code",
   "execution_count": 606,
   "id": "f95a119f",
   "metadata": {},
   "outputs": [
    {
     "name": "stdout",
     "output_type": "stream",
     "text": [
      "Training KNN with uniform weight function...\n",
      "RMSE: 9154.190116464673\n",
      "Completed\n",
      "\n",
      "Training KNN with distance weight function...\n",
      "RMSE: 8055.526835046435\n",
      "Completed\n",
      "\n"
     ]
    }
   ],
   "source": [
    "weight_functions_scores = {}\n",
    "weight_functions = [\"uniform\", \"distance\"]\n",
    "\n",
    "for weight_function in weight_functions:\n",
    "    print(f\"Training KNN with {weight_function} weight function...\")\n",
    "    \n",
    "    knn = KNeighborsRegressor(n_jobs=-1, weights=weight_function)\n",
    "    score = get_score(knn)\n",
    "    print(\"RMSE:\", -score.mean())\n",
    "    weight_functions_scores[weight_function] = -score.mean()\n",
    "    \n",
    "    print(\"Completed\\n\")"
   ]
  },
  {
   "cell_type": "markdown",
   "id": "1a4d9a96",
   "metadata": {},
   "source": [
    "<h3>Number of neighbors</h3>"
   ]
  },
  {
   "cell_type": "code",
   "execution_count": 626,
   "id": "ae4b2f33",
   "metadata": {},
   "outputs": [
    {
     "name": "stdout",
     "output_type": "stream",
     "text": [
      "Training models...\n",
      "Training complete\n"
     ]
    }
   ],
   "source": [
    "n_neighbors_scores = {}\n",
    "\n",
    "print(\"Training models...\")\n",
    "for n_neighbors in range(2, 20, 1):\n",
    "    knn = KNeighborsRegressor(n_neighbors=n_neighbors, n_jobs=-1)\n",
    "    score = get_score(knn)\n",
    "    n_neighbors_scores[n_neighbors] = -score.mean()\n",
    "    \n",
    "print(\"Training complete\")"
   ]
  },
  {
   "cell_type": "markdown",
   "id": "0cddb658",
   "metadata": {},
   "source": [
    "<h3>Plotting the results</h3>"
   ]
  },
  {
   "cell_type": "code",
   "execution_count": 669,
   "id": "2ed85768",
   "metadata": {},
   "outputs": [
    {
     "data": {
      "text/html": [
       "<svg  width=\"275\" height=\"55\"><rect x=\"0\" y=\"0\" width=\"55\" height=\"55\" style=\"fill:#4c72b0;stroke-width:2;stroke:rgb(255,255,255)\"/><rect x=\"55\" y=\"0\" width=\"55\" height=\"55\" style=\"fill:#dd8452;stroke-width:2;stroke:rgb(255,255,255)\"/><rect x=\"110\" y=\"0\" width=\"55\" height=\"55\" style=\"fill:#55a868;stroke-width:2;stroke:rgb(255,255,255)\"/><rect x=\"165\" y=\"0\" width=\"55\" height=\"55\" style=\"fill:#c44e52;stroke-width:2;stroke:rgb(255,255,255)\"/><rect x=\"220\" y=\"0\" width=\"55\" height=\"55\" style=\"fill:#8172b3;stroke-width:2;stroke:rgb(255,255,255)\"/></svg>"
      ],
      "text/plain": [
       "[(0.2980392156862745, 0.4470588235294118, 0.6901960784313725),\n",
       " (0.8666666666666667, 0.5176470588235295, 0.3215686274509804),\n",
       " (0.3333333333333333, 0.6588235294117647, 0.40784313725490196),\n",
       " (0.7686274509803922, 0.3058823529411765, 0.3215686274509804),\n",
       " (0.5058823529411764, 0.4470588235294118, 0.7019607843137254)]"
      ]
     },
     "execution_count": 669,
     "metadata": {},
     "output_type": "execute_result"
    }
   ],
   "source": [
    "color_palette = sns.color_palette(\"deep\", n_colors=5)\n",
    "color_palette"
   ]
  },
  {
   "cell_type": "code",
   "execution_count": 648,
   "id": "7f96feb9",
   "metadata": {},
   "outputs": [],
   "source": [
    "import random"
   ]
  },
  {
   "cell_type": "code",
   "execution_count": 676,
   "id": "c795f6d6",
   "metadata": {},
   "outputs": [
    {
     "data": {
      "image/png": "[encoded data removed]",
      "text/plain": [
       "<Figure size 720x360 with 3 Axes>"
      ]
     },
     "metadata": {
      "needs_background": "light"
     },
     "output_type": "display_data"
    }
   ],
   "source": [
    "fig = plt.figure(figsize=(10, 5), constrained_layout=True)\n",
    "fig.suptitle(\"Effects of K-Nearest Neighbours Hyperparameters on Performance (RMSE on y-axis)\", fontsize=20)\n",
    "\n",
    "rows = 1\n",
    "cols = 3\n",
    "\n",
    "# Distance metric\n",
    "ax = fig.add_subplot(rows, cols, 1)\n",
    "x = list(distance_metrics_scores.keys())\n",
    "y = list(distance_metrics_scores.values())\n",
    "ax.bar(x, y, color=color_palette[:3])\n",
    "ax.set_xlabel(\"Distance metric\")\n",
    "\n",
    "# Weight function\n",
    "ax = fig.add_subplot(rows, cols, 2)\n",
    "x = list(weight_functions_scores.keys())\n",
    "y = list(weight_functions_scores.values())\n",
    "ax.bar(x, y, color=color_palette[-2:])\n",
    "ax.set_xlabel(\"Weight function\")\n",
    "\n",
    "# Num neighbours\n",
    "ax = fig.add_subplot(rows, cols, 3)\n",
    "x = list(n_neighbors_scores.keys())\n",
    "y = list(n_neighbors_scores.values())\n",
    "ax.plot(x, y)\n",
    "ax.set_ylim([0, max(y) + 1000])\n",
    "ax.set_xlabel(\"Number of neighbors\");"
   ]
  },
  {
   "cell_type": "code",
   "execution_count": 677,
   "id": "5e8613c5",
   "metadata": {},
   "outputs": [
    {
     "name": "stdout",
     "output_type": "stream",
     "text": [
      "Tuned KNN score (RMSE): 7928.161086035916\n",
      "Default KNN score (RMSE): 9154.190116464673\n"
     ]
    }
   ],
   "source": [
    "tuned_knn = KNeighborsRegressor(p=1, weights=\"distance\", n_neighbors=2, n_jobs=-1)\n",
    "tuned_knn_score = get_score(tuned_knn)\n",
    "\n",
    "default_knn = KNeighborsRegressor(n_jobs=-1)\n",
    "default_knn_score = get_score(default_knn)\n",
    "\n",
    "print(\"Tuned KNN score (RMSE):\", -tuned_knn_score.mean())\n",
    "print(\"Default KNN score (RMSE):\", -default_knn_score.mean())"
   ]
  },
  {
   "cell_type": "markdown",
   "id": "6fb5c4ef",
   "metadata": {},
   "source": [
    "<h2>Neural Network</h2"
   ]
  },
  {
   "cell_type": "markdown",
   "id": "f7fa0910",
   "metadata": {},
   "source": [
    "<h3>scikit-learn implementation</h3>"
   ]
  },
  {
   "cell_type": "code",
   "execution_count": 678,
   "id": "d88cab41",
   "metadata": {},
   "outputs": [],
   "source": [
    "from sklearn.neural_network import MLPRegressor"
   ]
  },
  {
   "cell_type": "code",
   "execution_count": null,
   "id": "5901ddff",
   "metadata": {},
   "outputs": [],
   "source": [
    "sklearn_nn = MLPRegressor()"
   ]
  }
 ],
 "metadata": {
  "kernelspec": {
   "display_name": "LoopQPrize",
   "language": "python",
   "name": "loopqprize"
  },
  "language_info": {
   "codemirror_mode": {
    "name": "ipython",
    "version": 3
   },
   "file_extension": ".py",
   "mimetype": "text/x-python",
   "name": "python",
   "nbconvert_exporter": "python",
   "pygments_lexer": "ipython3",
   "version": "3.8.13"
  }
 },
 "nbformat": 4,
 "nbformat_minor": 5
}
